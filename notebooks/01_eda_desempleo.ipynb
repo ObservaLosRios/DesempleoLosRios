{
 "cells": [
  {
   "cell_type": "markdown",
   "id": "34859045",
   "metadata": {},
   "source": [
    "# 🧪 Análisis Exploratorio de Datos (EDA)\n",
    "## Desempleo Región de Los Ríos (SU2) - Encuesta Nacional de Empleo (ENE)\n",
    "\n",
    "### Introducción\n",
    "\n",
    "Este notebook realiza un análisis exploratorio de los indicadores de desocupación en la Región de Los Ríos, segmentando por sexo y tramo etario, utilizando datos de la Encuesta Nacional de Empleo (ENE) del INE.  \n",
    "El objetivo es identificar patrones, tendencias y grupos de mayor vulnerabilidad, para fundamentar análisis posteriores y recomendaciones de política pública.\n",
    "\n",
    "---\n",
    "\n",
    "### Carga y Revisión de Datos\n",
    "\n",
    "- **Fuente:** INE - Encuesta Nacional de Empleo (ENE)\n",
    "- **Cobertura:** Región de Los Ríos, 2010-2025\n",
    "- **Variables clave:** periodo, valor, dimensión (sexo/tramo etario), categoría\n",
    "\n",
    "Se verifica la estructura, duplicados y valores nulos para asegurar la calidad del dataset antes"
   ]
  },
  {
   "cell_type": "code",
   "execution_count": 50,
   "id": "9e736f54",
   "metadata": {},
   "outputs": [
    {
     "name": "stdout",
     "output_type": "stream",
     "text": [
      "✅ Paleta daltónica AMARILLO-AZUL-GRIS cargada: 10 colores\n",
      "🎨 Colores principales: AMARILLO (#FFD700), AZUL (#1E88E5), GRIS (#757575)\n",
      "📊 Optimizada para protanomalía, deuteranomalía y tritanomalía\n",
      "📊 Dataset cargado: 15292 registros\n"
     ]
    },
    {
     "data": {
      "text/html": [
       "<div>\n",
       "<style scoped>\n",
       "    .dataframe tbody tr th:only-of-type {\n",
       "        vertical-align: middle;\n",
       "    }\n",
       "\n",
       "    .dataframe tbody tr th {\n",
       "        vertical-align: top;\n",
       "    }\n",
       "\n",
       "    .dataframe thead th {\n",
       "        text-align: right;\n",
       "    }\n",
       "</style>\n",
       "<table border=\"1\" class=\"dataframe\">\n",
       "  <thead>\n",
       "    <tr style=\"text-align: right;\">\n",
       "      <th></th>\n",
       "      <th>indicador</th>\n",
       "      <th>periodo</th>\n",
       "      <th>valor</th>\n",
       "      <th>region</th>\n",
       "      <th>dimension</th>\n",
       "      <th>categoria</th>\n",
       "    </tr>\n",
       "  </thead>\n",
       "  <tbody>\n",
       "    <tr>\n",
       "      <th>0</th>\n",
       "      <td>DES</td>\n",
       "      <td>2010-01-01/P3M</td>\n",
       "      <td>420.763708</td>\n",
       "      <td>11</td>\n",
       "      <td>tramo_edad</td>\n",
       "      <td>Y35T44</td>\n",
       "    </tr>\n",
       "    <tr>\n",
       "      <th>1</th>\n",
       "      <td>DES</td>\n",
       "      <td>2010-02-01/P3M</td>\n",
       "      <td>244.385161</td>\n",
       "      <td>11</td>\n",
       "      <td>tramo_edad</td>\n",
       "      <td>Y35T44</td>\n",
       "    </tr>\n",
       "    <tr>\n",
       "      <th>2</th>\n",
       "      <td>DES</td>\n",
       "      <td>2010-03-01/P3M</td>\n",
       "      <td>531.478140</td>\n",
       "      <td>11</td>\n",
       "      <td>tramo_edad</td>\n",
       "      <td>Y35T44</td>\n",
       "    </tr>\n",
       "    <tr>\n",
       "      <th>3</th>\n",
       "      <td>DES</td>\n",
       "      <td>2010-04-01/P3M</td>\n",
       "      <td>650.276185</td>\n",
       "      <td>11</td>\n",
       "      <td>tramo_edad</td>\n",
       "      <td>Y35T44</td>\n",
       "    </tr>\n",
       "    <tr>\n",
       "      <th>4</th>\n",
       "      <td>DES</td>\n",
       "      <td>2010-05-01/P3M</td>\n",
       "      <td>789.708634</td>\n",
       "      <td>11</td>\n",
       "      <td>tramo_edad</td>\n",
       "      <td>Y35T44</td>\n",
       "    </tr>\n",
       "  </tbody>\n",
       "</table>\n",
       "</div>"
      ],
      "text/plain": [
       "  indicador         periodo       valor region   dimension categoria\n",
       "0       DES  2010-01-01/P3M  420.763708     11  tramo_edad    Y35T44\n",
       "1       DES  2010-02-01/P3M  244.385161     11  tramo_edad    Y35T44\n",
       "2       DES  2010-03-01/P3M  531.478140     11  tramo_edad    Y35T44\n",
       "3       DES  2010-04-01/P3M  650.276185     11  tramo_edad    Y35T44\n",
       "4       DES  2010-05-01/P3M  789.708634     11  tramo_edad    Y35T44"
      ]
     },
     "execution_count": 50,
     "metadata": {},
     "output_type": "execute_result"
    }
   ],
   "source": [
    "import pandas as pd\n",
    "import plotly.express as px\n",
    "import plotly.graph_objects as go\n",
    "from plotly.subplots import make_subplots\n",
    "import plotly.io as pio\n",
    "\n",
    "# Configurar paleta de colores DALTÓNICA: AMARILLO, AZUL y GRIS\n",
    "# Colores específicamente optimizados para daltonismo con alta visibilidad\n",
    "economist_colors = [\n",
    "    '#FFD700',  # Amarillo dorado - máxima visibilidad para daltonismo\n",
    "    '#1E88E5',  # Azul brillante - alto contraste con amarillo\n",
    "    '#757575',  # Gris medio - neutral y distinguible\n",
    "    '#FFC107',  # Amarillo ámbar - variación del amarillo\n",
    "    '#2196F3',  # Azul material - variación del azul\n",
    "    '#9E9E9E',  # Gris claro - variación del gris\n",
    "    '#FFEB3B',  # Amarillo limón - tercera variación\n",
    "    '#0D47A1',  # Azul oscuro - cuarta variación\n",
    "    '#616161',  # Gris oscuro - cuarta variación\n",
    "    '#F57F17'   # Amarillo oscuro - quinta variación\n",
    "]\n",
    "\n",
    "# Validar que tenemos suficientes colores\n",
    "print(f\"✅ Paleta daltónica AMARILLO-AZUL-GRIS cargada: {len(economist_colors)} colores\")\n",
    "print(\"🎨 Colores principales: AMARILLO (#FFD700), AZUL (#1E88E5), GRIS (#757575)\")\n",
    "print(\"📊 Optimizada para protanomalía, deuteranomalía y tritanomalía\")\n",
    "\n",
    "# Configurar el template personalizado estilo The Economist\n",
    "def apply_economist_style(fig):\n",
    "    \"\"\"Aplica el estilo The Economist a una figura de Plotly con tipografía Georgia\"\"\"\n",
    "    fig.update_layout(\n",
    "        font=dict(family='Georgia, serif', color='#1e293b'),\n",
    "        title=dict(\n",
    "            font=dict(size=18, family='Georgia, serif', color='#1e293b'),\n",
    "            x=0.02,  # Alinear a la izquierda como The Economist\n",
    "            xanchor='left'\n",
    "        ),\n",
    "        xaxis=dict(\n",
    "            title=dict(font=dict(family='Georgia, serif')),\n",
    "            tickfont=dict(family='Georgia, serif'),\n",
    "            showgrid=True,\n",
    "            gridcolor='#E5E5E5',\n",
    "            gridwidth=0.5\n",
    "        ),\n",
    "        yaxis=dict(\n",
    "            title=dict(font=dict(family='Georgia, serif')),\n",
    "            tickfont=dict(family='Georgia, serif'),\n",
    "            showgrid=True,\n",
    "            gridcolor='#E5E5E5',\n",
    "            gridwidth=0.5\n",
    "        ),\n",
    "        legend=dict(\n",
    "            font=dict(family='Georgia, serif'),\n",
    "            orientation=\"h\",\n",
    "            yanchor=\"bottom\",\n",
    "            y=1.02,\n",
    "            xanchor=\"right\",\n",
    "            x=1\n",
    "        ),\n",
    "        plot_bgcolor='white',\n",
    "        paper_bgcolor='white',\n",
    "        margin=dict(l=60, r=40, t=80, b=60)\n",
    "    )\n",
    "    return fig\n",
    "\n",
    "# Cargar datos\n",
    "df = pd.read_csv(\"../data/processed/poblacion_desocupada_combinado.csv\")\n",
    "print(f\"📊 Dataset cargado: {len(df)} registros\")\n",
    "df.head()"
   ]
  },
  {
   "cell_type": "markdown",
   "id": "9955770e",
   "metadata": {},
   "source": [
    "### 📋 Revisión de Calidad y Estructura de los Datos\n",
    "\n",
    "A continuación, se revisa la estructura y calidad del dataset utilizando los siguientes comandos:\n"
   ]
  },
  {
   "cell_type": "code",
   "execution_count": 2,
   "id": "cd3150cd",
   "metadata": {},
   "outputs": [
    {
     "name": "stdout",
     "output_type": "stream",
     "text": [
      "<class 'pandas.core.frame.DataFrame'>\n",
      "RangeIndex: 15292 entries, 0 to 15291\n",
      "Data columns (total 6 columns):\n",
      " #   Column     Non-Null Count  Dtype  \n",
      "---  ------     --------------  -----  \n",
      " 0   indicador  15292 non-null  object \n",
      " 1   periodo    15292 non-null  object \n",
      " 2   valor      15292 non-null  float64\n",
      " 3   region     15292 non-null  object \n",
      " 4   dimension  15292 non-null  object \n",
      " 5   categoria  15292 non-null  object \n",
      "dtypes: float64(1), object(5)\n",
      "memory usage: 716.9+ KB\n"
     ]
    },
    {
     "data": {
      "text/plain": [
       "indicador    0\n",
       "periodo      0\n",
       "valor        0\n",
       "region       0\n",
       "dimension    0\n",
       "categoria    0\n",
       "dtype: int64"
      ]
     },
     "execution_count": 2,
     "metadata": {},
     "output_type": "execute_result"
    }
   ],
   "source": [
    "df.info()\n",
    "df.duplicated().sum()\n",
    "df.isnull().sum()"
   ]
  },
  {
   "cell_type": "markdown",
   "id": "5b31a3af",
   "metadata": {},
   "source": [
    "## 🕵️‍♂️ Distribución Temporal del Desempleo\n",
    "\n",
    "Visualizamos la evolución del desempleo desde 2010 hasta 2025."
   ]
  },
  {
   "cell_type": "code",
   "execution_count": 51,
   "id": "4bb56ab2",
   "metadata": {},
   "outputs": [
    {
     "data": {
      "application/vnd.plotly.v1+json": {
       "config": {
        "plotlyServerURL": "https://plot.ly"
       },
       "data": [
        {
         "fill": "tozeroy",
         "fillcolor": "rgba(255, 215, 0, 0.15)",
         "hovertemplate": "<b>Desempleo Total</b><br>Fecha: %{x}<br>Personas: %{y:,.0f}<extra></extra>",
         "line": {
          "color": "#FFD700",
          "width": 5
         },
         "marker": {
          "color": "#FFD700",
          "line": {
           "color": "white",
           "width": 2
          },
          "size": 7
         },
         "mode": "lines+markers",
         "name": "Desempleo Total",
         "type": "scatter",
         "x": [
          "2010-01-01T00:00:00.000000000",
          "2010-02-01T00:00:00.000000000",
          "2010-03-01T00:00:00.000000000",
          "2010-04-01T00:00:00.000000000",
          "2010-05-01T00:00:00.000000000",
          "2010-06-01T00:00:00.000000000",
          "2010-07-01T00:00:00.000000000",
          "2010-08-01T00:00:00.000000000",
          "2010-09-01T00:00:00.000000000",
          "2010-10-01T00:00:00.000000000",
          "2010-11-01T00:00:00.000000000",
          "2010-12-01T00:00:00.000000000",
          "2011-01-01T00:00:00.000000000",
          "2011-02-01T00:00:00.000000000",
          "2011-03-01T00:00:00.000000000",
          "2011-04-01T00:00:00.000000000",
          "2011-05-01T00:00:00.000000000",
          "2011-06-01T00:00:00.000000000",
          "2011-07-01T00:00:00.000000000",
          "2011-08-01T00:00:00.000000000",
          "2011-09-01T00:00:00.000000000",
          "2011-10-01T00:00:00.000000000",
          "2011-11-01T00:00:00.000000000",
          "2011-12-01T00:00:00.000000000",
          "2012-01-01T00:00:00.000000000",
          "2012-02-01T00:00:00.000000000",
          "2012-03-01T00:00:00.000000000",
          "2012-04-01T00:00:00.000000000",
          "2012-05-01T00:00:00.000000000",
          "2012-06-01T00:00:00.000000000",
          "2012-07-01T00:00:00.000000000",
          "2012-08-01T00:00:00.000000000",
          "2012-09-01T00:00:00.000000000",
          "2012-10-01T00:00:00.000000000",
          "2012-11-01T00:00:00.000000000",
          "2012-12-01T00:00:00.000000000",
          "2013-01-01T00:00:00.000000000",
          "2013-02-01T00:00:00.000000000",
          "2013-03-01T00:00:00.000000000",
          "2013-04-01T00:00:00.000000000",
          "2013-05-01T00:00:00.000000000",
          "2013-06-01T00:00:00.000000000",
          "2013-07-01T00:00:00.000000000",
          "2013-08-01T00:00:00.000000000",
          "2013-09-01T00:00:00.000000000",
          "2013-10-01T00:00:00.000000000",
          "2013-11-01T00:00:00.000000000",
          "2013-12-01T00:00:00.000000000",
          "2014-01-01T00:00:00.000000000",
          "2014-02-01T00:00:00.000000000",
          "2014-03-01T00:00:00.000000000",
          "2014-04-01T00:00:00.000000000",
          "2014-05-01T00:00:00.000000000",
          "2014-06-01T00:00:00.000000000",
          "2014-07-01T00:00:00.000000000",
          "2014-08-01T00:00:00.000000000",
          "2014-09-01T00:00:00.000000000",
          "2014-10-01T00:00:00.000000000",
          "2014-11-01T00:00:00.000000000",
          "2014-12-01T00:00:00.000000000",
          "2015-01-01T00:00:00.000000000",
          "2015-02-01T00:00:00.000000000",
          "2015-03-01T00:00:00.000000000",
          "2015-04-01T00:00:00.000000000",
          "2015-05-01T00:00:00.000000000",
          "2015-06-01T00:00:00.000000000",
          "2015-07-01T00:00:00.000000000",
          "2015-08-01T00:00:00.000000000",
          "2015-09-01T00:00:00.000000000",
          "2015-10-01T00:00:00.000000000",
          "2015-11-01T00:00:00.000000000",
          "2015-12-01T00:00:00.000000000",
          "2016-01-01T00:00:00.000000000",
          "2016-02-01T00:00:00.000000000",
          "2016-03-01T00:00:00.000000000",
          "2016-04-01T00:00:00.000000000",
          "2016-05-01T00:00:00.000000000",
          "2016-06-01T00:00:00.000000000",
          "2016-07-01T00:00:00.000000000",
          "2016-08-01T00:00:00.000000000",
          "2016-09-01T00:00:00.000000000",
          "2016-10-01T00:00:00.000000000",
          "2016-11-01T00:00:00.000000000",
          "2016-12-01T00:00:00.000000000",
          "2017-01-01T00:00:00.000000000",
          "2017-02-01T00:00:00.000000000",
          "2017-03-01T00:00:00.000000000",
          "2017-04-01T00:00:00.000000000",
          "2017-05-01T00:00:00.000000000",
          "2017-06-01T00:00:00.000000000",
          "2017-07-01T00:00:00.000000000",
          "2017-08-01T00:00:00.000000000",
          "2017-09-01T00:00:00.000000000",
          "2017-10-01T00:00:00.000000000",
          "2017-11-01T00:00:00.000000000",
          "2017-12-01T00:00:00.000000000",
          "2018-01-01T00:00:00.000000000",
          "2018-02-01T00:00:00.000000000",
          "2018-03-01T00:00:00.000000000",
          "2018-04-01T00:00:00.000000000",
          "2018-05-01T00:00:00.000000000",
          "2018-06-01T00:00:00.000000000",
          "2018-07-01T00:00:00.000000000",
          "2018-08-01T00:00:00.000000000",
          "2018-09-01T00:00:00.000000000",
          "2018-10-01T00:00:00.000000000",
          "2018-11-01T00:00:00.000000000",
          "2018-12-01T00:00:00.000000000",
          "2019-01-01T00:00:00.000000000",
          "2019-02-01T00:00:00.000000000",
          "2019-03-01T00:00:00.000000000",
          "2019-04-01T00:00:00.000000000",
          "2019-05-01T00:00:00.000000000",
          "2019-06-01T00:00:00.000000000",
          "2019-07-01T00:00:00.000000000",
          "2019-08-01T00:00:00.000000000",
          "2019-09-01T00:00:00.000000000",
          "2019-10-01T00:00:00.000000000",
          "2019-11-01T00:00:00.000000000",
          "2019-12-01T00:00:00.000000000",
          "2020-01-01T00:00:00.000000000",
          "2020-02-01T00:00:00.000000000",
          "2020-03-01T00:00:00.000000000",
          "2020-04-01T00:00:00.000000000",
          "2020-05-01T00:00:00.000000000",
          "2020-06-01T00:00:00.000000000",
          "2020-07-01T00:00:00.000000000",
          "2020-08-01T00:00:00.000000000",
          "2020-09-01T00:00:00.000000000",
          "2020-10-01T00:00:00.000000000",
          "2020-11-01T00:00:00.000000000",
          "2020-12-01T00:00:00.000000000",
          "2021-01-01T00:00:00.000000000",
          "2021-02-01T00:00:00.000000000",
          "2021-03-01T00:00:00.000000000",
          "2021-04-01T00:00:00.000000000",
          "2021-05-01T00:00:00.000000000",
          "2021-06-01T00:00:00.000000000",
          "2021-07-01T00:00:00.000000000",
          "2021-08-01T00:00:00.000000000",
          "2021-09-01T00:00:00.000000000",
          "2021-10-01T00:00:00.000000000",
          "2021-11-01T00:00:00.000000000",
          "2021-12-01T00:00:00.000000000",
          "2022-01-01T00:00:00.000000000",
          "2022-02-01T00:00:00.000000000",
          "2022-03-01T00:00:00.000000000",
          "2022-04-01T00:00:00.000000000",
          "2022-05-01T00:00:00.000000000",
          "2022-06-01T00:00:00.000000000",
          "2022-07-01T00:00:00.000000000",
          "2022-08-01T00:00:00.000000000",
          "2022-09-01T00:00:00.000000000",
          "2022-10-01T00:00:00.000000000",
          "2022-11-01T00:00:00.000000000",
          "2022-12-01T00:00:00.000000000",
          "2023-01-01T00:00:00.000000000",
          "2023-02-01T00:00:00.000000000",
          "2023-03-01T00:00:00.000000000",
          "2023-04-01T00:00:00.000000000",
          "2023-05-01T00:00:00.000000000",
          "2023-06-01T00:00:00.000000000",
          "2023-07-01T00:00:00.000000000",
          "2023-08-01T00:00:00.000000000",
          "2023-09-01T00:00:00.000000000",
          "2023-10-01T00:00:00.000000000",
          "2023-11-01T00:00:00.000000000",
          "2023-12-01T00:00:00.000000000",
          "2024-01-01T00:00:00.000000000",
          "2024-02-01T00:00:00.000000000",
          "2024-03-01T00:00:00.000000000",
          "2024-04-01T00:00:00.000000000",
          "2024-05-01T00:00:00.000000000",
          "2024-06-01T00:00:00.000000000",
          "2024-07-01T00:00:00.000000000",
          "2024-08-01T00:00:00.000000000",
          "2024-09-01T00:00:00.000000000",
          "2024-10-01T00:00:00.000000000",
          "2024-11-01T00:00:00.000000000",
          "2024-12-01T00:00:00.000000000",
          "2025-01-01T00:00:00.000000000",
          "2025-02-01T00:00:00.000000000"
         ],
         "y": {
          "bdata": "kSLkZ+TKDUF1GAbJm6UNQZPk+W7ueQ9BjJCbO2vNDEH3bLWvslgLQcbthYTusgtBY9o4fCULD0GtFb/HRm0OQcMQmqez4gxBKyC8/TMUC0E0hvUEogEOQWoo+E7ynQ9BjeW9wKKTC0EfAsDUavYKQcRrsddjWQxBDEcgEMYjDUE0cSgWJZ0NQbaAhZJzTQ1BYdocoqg+DEFEH2Gxf8IKQfys8OWpXAxBNcu6RSgkCkHP6thrbqgJQf4kKcidBgpBCuU9FZhhDUHak1L+VJ0MQfs1plyDnQlBzeinwcGACEFPtdXxS6IJQf5fE8R+ugpBk/ox10GkDUH6ASi5kOkLQZXJ0NBligtBtLHOiWILCUFfIRi1Z5YJQUGYs5hRjwlBPoAT1OaJCUEAkMDyg1MKQeBPHhFcEgtBNrasFqHGCkHM4Z/yGrAKQVL8CowurgxBpeAXgpi2DEF+mQ/LpjsNQVJQiIxMEgxB5Rt94v08C0HFWJloufsIQYaw/o66LAtBw7bqkRNPCkE+p3ZKcUQLQYOqEvKEQgpB7xebthLoCkH1JjkTNBQMQZyU8rysIApBU9i0ltHzCkHbhKWLzzQKQanKzmnHOQpB4zr3z40CC0FDeRD/faoLQeCct7FlvwpBgHVbRObODUHxbjb38EYOQf969n83zg5Be2M7HxPUDUGZFPc8G2kMQaAsZTuBFg1B5oQFuvSPDkHVWszXU5QNQZpjacvjWwxBXMfjkejUDUEijpjzKYUOQchXvUmk9wxBE7oagJaIDUGydevb3FMPQWX+f88erw5Bsofzr3oYD0H0AYndCDgQQbuL4HpYrxBBV6ZNJCwKEEEznjFnd24PQcMf5V6DVBFBVLBUohieDkEf8xY3fJ8QQWOJBR4fyw9B0GEBxqpfEEEWHZFlFScQQXUhXMjw2hBBz1u5mh0hEUHcIKwhJeAQQTU9leqzgxFBGUN8ZylqEUHaIZuqiMgQQYITYaq+vBBB18JJDbe8EEGzELWBhHsTQbIK8hN1uBNBFOeBsbP6D0FKPiaNFuQNQSj2s5Y6bA9BC+TAXRHzDUGFtV2RZxkRQTXRJ2qo7hBB13U44JSIEEEwtOio4pwQQZVcCj7dTRFBwk+p0+4MEkHYskGIxp8QQXw54VhENhFBtWuitNdWEEG1OM13VD8QQcaIKo8zIBFBxh1I/Jw8EkGd3B2Su2UTQZCdkotbPhJBgKRG06zoEEHK+dSZ6gERQUyBV0CvkBFB1fAvqP7eEUFnYV9bkH4QQSTYbrBIGxFB95TC47nbE0EjvHbQ158VQeqgMR4V0RxBbmI9DhBtHUFPUWNreFoaQTbY3q4Kwx9BQ3Db88KyG0EdcfGPr7gaQQ/Vw2DRfxhB7mCLZcuPGEHcRewru58XQWFnQ/VaVhVB6ycPvieqFEGcU4LaNJ8UQReORO3KuBNB9Mdr5vk/EkFdRnEBwqURQcQCqdfjbBFBUGcYO4kiEEEaEnBUZQIQQSbHf+FklBBBMtxNC60kEEFhqHU7qMcSQbNQ7O970RJB3xWn4MqpE0FI0uJghpESQYCSXYECqhJBf9LHvekaFEFhsEAr1MQTQXtQiJSqPBRBNu0jEC/PFEEo9gYxXwYVQQ+rVfXNVhRB77hVdLT1E0GjW211ZfcTQY8Y+r8rKRVBg91VTAs4FUHaAFuyuSgUQYj1wd23vxJBmdpG+9CrEkH1f9yJFuoRQWMMUiav7BFB/VJyGaLGEkEfsilEyfkUQXlsifSquBVBCVh4gpgbFkFgZelT3+ESQVmSdgXwLRJBKlLumqxmE0GUJTbEVuESQXBw6Xr7WBNBzEu58mx0E0EOZq8uyOETQfVJGdUl5RRBpybAlcfCFEGRaadgOJ4VQWbPZdL7phRBC19zfahcFkH0ocHtklsVQfZXeVOJUhZBXq1Tq5VqFUHJwn4wu1sVQQ==",
          "dtype": "f8"
         }
        },
        {
         "hovertemplate": "<b>Línea de Tendencia</b><br>Fecha: %{x}<br>Valor: %{y:,.0f}<extra></extra>",
         "line": {
          "color": "#1E88E5",
          "dash": "dash",
          "width": 4
         },
         "mode": "lines",
         "name": "Tendencia",
         "type": "scatter",
         "x": [
          "2010-01-01T00:00:00.000000000",
          "2010-02-01T00:00:00.000000000",
          "2010-03-01T00:00:00.000000000",
          "2010-04-01T00:00:00.000000000",
          "2010-05-01T00:00:00.000000000",
          "2010-06-01T00:00:00.000000000",
          "2010-07-01T00:00:00.000000000",
          "2010-08-01T00:00:00.000000000",
          "2010-09-01T00:00:00.000000000",
          "2010-10-01T00:00:00.000000000",
          "2010-11-01T00:00:00.000000000",
          "2010-12-01T00:00:00.000000000",
          "2011-01-01T00:00:00.000000000",
          "2011-02-01T00:00:00.000000000",
          "2011-03-01T00:00:00.000000000",
          "2011-04-01T00:00:00.000000000",
          "2011-05-01T00:00:00.000000000",
          "2011-06-01T00:00:00.000000000",
          "2011-07-01T00:00:00.000000000",
          "2011-08-01T00:00:00.000000000",
          "2011-09-01T00:00:00.000000000",
          "2011-10-01T00:00:00.000000000",
          "2011-11-01T00:00:00.000000000",
          "2011-12-01T00:00:00.000000000",
          "2012-01-01T00:00:00.000000000",
          "2012-02-01T00:00:00.000000000",
          "2012-03-01T00:00:00.000000000",
          "2012-04-01T00:00:00.000000000",
          "2012-05-01T00:00:00.000000000",
          "2012-06-01T00:00:00.000000000",
          "2012-07-01T00:00:00.000000000",
          "2012-08-01T00:00:00.000000000",
          "2012-09-01T00:00:00.000000000",
          "2012-10-01T00:00:00.000000000",
          "2012-11-01T00:00:00.000000000",
          "2012-12-01T00:00:00.000000000",
          "2013-01-01T00:00:00.000000000",
          "2013-02-01T00:00:00.000000000",
          "2013-03-01T00:00:00.000000000",
          "2013-04-01T00:00:00.000000000",
          "2013-05-01T00:00:00.000000000",
          "2013-06-01T00:00:00.000000000",
          "2013-07-01T00:00:00.000000000",
          "2013-08-01T00:00:00.000000000",
          "2013-09-01T00:00:00.000000000",
          "2013-10-01T00:00:00.000000000",
          "2013-11-01T00:00:00.000000000",
          "2013-12-01T00:00:00.000000000",
          "2014-01-01T00:00:00.000000000",
          "2014-02-01T00:00:00.000000000",
          "2014-03-01T00:00:00.000000000",
          "2014-04-01T00:00:00.000000000",
          "2014-05-01T00:00:00.000000000",
          "2014-06-01T00:00:00.000000000",
          "2014-07-01T00:00:00.000000000",
          "2014-08-01T00:00:00.000000000",
          "2014-09-01T00:00:00.000000000",
          "2014-10-01T00:00:00.000000000",
          "2014-11-01T00:00:00.000000000",
          "2014-12-01T00:00:00.000000000",
          "2015-01-01T00:00:00.000000000",
          "2015-02-01T00:00:00.000000000",
          "2015-03-01T00:00:00.000000000",
          "2015-04-01T00:00:00.000000000",
          "2015-05-01T00:00:00.000000000",
          "2015-06-01T00:00:00.000000000",
          "2015-07-01T00:00:00.000000000",
          "2015-08-01T00:00:00.000000000",
          "2015-09-01T00:00:00.000000000",
          "2015-10-01T00:00:00.000000000",
          "2015-11-01T00:00:00.000000000",
          "2015-12-01T00:00:00.000000000",
          "2016-01-01T00:00:00.000000000",
          "2016-02-01T00:00:00.000000000",
          "2016-03-01T00:00:00.000000000",
          "2016-04-01T00:00:00.000000000",
          "2016-05-01T00:00:00.000000000",
          "2016-06-01T00:00:00.000000000",
          "2016-07-01T00:00:00.000000000",
          "2016-08-01T00:00:00.000000000",
          "2016-09-01T00:00:00.000000000",
          "2016-10-01T00:00:00.000000000",
          "2016-11-01T00:00:00.000000000",
          "2016-12-01T00:00:00.000000000",
          "2017-01-01T00:00:00.000000000",
          "2017-02-01T00:00:00.000000000",
          "2017-03-01T00:00:00.000000000",
          "2017-04-01T00:00:00.000000000",
          "2017-05-01T00:00:00.000000000",
          "2017-06-01T00:00:00.000000000",
          "2017-07-01T00:00:00.000000000",
          "2017-08-01T00:00:00.000000000",
          "2017-09-01T00:00:00.000000000",
          "2017-10-01T00:00:00.000000000",
          "2017-11-01T00:00:00.000000000",
          "2017-12-01T00:00:00.000000000",
          "2018-01-01T00:00:00.000000000",
          "2018-02-01T00:00:00.000000000",
          "2018-03-01T00:00:00.000000000",
          "2018-04-01T00:00:00.000000000",
          "2018-05-01T00:00:00.000000000",
          "2018-06-01T00:00:00.000000000",
          "2018-07-01T00:00:00.000000000",
          "2018-08-01T00:00:00.000000000",
          "2018-09-01T00:00:00.000000000",
          "2018-10-01T00:00:00.000000000",
          "2018-11-01T00:00:00.000000000",
          "2018-12-01T00:00:00.000000000",
          "2019-01-01T00:00:00.000000000",
          "2019-02-01T00:00:00.000000000",
          "2019-03-01T00:00:00.000000000",
          "2019-04-01T00:00:00.000000000",
          "2019-05-01T00:00:00.000000000",
          "2019-06-01T00:00:00.000000000",
          "2019-07-01T00:00:00.000000000",
          "2019-08-01T00:00:00.000000000",
          "2019-09-01T00:00:00.000000000",
          "2019-10-01T00:00:00.000000000",
          "2019-11-01T00:00:00.000000000",
          "2019-12-01T00:00:00.000000000",
          "2020-01-01T00:00:00.000000000",
          "2020-02-01T00:00:00.000000000",
          "2020-03-01T00:00:00.000000000",
          "2020-04-01T00:00:00.000000000",
          "2020-05-01T00:00:00.000000000",
          "2020-06-01T00:00:00.000000000",
          "2020-07-01T00:00:00.000000000",
          "2020-08-01T00:00:00.000000000",
          "2020-09-01T00:00:00.000000000",
          "2020-10-01T00:00:00.000000000",
          "2020-11-01T00:00:00.000000000",
          "2020-12-01T00:00:00.000000000",
          "2021-01-01T00:00:00.000000000",
          "2021-02-01T00:00:00.000000000",
          "2021-03-01T00:00:00.000000000",
          "2021-04-01T00:00:00.000000000",
          "2021-05-01T00:00:00.000000000",
          "2021-06-01T00:00:00.000000000",
          "2021-07-01T00:00:00.000000000",
          "2021-08-01T00:00:00.000000000",
          "2021-09-01T00:00:00.000000000",
          "2021-10-01T00:00:00.000000000",
          "2021-11-01T00:00:00.000000000",
          "2021-12-01T00:00:00.000000000",
          "2022-01-01T00:00:00.000000000",
          "2022-02-01T00:00:00.000000000",
          "2022-03-01T00:00:00.000000000",
          "2022-04-01T00:00:00.000000000",
          "2022-05-01T00:00:00.000000000",
          "2022-06-01T00:00:00.000000000",
          "2022-07-01T00:00:00.000000000",
          "2022-08-01T00:00:00.000000000",
          "2022-09-01T00:00:00.000000000",
          "2022-10-01T00:00:00.000000000",
          "2022-11-01T00:00:00.000000000",
          "2022-12-01T00:00:00.000000000",
          "2023-01-01T00:00:00.000000000",
          "2023-02-01T00:00:00.000000000",
          "2023-03-01T00:00:00.000000000",
          "2023-04-01T00:00:00.000000000",
          "2023-05-01T00:00:00.000000000",
          "2023-06-01T00:00:00.000000000",
          "2023-07-01T00:00:00.000000000",
          "2023-08-01T00:00:00.000000000",
          "2023-09-01T00:00:00.000000000",
          "2023-10-01T00:00:00.000000000",
          "2023-11-01T00:00:00.000000000",
          "2023-12-01T00:00:00.000000000",
          "2024-01-01T00:00:00.000000000",
          "2024-02-01T00:00:00.000000000",
          "2024-03-01T00:00:00.000000000",
          "2024-04-01T00:00:00.000000000",
          "2024-05-01T00:00:00.000000000",
          "2024-06-01T00:00:00.000000000",
          "2024-07-01T00:00:00.000000000",
          "2024-08-01T00:00:00.000000000",
          "2024-09-01T00:00:00.000000000",
          "2024-10-01T00:00:00.000000000",
          "2024-11-01T00:00:00.000000000",
          "2024-12-01T00:00:00.000000000",
          "2025-01-01T00:00:00.000000000",
          "2025-02-01T00:00:00.000000000"
         ],
         "y": {
          "bdata": "9FNtBjYECUEOE0mRzR0JQSjSJBxlNwlBQ5EAp/xQCUFdUNwxlGoJQXcPuLwrhAlBkc6TR8OdCUGrjW/SWrcJQcZMS13y0AlB4Asn6InqCUH6ygJzIQQKQRSK3v24HQpBLkm6iFA3CkFJCJYT6FAKQWPHcZ5/agpBfYZNKReECkGXRSm0rp0KQbEEBT9GtwpBzMPgyd3QCkHmgrxUdeoKQQBCmN8MBAtBGgF0aqQdC0E0wE/1OzcLQU5/K4DTUAtBaT4HC2tqC0GD/eKVAoQLQZ28viCanQtBt3uaqzG3C0HSOnY2ydALQez5UcFg6gtBBrktTPgDDEEgeAnXjx0MQTo35WEnNwxBVPbA7L5QDEFvtZx3VmoMQYl0eALugwxBozNUjYWdDEG98i8YHbcMQdexC6O00AxB8nDnLUzqDEEMMMO44wMNQSbvnkN7HQ1BQK56zhI3DUFabVZZqlANQXQsMuRBag1Bj+sNb9mDDUGpqun5cJ0NQcNpxYQItw1B3iihD6DQDUH453yaN+oNQRKnWCXPAw5BLGY0sGYdDkFGJRA7/jYOQWDk68WVUA5BeqPHUC1qDkGVYqPbxIMOQa8hf2ZcnQ5ByeBa8fO2DkHjnzZ8i9AOQf5eEgcj6g5BGB7ukboDD0Ey3ckcUh0PQUycpafpNg9BZluBMoFQD0GAGl29GGoPQZvZOEiwgw9BtZgU00edD0HPV/Bd37YPQekWzOh20A9BBNancw7qD0GPykH/0gEQQRyqr8SeDhBBqYkdimobEEE2aYtPNigQQcNI+RQCNRBBUChn2s1BEEHdB9WfmU4QQWrnQmVlWxBB+MawKjFoEEGFph7w/HQQQRKGjLXIgRBBn2X6epSOEEEsRWhAYJsQQbkk1gUsqBBBRgREy/e0EEHT47GQw8EQQWDDH1aPzhBB7qKNG1vbEEF6gvvgJugQQQhiaaby9BBBlUHXa74BEUEiIUUxig4RQa8As/ZVGxFBPOAgvCEoEUHJv46B7TQRQVaf/Ea5QRFB5H5qDIVOEUFwXtjRUFsRQf49RpccaBFBix20XOh0EUEY/SEitIERQaXcj+d/jhFBMrz9rEubEUG/m2tyF6gRQUx72TfjtBFB2VpH/a7BEUFmOrXCes4RQfQZI4hG2xFBgPmQTRLoEUEO2f4S3vQRQZu4bNipARJBKJjanXUOEkG1d0hjQRsSQUJXtigNKBJBzzYk7tg0EkFcFpKzpEESQen1/3hwThJBdtVtPjxbEkEEtdsDCGgSQZCUScnTdBJBHnS3jp+BEkGrUyVUa44SQTgzkxk3mxJBxRIB3wKoEkFS8m6kzrQSQd/R3GmawRJBbLFKL2bOEkH6kLj0MdsSQYZwJrr95xJBFFCUf8n0EkGhLwJFlQETQS4PcAphDhNBu+7dzywbE0FIzkuV+CcTQdWtuVrENBNBYo0nIJBBE0HvbJXlW04TQXxMA6snWxNBCixxcPNnE0GWC981v3QTQSTrTPuKgRNBscq6wFaOE0E+qiiGIpsTQcuJlkvupxNBWGkEEbq0E0HlSHLWhcETQXIo4JtRzhNB/wdOYR3bE0GM57sm6ecTQRrHKey09BNBp6aXsYABFEE0hgV3TA4UQcFlczwYGxRBTkXhAeQnFEHbJE/HrzQUQWgEvYx7QRRB9eMqUkdOFEGCw5gXE1sUQRCjBt3eZxRBnIJ0oqp0FEEqYuJndoEUQbZBUC1CjhRBRCG+8g2bFEHRACy42acUQV7gmX2ltBRB678HQ3HBFEF4n3UIPc4UQQZ/480I2xRBkl5Rk9TnFEEgPr9YoPQUQawdLR5sARVBOv2a4zcOFUHH3AipAxsVQVS8dm7PJxVB4ZvkM5s0FUFue1L5ZkEVQftawL4yThVBiDouhP5aFUEWGpxJymcVQaL5CQ+WdBVBMNl31GGBFUG8uOWZLY4VQQ==",
          "dtype": "f8"
         }
        }
       ],
       "layout": {
        "annotations": [
         {
          "arrowhead": 2,
          "ax": 0,
          "ay": -60,
          "bgcolor": "white",
          "bordercolor": "#757575",
          "borderpad": 4,
          "font": {
           "color": "#757575",
           "family": "Georgia, serif",
           "size": 10
          },
          "showarrow": true,
          "text": "Inicio COVID-19",
          "x": "2020-01-01T00:00:00",
          "y": 520386.6707719596
         }
        ],
        "font": {
         "color": "#1e293b",
         "family": "Georgia, serif"
        },
        "height": 500,
        "legend": {
         "font": {
          "family": "Georgia, serif",
          "size": 12
         },
         "orientation": "h",
         "x": 0.5,
         "xanchor": "center",
         "y": 1.02,
         "yanchor": "bottom"
        },
        "margin": {
         "b": 60,
         "l": 60,
         "r": 40,
         "t": 80
        },
        "paper_bgcolor": "white",
        "plot_bgcolor": "white",
        "shapes": [
         {
          "line": {
           "color": "#757575",
           "dash": "dot",
           "width": 3
          },
          "type": "line",
          "x0": "2020-01-01T00:00:00",
          "x1": "2020-01-01T00:00:00",
          "xref": "x",
          "y0": 0,
          "y1": 1,
          "yref": "y domain"
         }
        ],
        "template": {
         "data": {
          "bar": [
           {
            "error_x": {
             "color": "#2a3f5f"
            },
            "error_y": {
             "color": "#2a3f5f"
            },
            "marker": {
             "line": {
              "color": "#E5ECF6",
              "width": 0.5
             },
             "pattern": {
              "fillmode": "overlay",
              "size": 10,
              "solidity": 0.2
             }
            },
            "type": "bar"
           }
          ],
          "barpolar": [
           {
            "marker": {
             "line": {
              "color": "#E5ECF6",
              "width": 0.5
             },
             "pattern": {
              "fillmode": "overlay",
              "size": 10,
              "solidity": 0.2
             }
            },
            "type": "barpolar"
           }
          ],
          "carpet": [
           {
            "aaxis": {
             "endlinecolor": "#2a3f5f",
             "gridcolor": "white",
             "linecolor": "white",
             "minorgridcolor": "white",
             "startlinecolor": "#2a3f5f"
            },
            "baxis": {
             "endlinecolor": "#2a3f5f",
             "gridcolor": "white",
             "linecolor": "white",
             "minorgridcolor": "white",
             "startlinecolor": "#2a3f5f"
            },
            "type": "carpet"
           }
          ],
          "choropleth": [
           {
            "colorbar": {
             "outlinewidth": 0,
             "ticks": ""
            },
            "type": "choropleth"
           }
          ],
          "contour": [
           {
            "colorbar": {
             "outlinewidth": 0,
             "ticks": ""
            },
            "colorscale": [
             [
              0,
              "#0d0887"
             ],
             [
              0.1111111111111111,
              "#46039f"
             ],
             [
              0.2222222222222222,
              "#7201a8"
             ],
             [
              0.3333333333333333,
              "#9c179e"
             ],
             [
              0.4444444444444444,
              "#bd3786"
             ],
             [
              0.5555555555555556,
              "#d8576b"
             ],
             [
              0.6666666666666666,
              "#ed7953"
             ],
             [
              0.7777777777777778,
              "#fb9f3a"
             ],
             [
              0.8888888888888888,
              "#fdca26"
             ],
             [
              1,
              "#f0f921"
             ]
            ],
            "type": "contour"
           }
          ],
          "contourcarpet": [
           {
            "colorbar": {
             "outlinewidth": 0,
             "ticks": ""
            },
            "type": "contourcarpet"
           }
          ],
          "heatmap": [
           {
            "colorbar": {
             "outlinewidth": 0,
             "ticks": ""
            },
            "colorscale": [
             [
              0,
              "#0d0887"
             ],
             [
              0.1111111111111111,
              "#46039f"
             ],
             [
              0.2222222222222222,
              "#7201a8"
             ],
             [
              0.3333333333333333,
              "#9c179e"
             ],
             [
              0.4444444444444444,
              "#bd3786"
             ],
             [
              0.5555555555555556,
              "#d8576b"
             ],
             [
              0.6666666666666666,
              "#ed7953"
             ],
             [
              0.7777777777777778,
              "#fb9f3a"
             ],
             [
              0.8888888888888888,
              "#fdca26"
             ],
             [
              1,
              "#f0f921"
             ]
            ],
            "type": "heatmap"
           }
          ],
          "histogram": [
           {
            "marker": {
             "pattern": {
              "fillmode": "overlay",
              "size": 10,
              "solidity": 0.2
             }
            },
            "type": "histogram"
           }
          ],
          "histogram2d": [
           {
            "colorbar": {
             "outlinewidth": 0,
             "ticks": ""
            },
            "colorscale": [
             [
              0,
              "#0d0887"
             ],
             [
              0.1111111111111111,
              "#46039f"
             ],
             [
              0.2222222222222222,
              "#7201a8"
             ],
             [
              0.3333333333333333,
              "#9c179e"
             ],
             [
              0.4444444444444444,
              "#bd3786"
             ],
             [
              0.5555555555555556,
              "#d8576b"
             ],
             [
              0.6666666666666666,
              "#ed7953"
             ],
             [
              0.7777777777777778,
              "#fb9f3a"
             ],
             [
              0.8888888888888888,
              "#fdca26"
             ],
             [
              1,
              "#f0f921"
             ]
            ],
            "type": "histogram2d"
           }
          ],
          "histogram2dcontour": [
           {
            "colorbar": {
             "outlinewidth": 0,
             "ticks": ""
            },
            "colorscale": [
             [
              0,
              "#0d0887"
             ],
             [
              0.1111111111111111,
              "#46039f"
             ],
             [
              0.2222222222222222,
              "#7201a8"
             ],
             [
              0.3333333333333333,
              "#9c179e"
             ],
             [
              0.4444444444444444,
              "#bd3786"
             ],
             [
              0.5555555555555556,
              "#d8576b"
             ],
             [
              0.6666666666666666,
              "#ed7953"
             ],
             [
              0.7777777777777778,
              "#fb9f3a"
             ],
             [
              0.8888888888888888,
              "#fdca26"
             ],
             [
              1,
              "#f0f921"
             ]
            ],
            "type": "histogram2dcontour"
           }
          ],
          "mesh3d": [
           {
            "colorbar": {
             "outlinewidth": 0,
             "ticks": ""
            },
            "type": "mesh3d"
           }
          ],
          "parcoords": [
           {
            "line": {
             "colorbar": {
              "outlinewidth": 0,
              "ticks": ""
             }
            },
            "type": "parcoords"
           }
          ],
          "pie": [
           {
            "automargin": true,
            "type": "pie"
           }
          ],
          "scatter": [
           {
            "fillpattern": {
             "fillmode": "overlay",
             "size": 10,
             "solidity": 0.2
            },
            "type": "scatter"
           }
          ],
          "scatter3d": [
           {
            "line": {
             "colorbar": {
              "outlinewidth": 0,
              "ticks": ""
             }
            },
            "marker": {
             "colorbar": {
              "outlinewidth": 0,
              "ticks": ""
             }
            },
            "type": "scatter3d"
           }
          ],
          "scattercarpet": [
           {
            "marker": {
             "colorbar": {
              "outlinewidth": 0,
              "ticks": ""
             }
            },
            "type": "scattercarpet"
           }
          ],
          "scattergeo": [
           {
            "marker": {
             "colorbar": {
              "outlinewidth": 0,
              "ticks": ""
             }
            },
            "type": "scattergeo"
           }
          ],
          "scattergl": [
           {
            "marker": {
             "colorbar": {
              "outlinewidth": 0,
              "ticks": ""
             }
            },
            "type": "scattergl"
           }
          ],
          "scattermap": [
           {
            "marker": {
             "colorbar": {
              "outlinewidth": 0,
              "ticks": ""
             }
            },
            "type": "scattermap"
           }
          ],
          "scattermapbox": [
           {
            "marker": {
             "colorbar": {
              "outlinewidth": 0,
              "ticks": ""
             }
            },
            "type": "scattermapbox"
           }
          ],
          "scatterpolar": [
           {
            "marker": {
             "colorbar": {
              "outlinewidth": 0,
              "ticks": ""
             }
            },
            "type": "scatterpolar"
           }
          ],
          "scatterpolargl": [
           {
            "marker": {
             "colorbar": {
              "outlinewidth": 0,
              "ticks": ""
             }
            },
            "type": "scatterpolargl"
           }
          ],
          "scatterternary": [
           {
            "marker": {
             "colorbar": {
              "outlinewidth": 0,
              "ticks": ""
             }
            },
            "type": "scatterternary"
           }
          ],
          "surface": [
           {
            "colorbar": {
             "outlinewidth": 0,
             "ticks": ""
            },
            "colorscale": [
             [
              0,
              "#0d0887"
             ],
             [
              0.1111111111111111,
              "#46039f"
             ],
             [
              0.2222222222222222,
              "#7201a8"
             ],
             [
              0.3333333333333333,
              "#9c179e"
             ],
             [
              0.4444444444444444,
              "#bd3786"
             ],
             [
              0.5555555555555556,
              "#d8576b"
             ],
             [
              0.6666666666666666,
              "#ed7953"
             ],
             [
              0.7777777777777778,
              "#fb9f3a"
             ],
             [
              0.8888888888888888,
              "#fdca26"
             ],
             [
              1,
              "#f0f921"
             ]
            ],
            "type": "surface"
           }
          ],
          "table": [
           {
            "cells": {
             "fill": {
              "color": "#EBF0F8"
             },
             "line": {
              "color": "white"
             }
            },
            "header": {
             "fill": {
              "color": "#C8D4E3"
             },
             "line": {
              "color": "white"
             }
            },
            "type": "table"
           }
          ]
         },
         "layout": {
          "annotationdefaults": {
           "arrowcolor": "#2a3f5f",
           "arrowhead": 0,
           "arrowwidth": 1
          },
          "autotypenumbers": "strict",
          "coloraxis": {
           "colorbar": {
            "outlinewidth": 0,
            "ticks": ""
           }
          },
          "colorscale": {
           "diverging": [
            [
             0,
             "#8e0152"
            ],
            [
             0.1,
             "#c51b7d"
            ],
            [
             0.2,
             "#de77ae"
            ],
            [
             0.3,
             "#f1b6da"
            ],
            [
             0.4,
             "#fde0ef"
            ],
            [
             0.5,
             "#f7f7f7"
            ],
            [
             0.6,
             "#e6f5d0"
            ],
            [
             0.7,
             "#b8e186"
            ],
            [
             0.8,
             "#7fbc41"
            ],
            [
             0.9,
             "#4d9221"
            ],
            [
             1,
             "#276419"
            ]
           ],
           "sequential": [
            [
             0,
             "#0d0887"
            ],
            [
             0.1111111111111111,
             "#46039f"
            ],
            [
             0.2222222222222222,
             "#7201a8"
            ],
            [
             0.3333333333333333,
             "#9c179e"
            ],
            [
             0.4444444444444444,
             "#bd3786"
            ],
            [
             0.5555555555555556,
             "#d8576b"
            ],
            [
             0.6666666666666666,
             "#ed7953"
            ],
            [
             0.7777777777777778,
             "#fb9f3a"
            ],
            [
             0.8888888888888888,
             "#fdca26"
            ],
            [
             1,
             "#f0f921"
            ]
           ],
           "sequentialminus": [
            [
             0,
             "#0d0887"
            ],
            [
             0.1111111111111111,
             "#46039f"
            ],
            [
             0.2222222222222222,
             "#7201a8"
            ],
            [
             0.3333333333333333,
             "#9c179e"
            ],
            [
             0.4444444444444444,
             "#bd3786"
            ],
            [
             0.5555555555555556,
             "#d8576b"
            ],
            [
             0.6666666666666666,
             "#ed7953"
            ],
            [
             0.7777777777777778,
             "#fb9f3a"
            ],
            [
             0.8888888888888888,
             "#fdca26"
            ],
            [
             1,
             "#f0f921"
            ]
           ]
          },
          "colorway": [
           "#636efa",
           "#EF553B",
           "#00cc96",
           "#ab63fa",
           "#FFA15A",
           "#19d3f3",
           "#FF6692",
           "#B6E880",
           "#FF97FF",
           "#FECB52"
          ],
          "font": {
           "color": "#2a3f5f"
          },
          "geo": {
           "bgcolor": "white",
           "lakecolor": "white",
           "landcolor": "#E5ECF6",
           "showlakes": true,
           "showland": true,
           "subunitcolor": "white"
          },
          "hoverlabel": {
           "align": "left"
          },
          "hovermode": "closest",
          "mapbox": {
           "style": "light"
          },
          "paper_bgcolor": "white",
          "plot_bgcolor": "#E5ECF6",
          "polar": {
           "angularaxis": {
            "gridcolor": "white",
            "linecolor": "white",
            "ticks": ""
           },
           "bgcolor": "#E5ECF6",
           "radialaxis": {
            "gridcolor": "white",
            "linecolor": "white",
            "ticks": ""
           }
          },
          "scene": {
           "xaxis": {
            "backgroundcolor": "#E5ECF6",
            "gridcolor": "white",
            "gridwidth": 2,
            "linecolor": "white",
            "showbackground": true,
            "ticks": "",
            "zerolinecolor": "white"
           },
           "yaxis": {
            "backgroundcolor": "#E5ECF6",
            "gridcolor": "white",
            "gridwidth": 2,
            "linecolor": "white",
            "showbackground": true,
            "ticks": "",
            "zerolinecolor": "white"
           },
           "zaxis": {
            "backgroundcolor": "#E5ECF6",
            "gridcolor": "white",
            "gridwidth": 2,
            "linecolor": "white",
            "showbackground": true,
            "ticks": "",
            "zerolinecolor": "white"
           }
          },
          "shapedefaults": {
           "line": {
            "color": "#2a3f5f"
           }
          },
          "ternary": {
           "aaxis": {
            "gridcolor": "white",
            "linecolor": "white",
            "ticks": ""
           },
           "baxis": {
            "gridcolor": "white",
            "linecolor": "white",
            "ticks": ""
           },
           "bgcolor": "#E5ECF6",
           "caxis": {
            "gridcolor": "white",
            "linecolor": "white",
            "ticks": ""
           }
          },
          "title": {
           "x": 0.05
          },
          "xaxis": {
           "automargin": true,
           "gridcolor": "white",
           "linecolor": "white",
           "ticks": "",
           "title": {
            "standoff": 15
           },
           "zerolinecolor": "white",
           "zerolinewidth": 2
          },
          "yaxis": {
           "automargin": true,
           "gridcolor": "white",
           "linecolor": "white",
           "ticks": "",
           "title": {
            "standoff": 15
           },
           "zerolinecolor": "white",
           "zerolinewidth": 2
          }
         }
        },
        "title": {
         "text": "Evolución del Desempleo Total en la Región de Los Ríos"
        },
        "xaxis": {
         "gridcolor": "#E5E5E5",
         "gridwidth": 0.5,
         "showgrid": true,
         "tickfont": {
          "family": "Georgia, serif"
         },
         "title": {
          "text": "Período"
         }
        },
        "yaxis": {
         "gridcolor": "#E5E5E5",
         "gridwidth": 0.5,
         "showgrid": true,
         "tickfont": {
          "family": "Georgia, serif"
         },
         "tickformat": ",",
         "title": {
          "text": "Número de Personas Desocupadas"
         }
        }
       }
      }
     },
     "metadata": {},
     "output_type": "display_data"
    },
    {
     "name": "stdout",
     "output_type": "stream",
     "text": [
      "✅ Gráfico actualizado con fuente de anotación COVID-19 más pequeña\n"
     ]
    }
   ],
   "source": [
    "# Preparar datos temporales\n",
    "df_copy = df.copy()\n",
    "df_copy[\"periodo\"] = pd.to_datetime(df_copy[\"periodo\"].str[:10])\n",
    "\n",
    "# Calcular total de desocupados por periodo\n",
    "df_temporal = df_copy.groupby(\"periodo\")[\"valor\"].sum().reset_index()\n",
    "\n",
    "# Crear gráfico con elementos visuales mejorados\n",
    "fig = go.Figure()\n",
    "\n",
    "# Línea principal con relleno\n",
    "fig.add_trace(go.Scatter(\n",
    "    x=df_temporal[\"periodo\"],\n",
    "    y=df_temporal[\"valor\"],\n",
    "    mode='lines+markers',\n",
    "    line=dict(color=economist_colors[0], width=5),  # Amarillo principal - más grueso\n",
    "    marker=dict(size=7, color=economist_colors[0], line=dict(color='white', width=2)),\n",
    "    fill='tozeroy',\n",
    "    fillcolor='rgba(255, 215, 0, 0.15)',  # Relleno translúcido del amarillo\n",
    "    name='Desempleo Total',\n",
    "    hovertemplate='<b>Desempleo Total</b><br>Fecha: %{x}<br>Personas: %{y:,.0f}<extra></extra>'\n",
    "))\n",
    "\n",
    "# Añadir línea de tendencia (sin mostrar R²)\n",
    "import numpy as np\n",
    "from scipy import stats\n",
    "\n",
    "x_numeric = np.arange(len(df_temporal))\n",
    "slope, intercept, r_value, p_value, std_err = stats.linregress(x_numeric, df_temporal[\"valor\"])\n",
    "trend_line = slope * x_numeric + intercept\n",
    "\n",
    "fig.add_trace(go.Scatter(\n",
    "    x=df_temporal[\"periodo\"],\n",
    "    y=trend_line,\n",
    "    mode='lines',\n",
    "    line=dict(color=economist_colors[1], width=4, dash='dash'),  # Azul contrastante\n",
    "    name='Tendencia',\n",
    "    hovertemplate='<b>Línea de Tendencia</b><br>Fecha: %{x}<br>Valor: %{y:,.0f}<extra></extra>'\n",
    "))\n",
    "\n",
    "# Añadir línea vertical y anotación para inicio COVID-19 en 2020\n",
    "fig.add_vline(\n",
    "    x=pd.Timestamp('2020-01-01'),\n",
    "    line_width=3,\n",
    "    line_dash=\"dot\",\n",
    "    line_color=economist_colors[2],  # Gris\n",
    ")\n",
    "fig.add_annotation(\n",
    "    x=pd.Timestamp('2020-01-01'),\n",
    "    y=max(df_temporal[\"valor\"]),\n",
    "    text=\"Inicio COVID-19\",\n",
    "    showarrow=True,\n",
    "    arrowhead=2,\n",
    "    ax=0,\n",
    "    ay=-60,\n",
    "    font=dict(color=economist_colors[2], size=10, family='Georgia, serif'),  # Tamaño reducido\n",
    "    bgcolor=\"white\",\n",
    "    bordercolor=economist_colors[2],\n",
    "    borderpad=4\n",
    ")\n",
    "\n",
    "# Aplicar estilo The Economist\n",
    "fig = apply_economist_style(fig)\n",
    "\n",
    "fig.update_layout(\n",
    "    title=\"Evolución del Desempleo Total en la Región de Los Ríos\",\n",
    "    xaxis_title=\"Período\",\n",
    "    yaxis_title=\"Número de Personas Desocupadas\",\n",
    "    height=500,\n",
    "    legend=dict(\n",
    "        orientation=\"h\",\n",
    "        yanchor=\"bottom\",\n",
    "        y=1.02,\n",
    "        xanchor=\"center\",\n",
    "        x=0.5,\n",
    "        font=dict(size=12)\n",
    "    )\n",
    ")\n",
    "\n",
    "# Formato del eje Y con separadores de miles\n",
    "fig.update_yaxes(tickformat=',')\n",
    "\n",
    "fig.show()\n",
    "\n",
    "print(\"✅ Gráfico actualizado con fuente de anotación COVID-19 más pequeña\")"
   ]
  },
  {
   "cell_type": "markdown",
   "id": "5241f256",
   "metadata": {},
   "source": [
    "## 📊 Análisis por Tramo Etario"
   ]
  },
  {
   "cell_type": "code",
   "execution_count": 60,
   "id": "61a9ed59",
   "metadata": {},
   "outputs": [
    {
     "name": "stdout",
     "output_type": "stream",
     "text": [
      "🔍 LIMPIANDO Y PREPARANDO DATOS...\n",
      "✅ Datos limpios: 14071 registros\n",
      "📊 Rango de valores: 9 - 10,415\n",
      "\n",
      "📈 GRÁFICO 1: POBLACIÓN JOVEN\n"
     ]
    },
    {
     "data": {
      "application/vnd.plotly.v1+json": {
       "config": {
        "plotlyServerURL": "https://plot.ly"
       },
       "data": [
        {
         "hovertemplate": "<b>15-24 años</b><br>Año: %{x|%Y}<br>Promedio: %{y:,.0f} personas<extra></extra>",
         "line": {
          "color": "#FFD700",
          "width": 4
         },
         "marker": {
          "size": 8
         },
         "mode": "lines+markers",
         "name": "15-24 años",
         "type": "scatter",
         "x": [
          "2010-01-01T00:00:00.000000000",
          "2011-01-01T00:00:00.000000000",
          "2012-01-01T00:00:00.000000000",
          "2013-01-01T00:00:00.000000000",
          "2014-01-01T00:00:00.000000000",
          "2015-01-01T00:00:00.000000000",
          "2016-01-01T00:00:00.000000000",
          "2017-01-01T00:00:00.000000000",
          "2018-01-01T00:00:00.000000000",
          "2019-01-01T00:00:00.000000000",
          "2020-01-01T00:00:00.000000000",
          "2021-01-01T00:00:00.000000000",
          "2022-01-01T00:00:00.000000000",
          "2023-01-01T00:00:00.000000000",
          "2024-01-01T00:00:00.000000000",
          "2025-01-01T00:00:00.000000000"
         ],
         "y": {
          "bdata": "hPqXJyKirkC3dWOYcGOuQGhduM3Acq5ABsKkPO60r0CgMmshJuSsQAvHq/R2zK5Aoz8wRQuQsEByqXKjO4awQLA6MeNbJLFA7q5evGf8sEDN9FtKBwWzQLpQMI0TBa1A54OUWLsVsED2aZymExOwQFlzgFGULbFAenpBuj8csUA=",
          "dtype": "f8"
         }
        },
        {
         "hovertemplate": "<b>25-34 años</b><br>Año: %{x|%Y}<br>Promedio: %{y:,.0f} personas<extra></extra>",
         "line": {
          "color": "#1E88E5",
          "width": 4
         },
         "marker": {
          "size": 8
         },
         "mode": "lines+markers",
         "name": "25-34 años",
         "type": "scatter",
         "x": [
          "2010-01-01T00:00:00.000000000",
          "2011-01-01T00:00:00.000000000",
          "2012-01-01T00:00:00.000000000",
          "2013-01-01T00:00:00.000000000",
          "2014-01-01T00:00:00.000000000",
          "2015-01-01T00:00:00.000000000",
          "2016-01-01T00:00:00.000000000",
          "2017-01-01T00:00:00.000000000",
          "2018-01-01T00:00:00.000000000",
          "2019-01-01T00:00:00.000000000",
          "2020-01-01T00:00:00.000000000",
          "2021-01-01T00:00:00.000000000",
          "2022-01-01T00:00:00.000000000",
          "2023-01-01T00:00:00.000000000",
          "2024-01-01T00:00:00.000000000",
          "2025-01-01T00:00:00.000000000"
         ],
         "y": {
          "bdata": "wL6EcmCqsUDkL6PPA1CxQCQLi0rKoq9A2tORJ+iwr0BeUB9BiFawQLGR8/Yz1bBAIx0sqE0HsUAv9rJRvfqxQDvpe/AZi7JA4Uma3vxDskATnWuxgrSxQBc5wNgNJ7NAggdvnk3es0DwizoKiG+yQE1csbUHwLNAfNOfc5NUtkA=",
          "dtype": "f8"
         }
        }
       ],
       "layout": {
        "font": {
         "color": "#1e293b",
         "family": "Georgia, serif"
        },
        "height": 500,
        "legend": {
         "font": {
          "family": "Georgia, serif"
         },
         "orientation": "h",
         "x": 1,
         "xanchor": "right",
         "y": 1.02,
         "yanchor": "bottom"
        },
        "margin": {
         "b": 60,
         "l": 60,
         "r": 40,
         "t": 80
        },
        "paper_bgcolor": "white",
        "plot_bgcolor": "white",
        "showlegend": true,
        "template": {
         "data": {
          "bar": [
           {
            "error_x": {
             "color": "#2a3f5f"
            },
            "error_y": {
             "color": "#2a3f5f"
            },
            "marker": {
             "line": {
              "color": "#E5ECF6",
              "width": 0.5
             },
             "pattern": {
              "fillmode": "overlay",
              "size": 10,
              "solidity": 0.2
             }
            },
            "type": "bar"
           }
          ],
          "barpolar": [
           {
            "marker": {
             "line": {
              "color": "#E5ECF6",
              "width": 0.5
             },
             "pattern": {
              "fillmode": "overlay",
              "size": 10,
              "solidity": 0.2
             }
            },
            "type": "barpolar"
           }
          ],
          "carpet": [
           {
            "aaxis": {
             "endlinecolor": "#2a3f5f",
             "gridcolor": "white",
             "linecolor": "white",
             "minorgridcolor": "white",
             "startlinecolor": "#2a3f5f"
            },
            "baxis": {
             "endlinecolor": "#2a3f5f",
             "gridcolor": "white",
             "linecolor": "white",
             "minorgridcolor": "white",
             "startlinecolor": "#2a3f5f"
            },
            "type": "carpet"
           }
          ],
          "choropleth": [
           {
            "colorbar": {
             "outlinewidth": 0,
             "ticks": ""
            },
            "type": "choropleth"
           }
          ],
          "contour": [
           {
            "colorbar": {
             "outlinewidth": 0,
             "ticks": ""
            },
            "colorscale": [
             [
              0,
              "#0d0887"
             ],
             [
              0.1111111111111111,
              "#46039f"
             ],
             [
              0.2222222222222222,
              "#7201a8"
             ],
             [
              0.3333333333333333,
              "#9c179e"
             ],
             [
              0.4444444444444444,
              "#bd3786"
             ],
             [
              0.5555555555555556,
              "#d8576b"
             ],
             [
              0.6666666666666666,
              "#ed7953"
             ],
             [
              0.7777777777777778,
              "#fb9f3a"
             ],
             [
              0.8888888888888888,
              "#fdca26"
             ],
             [
              1,
              "#f0f921"
             ]
            ],
            "type": "contour"
           }
          ],
          "contourcarpet": [
           {
            "colorbar": {
             "outlinewidth": 0,
             "ticks": ""
            },
            "type": "contourcarpet"
           }
          ],
          "heatmap": [
           {
            "colorbar": {
             "outlinewidth": 0,
             "ticks": ""
            },
            "colorscale": [
             [
              0,
              "#0d0887"
             ],
             [
              0.1111111111111111,
              "#46039f"
             ],
             [
              0.2222222222222222,
              "#7201a8"
             ],
             [
              0.3333333333333333,
              "#9c179e"
             ],
             [
              0.4444444444444444,
              "#bd3786"
             ],
             [
              0.5555555555555556,
              "#d8576b"
             ],
             [
              0.6666666666666666,
              "#ed7953"
             ],
             [
              0.7777777777777778,
              "#fb9f3a"
             ],
             [
              0.8888888888888888,
              "#fdca26"
             ],
             [
              1,
              "#f0f921"
             ]
            ],
            "type": "heatmap"
           }
          ],
          "histogram": [
           {
            "marker": {
             "pattern": {
              "fillmode": "overlay",
              "size": 10,
              "solidity": 0.2
             }
            },
            "type": "histogram"
           }
          ],
          "histogram2d": [
           {
            "colorbar": {
             "outlinewidth": 0,
             "ticks": ""
            },
            "colorscale": [
             [
              0,
              "#0d0887"
             ],
             [
              0.1111111111111111,
              "#46039f"
             ],
             [
              0.2222222222222222,
              "#7201a8"
             ],
             [
              0.3333333333333333,
              "#9c179e"
             ],
             [
              0.4444444444444444,
              "#bd3786"
             ],
             [
              0.5555555555555556,
              "#d8576b"
             ],
             [
              0.6666666666666666,
              "#ed7953"
             ],
             [
              0.7777777777777778,
              "#fb9f3a"
             ],
             [
              0.8888888888888888,
              "#fdca26"
             ],
             [
              1,
              "#f0f921"
             ]
            ],
            "type": "histogram2d"
           }
          ],
          "histogram2dcontour": [
           {
            "colorbar": {
             "outlinewidth": 0,
             "ticks": ""
            },
            "colorscale": [
             [
              0,
              "#0d0887"
             ],
             [
              0.1111111111111111,
              "#46039f"
             ],
             [
              0.2222222222222222,
              "#7201a8"
             ],
             [
              0.3333333333333333,
              "#9c179e"
             ],
             [
              0.4444444444444444,
              "#bd3786"
             ],
             [
              0.5555555555555556,
              "#d8576b"
             ],
             [
              0.6666666666666666,
              "#ed7953"
             ],
             [
              0.7777777777777778,
              "#fb9f3a"
             ],
             [
              0.8888888888888888,
              "#fdca26"
             ],
             [
              1,
              "#f0f921"
             ]
            ],
            "type": "histogram2dcontour"
           }
          ],
          "mesh3d": [
           {
            "colorbar": {
             "outlinewidth": 0,
             "ticks": ""
            },
            "type": "mesh3d"
           }
          ],
          "parcoords": [
           {
            "line": {
             "colorbar": {
              "outlinewidth": 0,
              "ticks": ""
             }
            },
            "type": "parcoords"
           }
          ],
          "pie": [
           {
            "automargin": true,
            "type": "pie"
           }
          ],
          "scatter": [
           {
            "fillpattern": {
             "fillmode": "overlay",
             "size": 10,
             "solidity": 0.2
            },
            "type": "scatter"
           }
          ],
          "scatter3d": [
           {
            "line": {
             "colorbar": {
              "outlinewidth": 0,
              "ticks": ""
             }
            },
            "marker": {
             "colorbar": {
              "outlinewidth": 0,
              "ticks": ""
             }
            },
            "type": "scatter3d"
           }
          ],
          "scattercarpet": [
           {
            "marker": {
             "colorbar": {
              "outlinewidth": 0,
              "ticks": ""
             }
            },
            "type": "scattercarpet"
           }
          ],
          "scattergeo": [
           {
            "marker": {
             "colorbar": {
              "outlinewidth": 0,
              "ticks": ""
             }
            },
            "type": "scattergeo"
           }
          ],
          "scattergl": [
           {
            "marker": {
             "colorbar": {
              "outlinewidth": 0,
              "ticks": ""
             }
            },
            "type": "scattergl"
           }
          ],
          "scattermap": [
           {
            "marker": {
             "colorbar": {
              "outlinewidth": 0,
              "ticks": ""
             }
            },
            "type": "scattermap"
           }
          ],
          "scattermapbox": [
           {
            "marker": {
             "colorbar": {
              "outlinewidth": 0,
              "ticks": ""
             }
            },
            "type": "scattermapbox"
           }
          ],
          "scatterpolar": [
           {
            "marker": {
             "colorbar": {
              "outlinewidth": 0,
              "ticks": ""
             }
            },
            "type": "scatterpolar"
           }
          ],
          "scatterpolargl": [
           {
            "marker": {
             "colorbar": {
              "outlinewidth": 0,
              "ticks": ""
             }
            },
            "type": "scatterpolargl"
           }
          ],
          "scatterternary": [
           {
            "marker": {
             "colorbar": {
              "outlinewidth": 0,
              "ticks": ""
             }
            },
            "type": "scatterternary"
           }
          ],
          "surface": [
           {
            "colorbar": {
             "outlinewidth": 0,
             "ticks": ""
            },
            "colorscale": [
             [
              0,
              "#0d0887"
             ],
             [
              0.1111111111111111,
              "#46039f"
             ],
             [
              0.2222222222222222,
              "#7201a8"
             ],
             [
              0.3333333333333333,
              "#9c179e"
             ],
             [
              0.4444444444444444,
              "#bd3786"
             ],
             [
              0.5555555555555556,
              "#d8576b"
             ],
             [
              0.6666666666666666,
              "#ed7953"
             ],
             [
              0.7777777777777778,
              "#fb9f3a"
             ],
             [
              0.8888888888888888,
              "#fdca26"
             ],
             [
              1,
              "#f0f921"
             ]
            ],
            "type": "surface"
           }
          ],
          "table": [
           {
            "cells": {
             "fill": {
              "color": "#EBF0F8"
             },
             "line": {
              "color": "white"
             }
            },
            "header": {
             "fill": {
              "color": "#C8D4E3"
             },
             "line": {
              "color": "white"
             }
            },
            "type": "table"
           }
          ]
         },
         "layout": {
          "annotationdefaults": {
           "arrowcolor": "#2a3f5f",
           "arrowhead": 0,
           "arrowwidth": 1
          },
          "autotypenumbers": "strict",
          "coloraxis": {
           "colorbar": {
            "outlinewidth": 0,
            "ticks": ""
           }
          },
          "colorscale": {
           "diverging": [
            [
             0,
             "#8e0152"
            ],
            [
             0.1,
             "#c51b7d"
            ],
            [
             0.2,
             "#de77ae"
            ],
            [
             0.3,
             "#f1b6da"
            ],
            [
             0.4,
             "#fde0ef"
            ],
            [
             0.5,
             "#f7f7f7"
            ],
            [
             0.6,
             "#e6f5d0"
            ],
            [
             0.7,
             "#b8e186"
            ],
            [
             0.8,
             "#7fbc41"
            ],
            [
             0.9,
             "#4d9221"
            ],
            [
             1,
             "#276419"
            ]
           ],
           "sequential": [
            [
             0,
             "#0d0887"
            ],
            [
             0.1111111111111111,
             "#46039f"
            ],
            [
             0.2222222222222222,
             "#7201a8"
            ],
            [
             0.3333333333333333,
             "#9c179e"
            ],
            [
             0.4444444444444444,
             "#bd3786"
            ],
            [
             0.5555555555555556,
             "#d8576b"
            ],
            [
             0.6666666666666666,
             "#ed7953"
            ],
            [
             0.7777777777777778,
             "#fb9f3a"
            ],
            [
             0.8888888888888888,
             "#fdca26"
            ],
            [
             1,
             "#f0f921"
            ]
           ],
           "sequentialminus": [
            [
             0,
             "#0d0887"
            ],
            [
             0.1111111111111111,
             "#46039f"
            ],
            [
             0.2222222222222222,
             "#7201a8"
            ],
            [
             0.3333333333333333,
             "#9c179e"
            ],
            [
             0.4444444444444444,
             "#bd3786"
            ],
            [
             0.5555555555555556,
             "#d8576b"
            ],
            [
             0.6666666666666666,
             "#ed7953"
            ],
            [
             0.7777777777777778,
             "#fb9f3a"
            ],
            [
             0.8888888888888888,
             "#fdca26"
            ],
            [
             1,
             "#f0f921"
            ]
           ]
          },
          "colorway": [
           "#636efa",
           "#EF553B",
           "#00cc96",
           "#ab63fa",
           "#FFA15A",
           "#19d3f3",
           "#FF6692",
           "#B6E880",
           "#FF97FF",
           "#FECB52"
          ],
          "font": {
           "color": "#2a3f5f"
          },
          "geo": {
           "bgcolor": "white",
           "lakecolor": "white",
           "landcolor": "#E5ECF6",
           "showlakes": true,
           "showland": true,
           "subunitcolor": "white"
          },
          "hoverlabel": {
           "align": "left"
          },
          "hovermode": "closest",
          "mapbox": {
           "style": "light"
          },
          "paper_bgcolor": "white",
          "plot_bgcolor": "#E5ECF6",
          "polar": {
           "angularaxis": {
            "gridcolor": "white",
            "linecolor": "white",
            "ticks": ""
           },
           "bgcolor": "#E5ECF6",
           "radialaxis": {
            "gridcolor": "white",
            "linecolor": "white",
            "ticks": ""
           }
          },
          "scene": {
           "xaxis": {
            "backgroundcolor": "#E5ECF6",
            "gridcolor": "white",
            "gridwidth": 2,
            "linecolor": "white",
            "showbackground": true,
            "ticks": "",
            "zerolinecolor": "white"
           },
           "yaxis": {
            "backgroundcolor": "#E5ECF6",
            "gridcolor": "white",
            "gridwidth": 2,
            "linecolor": "white",
            "showbackground": true,
            "ticks": "",
            "zerolinecolor": "white"
           },
           "zaxis": {
            "backgroundcolor": "#E5ECF6",
            "gridcolor": "white",
            "gridwidth": 2,
            "linecolor": "white",
            "showbackground": true,
            "ticks": "",
            "zerolinecolor": "white"
           }
          },
          "shapedefaults": {
           "line": {
            "color": "#2a3f5f"
           }
          },
          "ternary": {
           "aaxis": {
            "gridcolor": "white",
            "linecolor": "white",
            "ticks": ""
           },
           "baxis": {
            "gridcolor": "white",
            "linecolor": "white",
            "ticks": ""
           },
           "bgcolor": "#E5ECF6",
           "caxis": {
            "gridcolor": "white",
            "linecolor": "white",
            "ticks": ""
           }
          },
          "title": {
           "x": 0.05
          },
          "xaxis": {
           "automargin": true,
           "gridcolor": "white",
           "linecolor": "white",
           "ticks": "",
           "title": {
            "standoff": 15
           },
           "zerolinecolor": "white",
           "zerolinewidth": 2
          },
          "yaxis": {
           "automargin": true,
           "gridcolor": "white",
           "linecolor": "white",
           "ticks": "",
           "title": {
            "standoff": 15
           },
           "zerolinecolor": "white",
           "zerolinewidth": 2
          }
         }
        },
        "title": {
         "text": "Desempleo Juvenil: Población de 15-34 años"
        },
        "xaxis": {
         "gridcolor": "#E5E5E5",
         "gridwidth": 0.5,
         "showgrid": true,
         "tickfont": {
          "family": "Georgia, serif"
         },
         "title": {
          "text": "Año"
         }
        },
        "yaxis": {
         "gridcolor": "#E5E5E5",
         "gridwidth": 0.5,
         "showgrid": true,
         "tickfont": {
          "family": "Georgia, serif"
         },
         "tickformat": ",",
         "title": {
          "text": "Personas Desocupadas (Promedio Anual)"
         }
        }
       }
      }
     },
     "metadata": {},
     "output_type": "display_data"
    }
   ],
   "source": [
    "# === ANÁLISIS POR TRAMO ETARIO - SIMPLE Y CLARO ===\n",
    "print(\"🔍 LIMPIANDO Y PREPARANDO DATOS...\")\n",
    "\n",
    "# Limpiar y preparar datos\n",
    "df_edad = df[df[\"dimension\"] == \"tramo_edad\"].copy()\n",
    "df_edad[\"periodo\"] = pd.to_datetime(df_edad[\"periodo\"].astype(str).str[:10])\n",
    "\n",
    "# Eliminar valores atípicos extremos (outliers)\n",
    "Q1 = df_edad['valor'].quantile(0.25)\n",
    "Q3 = df_edad['valor'].quantile(0.75)\n",
    "IQR = Q3 - Q1\n",
    "limite_inferior = Q1 - 1.5 * IQR\n",
    "limite_superior = Q3 + 1.5 * IQR\n",
    "\n",
    "# Filtrar datos anómalos\n",
    "df_edad_limpio = df_edad[(df_edad['valor'] >= limite_inferior) & (df_edad['valor'] <= limite_superior)].copy()\n",
    "\n",
    "# Etiquetas más simples\n",
    "etiquetas_simples = {\n",
    "    \"Y15T24\": \"15-24 años\",\n",
    "    \"Y25T34\": \"25-34 años\", \n",
    "    \"Y35T44\": \"35-44 años\",\n",
    "    \"Y45T54\": \"45-54 años\",\n",
    "    \"Y55T64\": \"55-64 años\",\n",
    "    \"Y_GE65\": \"65+ años\",\n",
    "    \"_T\": \"Total\"\n",
    "}\n",
    "\n",
    "df_edad_limpio.loc[:, \"grupo\"] = df_edad_limpio[\"categoria\"].map(etiquetas_simples)\n",
    "df_final = df_edad_limpio[df_edad_limpio[\"grupo\"] != \"Total\"]\n",
    "\n",
    "print(f\"✅ Datos limpios: {len(df_final)} registros\")\n",
    "print(f\"📊 Rango de valores: {df_final['valor'].min():,.0f} - {df_final['valor'].max():,.0f}\")\n",
    "\n",
    "# GRÁFICO 1: SOLO LOS 2 GRUPOS MÁS JÓVENES\n",
    "print(\"\\n📈 GRÁFICO 1: POBLACIÓN JOVEN\")\n",
    "\n",
    "grupos_jovenes = [\"15-24 años\", \"25-34 años\"]\n",
    "fig1 = go.Figure()\n",
    "\n",
    "for i, grupo in enumerate(grupos_jovenes):\n",
    "    data = df_final[df_final[\"grupo\"] == grupo]\n",
    "    \n",
    "    # Promediar por año para suavizar la línea\n",
    "    data_anual = data.groupby(data[\"periodo\"].dt.year)[\"valor\"].mean().reset_index()\n",
    "    data_anual[\"periodo\"] = pd.to_datetime(data_anual[\"periodo\"], format='%Y')\n",
    "    \n",
    "    fig1.add_trace(go.Scatter(\n",
    "        x=data_anual[\"periodo\"],\n",
    "        y=data_anual[\"valor\"],\n",
    "        mode='lines+markers',\n",
    "        line=dict(color=economist_colors[i], width=4),\n",
    "        marker=dict(size=8),\n",
    "        name=grupo,\n",
    "        hovertemplate=f'<b>{grupo}</b><br>Año: %{{x|%Y}}<br>Promedio: %{{y:,.0f}} personas<extra></extra>'\n",
    "    ))\n",
    "\n",
    "fig1 = apply_economist_style(fig1)\n",
    "fig1.update_layout(\n",
    "    title=\"Desempleo Juvenil: Población de 15-34 años\",\n",
    "    xaxis_title=\"Año\",\n",
    "    yaxis_title=\"Personas Desocupadas (Promedio Anual)\",\n",
    "    height=500,\n",
    "    showlegend=True\n",
    ")\n",
    "\n",
    "fig1.update_yaxes(tickformat=',')\n",
    "fig1.show()"
   ]
  },
  {
   "cell_type": "code",
   "execution_count": 53,
   "id": "59693920",
   "metadata": {},
   "outputs": [
    {
     "name": "stdout",
     "output_type": "stream",
     "text": [
      "\n",
      "[GRAFICO 2] POBLACION ADULTA\n"
     ]
    },
    {
     "data": {
      "application/vnd.plotly.v1+json": {
       "config": {
        "plotlyServerURL": "https://plot.ly"
       },
       "data": [
        {
         "hovertemplate": "<b>35-44 años</b><br>Año: %{x|%Y}<br>Promedio: %{y:,.0f} personas<extra></extra>",
         "line": {
          "color": "#757575",
          "width": 4
         },
         "marker": {
          "size": 8
         },
         "mode": "lines+markers",
         "name": "35-44 años",
         "type": "scatter",
         "x": [
          "2010-01-01T00:00:00.000000000",
          "2011-01-01T00:00:00.000000000",
          "2012-01-01T00:00:00.000000000",
          "2013-01-01T00:00:00.000000000",
          "2014-01-01T00:00:00.000000000",
          "2015-01-01T00:00:00.000000000",
          "2016-01-01T00:00:00.000000000",
          "2017-01-01T00:00:00.000000000",
          "2018-01-01T00:00:00.000000000",
          "2019-01-01T00:00:00.000000000",
          "2020-01-01T00:00:00.000000000",
          "2021-01-01T00:00:00.000000000",
          "2022-01-01T00:00:00.000000000",
          "2023-01-01T00:00:00.000000000",
          "2024-01-01T00:00:00.000000000",
          "2025-01-01T00:00:00.000000000"
         ],
         "y": {
          "bdata": "olM6/0rKq0C5Pf1QnyqoQJCVoiIJ86VACwH+A1KtpEDoz9O/U56nQO0m1hPYa6hAgrd2hUYmqkBPZNgUCKKsQABKEpgyzqtAnsNO3T/6rUDIFpYkejGwQOPWXfSnq65A2EFQFlCUr0AJmkO9ZnOwQAq0zYtpk7JAgJfVLwhLs0A=",
          "dtype": "f8"
         }
        },
        {
         "hovertemplate": "<b>45-54 años</b><br>Año: %{x|%Y}<br>Promedio: %{y:,.0f} personas<extra></extra>",
         "line": {
          "color": "#FFC107",
          "width": 4
         },
         "marker": {
          "size": 8
         },
         "mode": "lines+markers",
         "name": "45-54 años",
         "type": "scatter",
         "x": [
          "2010-01-01T00:00:00.000000000",
          "2011-01-01T00:00:00.000000000",
          "2012-01-01T00:00:00.000000000",
          "2013-01-01T00:00:00.000000000",
          "2014-01-01T00:00:00.000000000",
          "2015-01-01T00:00:00.000000000",
          "2016-01-01T00:00:00.000000000",
          "2017-01-01T00:00:00.000000000",
          "2018-01-01T00:00:00.000000000",
          "2019-01-01T00:00:00.000000000",
          "2020-01-01T00:00:00.000000000",
          "2021-01-01T00:00:00.000000000",
          "2022-01-01T00:00:00.000000000",
          "2023-01-01T00:00:00.000000000",
          "2024-01-01T00:00:00.000000000",
          "2025-01-01T00:00:00.000000000"
         ],
         "y": {
          "bdata": "EN8RH04po0CgRJqeoAegQDlsBsEm8JpAUrOZ76fxnEDUcBA/YFOgQBrQkIhL1qBAV++5JpS1oUBEG0Cu4rSkQBu9rHhmzaRA3Bn2G6DfpkANpLesUPavQHGanQy8F6lAZ+X0DgZ9rECjzOimgditQPOuhzz3a6xAwuxy5Q47rEA=",
          "dtype": "f8"
         }
        }
       ],
       "layout": {
        "font": {
         "color": "#1e293b",
         "family": "Georgia, serif"
        },
        "height": 500,
        "legend": {
         "font": {
          "family": "Georgia, serif"
         },
         "orientation": "h",
         "x": 1,
         "xanchor": "right",
         "y": 1.02,
         "yanchor": "bottom"
        },
        "margin": {
         "b": 60,
         "l": 60,
         "r": 40,
         "t": 80
        },
        "paper_bgcolor": "white",
        "plot_bgcolor": "white",
        "showlegend": true,
        "template": {
         "data": {
          "bar": [
           {
            "error_x": {
             "color": "#2a3f5f"
            },
            "error_y": {
             "color": "#2a3f5f"
            },
            "marker": {
             "line": {
              "color": "#E5ECF6",
              "width": 0.5
             },
             "pattern": {
              "fillmode": "overlay",
              "size": 10,
              "solidity": 0.2
             }
            },
            "type": "bar"
           }
          ],
          "barpolar": [
           {
            "marker": {
             "line": {
              "color": "#E5ECF6",
              "width": 0.5
             },
             "pattern": {
              "fillmode": "overlay",
              "size": 10,
              "solidity": 0.2
             }
            },
            "type": "barpolar"
           }
          ],
          "carpet": [
           {
            "aaxis": {
             "endlinecolor": "#2a3f5f",
             "gridcolor": "white",
             "linecolor": "white",
             "minorgridcolor": "white",
             "startlinecolor": "#2a3f5f"
            },
            "baxis": {
             "endlinecolor": "#2a3f5f",
             "gridcolor": "white",
             "linecolor": "white",
             "minorgridcolor": "white",
             "startlinecolor": "#2a3f5f"
            },
            "type": "carpet"
           }
          ],
          "choropleth": [
           {
            "colorbar": {
             "outlinewidth": 0,
             "ticks": ""
            },
            "type": "choropleth"
           }
          ],
          "contour": [
           {
            "colorbar": {
             "outlinewidth": 0,
             "ticks": ""
            },
            "colorscale": [
             [
              0,
              "#0d0887"
             ],
             [
              0.1111111111111111,
              "#46039f"
             ],
             [
              0.2222222222222222,
              "#7201a8"
             ],
             [
              0.3333333333333333,
              "#9c179e"
             ],
             [
              0.4444444444444444,
              "#bd3786"
             ],
             [
              0.5555555555555556,
              "#d8576b"
             ],
             [
              0.6666666666666666,
              "#ed7953"
             ],
             [
              0.7777777777777778,
              "#fb9f3a"
             ],
             [
              0.8888888888888888,
              "#fdca26"
             ],
             [
              1,
              "#f0f921"
             ]
            ],
            "type": "contour"
           }
          ],
          "contourcarpet": [
           {
            "colorbar": {
             "outlinewidth": 0,
             "ticks": ""
            },
            "type": "contourcarpet"
           }
          ],
          "heatmap": [
           {
            "colorbar": {
             "outlinewidth": 0,
             "ticks": ""
            },
            "colorscale": [
             [
              0,
              "#0d0887"
             ],
             [
              0.1111111111111111,
              "#46039f"
             ],
             [
              0.2222222222222222,
              "#7201a8"
             ],
             [
              0.3333333333333333,
              "#9c179e"
             ],
             [
              0.4444444444444444,
              "#bd3786"
             ],
             [
              0.5555555555555556,
              "#d8576b"
             ],
             [
              0.6666666666666666,
              "#ed7953"
             ],
             [
              0.7777777777777778,
              "#fb9f3a"
             ],
             [
              0.8888888888888888,
              "#fdca26"
             ],
             [
              1,
              "#f0f921"
             ]
            ],
            "type": "heatmap"
           }
          ],
          "histogram": [
           {
            "marker": {
             "pattern": {
              "fillmode": "overlay",
              "size": 10,
              "solidity": 0.2
             }
            },
            "type": "histogram"
           }
          ],
          "histogram2d": [
           {
            "colorbar": {
             "outlinewidth": 0,
             "ticks": ""
            },
            "colorscale": [
             [
              0,
              "#0d0887"
             ],
             [
              0.1111111111111111,
              "#46039f"
             ],
             [
              0.2222222222222222,
              "#7201a8"
             ],
             [
              0.3333333333333333,
              "#9c179e"
             ],
             [
              0.4444444444444444,
              "#bd3786"
             ],
             [
              0.5555555555555556,
              "#d8576b"
             ],
             [
              0.6666666666666666,
              "#ed7953"
             ],
             [
              0.7777777777777778,
              "#fb9f3a"
             ],
             [
              0.8888888888888888,
              "#fdca26"
             ],
             [
              1,
              "#f0f921"
             ]
            ],
            "type": "histogram2d"
           }
          ],
          "histogram2dcontour": [
           {
            "colorbar": {
             "outlinewidth": 0,
             "ticks": ""
            },
            "colorscale": [
             [
              0,
              "#0d0887"
             ],
             [
              0.1111111111111111,
              "#46039f"
             ],
             [
              0.2222222222222222,
              "#7201a8"
             ],
             [
              0.3333333333333333,
              "#9c179e"
             ],
             [
              0.4444444444444444,
              "#bd3786"
             ],
             [
              0.5555555555555556,
              "#d8576b"
             ],
             [
              0.6666666666666666,
              "#ed7953"
             ],
             [
              0.7777777777777778,
              "#fb9f3a"
             ],
             [
              0.8888888888888888,
              "#fdca26"
             ],
             [
              1,
              "#f0f921"
             ]
            ],
            "type": "histogram2dcontour"
           }
          ],
          "mesh3d": [
           {
            "colorbar": {
             "outlinewidth": 0,
             "ticks": ""
            },
            "type": "mesh3d"
           }
          ],
          "parcoords": [
           {
            "line": {
             "colorbar": {
              "outlinewidth": 0,
              "ticks": ""
             }
            },
            "type": "parcoords"
           }
          ],
          "pie": [
           {
            "automargin": true,
            "type": "pie"
           }
          ],
          "scatter": [
           {
            "fillpattern": {
             "fillmode": "overlay",
             "size": 10,
             "solidity": 0.2
            },
            "type": "scatter"
           }
          ],
          "scatter3d": [
           {
            "line": {
             "colorbar": {
              "outlinewidth": 0,
              "ticks": ""
             }
            },
            "marker": {
             "colorbar": {
              "outlinewidth": 0,
              "ticks": ""
             }
            },
            "type": "scatter3d"
           }
          ],
          "scattercarpet": [
           {
            "marker": {
             "colorbar": {
              "outlinewidth": 0,
              "ticks": ""
             }
            },
            "type": "scattercarpet"
           }
          ],
          "scattergeo": [
           {
            "marker": {
             "colorbar": {
              "outlinewidth": 0,
              "ticks": ""
             }
            },
            "type": "scattergeo"
           }
          ],
          "scattergl": [
           {
            "marker": {
             "colorbar": {
              "outlinewidth": 0,
              "ticks": ""
             }
            },
            "type": "scattergl"
           }
          ],
          "scattermap": [
           {
            "marker": {
             "colorbar": {
              "outlinewidth": 0,
              "ticks": ""
             }
            },
            "type": "scattermap"
           }
          ],
          "scattermapbox": [
           {
            "marker": {
             "colorbar": {
              "outlinewidth": 0,
              "ticks": ""
             }
            },
            "type": "scattermapbox"
           }
          ],
          "scatterpolar": [
           {
            "marker": {
             "colorbar": {
              "outlinewidth": 0,
              "ticks": ""
             }
            },
            "type": "scatterpolar"
           }
          ],
          "scatterpolargl": [
           {
            "marker": {
             "colorbar": {
              "outlinewidth": 0,
              "ticks": ""
             }
            },
            "type": "scatterpolargl"
           }
          ],
          "scatterternary": [
           {
            "marker": {
             "colorbar": {
              "outlinewidth": 0,
              "ticks": ""
             }
            },
            "type": "scatterternary"
           }
          ],
          "surface": [
           {
            "colorbar": {
             "outlinewidth": 0,
             "ticks": ""
            },
            "colorscale": [
             [
              0,
              "#0d0887"
             ],
             [
              0.1111111111111111,
              "#46039f"
             ],
             [
              0.2222222222222222,
              "#7201a8"
             ],
             [
              0.3333333333333333,
              "#9c179e"
             ],
             [
              0.4444444444444444,
              "#bd3786"
             ],
             [
              0.5555555555555556,
              "#d8576b"
             ],
             [
              0.6666666666666666,
              "#ed7953"
             ],
             [
              0.7777777777777778,
              "#fb9f3a"
             ],
             [
              0.8888888888888888,
              "#fdca26"
             ],
             [
              1,
              "#f0f921"
             ]
            ],
            "type": "surface"
           }
          ],
          "table": [
           {
            "cells": {
             "fill": {
              "color": "#EBF0F8"
             },
             "line": {
              "color": "white"
             }
            },
            "header": {
             "fill": {
              "color": "#C8D4E3"
             },
             "line": {
              "color": "white"
             }
            },
            "type": "table"
           }
          ]
         },
         "layout": {
          "annotationdefaults": {
           "arrowcolor": "#2a3f5f",
           "arrowhead": 0,
           "arrowwidth": 1
          },
          "autotypenumbers": "strict",
          "coloraxis": {
           "colorbar": {
            "outlinewidth": 0,
            "ticks": ""
           }
          },
          "colorscale": {
           "diverging": [
            [
             0,
             "#8e0152"
            ],
            [
             0.1,
             "#c51b7d"
            ],
            [
             0.2,
             "#de77ae"
            ],
            [
             0.3,
             "#f1b6da"
            ],
            [
             0.4,
             "#fde0ef"
            ],
            [
             0.5,
             "#f7f7f7"
            ],
            [
             0.6,
             "#e6f5d0"
            ],
            [
             0.7,
             "#b8e186"
            ],
            [
             0.8,
             "#7fbc41"
            ],
            [
             0.9,
             "#4d9221"
            ],
            [
             1,
             "#276419"
            ]
           ],
           "sequential": [
            [
             0,
             "#0d0887"
            ],
            [
             0.1111111111111111,
             "#46039f"
            ],
            [
             0.2222222222222222,
             "#7201a8"
            ],
            [
             0.3333333333333333,
             "#9c179e"
            ],
            [
             0.4444444444444444,
             "#bd3786"
            ],
            [
             0.5555555555555556,
             "#d8576b"
            ],
            [
             0.6666666666666666,
             "#ed7953"
            ],
            [
             0.7777777777777778,
             "#fb9f3a"
            ],
            [
             0.8888888888888888,
             "#fdca26"
            ],
            [
             1,
             "#f0f921"
            ]
           ],
           "sequentialminus": [
            [
             0,
             "#0d0887"
            ],
            [
             0.1111111111111111,
             "#46039f"
            ],
            [
             0.2222222222222222,
             "#7201a8"
            ],
            [
             0.3333333333333333,
             "#9c179e"
            ],
            [
             0.4444444444444444,
             "#bd3786"
            ],
            [
             0.5555555555555556,
             "#d8576b"
            ],
            [
             0.6666666666666666,
             "#ed7953"
            ],
            [
             0.7777777777777778,
             "#fb9f3a"
            ],
            [
             0.8888888888888888,
             "#fdca26"
            ],
            [
             1,
             "#f0f921"
            ]
           ]
          },
          "colorway": [
           "#636efa",
           "#EF553B",
           "#00cc96",
           "#ab63fa",
           "#FFA15A",
           "#19d3f3",
           "#FF6692",
           "#B6E880",
           "#FF97FF",
           "#FECB52"
          ],
          "font": {
           "color": "#2a3f5f"
          },
          "geo": {
           "bgcolor": "white",
           "lakecolor": "white",
           "landcolor": "#E5ECF6",
           "showlakes": true,
           "showland": true,
           "subunitcolor": "white"
          },
          "hoverlabel": {
           "align": "left"
          },
          "hovermode": "closest",
          "mapbox": {
           "style": "light"
          },
          "paper_bgcolor": "white",
          "plot_bgcolor": "#E5ECF6",
          "polar": {
           "angularaxis": {
            "gridcolor": "white",
            "linecolor": "white",
            "ticks": ""
           },
           "bgcolor": "#E5ECF6",
           "radialaxis": {
            "gridcolor": "white",
            "linecolor": "white",
            "ticks": ""
           }
          },
          "scene": {
           "xaxis": {
            "backgroundcolor": "#E5ECF6",
            "gridcolor": "white",
            "gridwidth": 2,
            "linecolor": "white",
            "showbackground": true,
            "ticks": "",
            "zerolinecolor": "white"
           },
           "yaxis": {
            "backgroundcolor": "#E5ECF6",
            "gridcolor": "white",
            "gridwidth": 2,
            "linecolor": "white",
            "showbackground": true,
            "ticks": "",
            "zerolinecolor": "white"
           },
           "zaxis": {
            "backgroundcolor": "#E5ECF6",
            "gridcolor": "white",
            "gridwidth": 2,
            "linecolor": "white",
            "showbackground": true,
            "ticks": "",
            "zerolinecolor": "white"
           }
          },
          "shapedefaults": {
           "line": {
            "color": "#2a3f5f"
           }
          },
          "ternary": {
           "aaxis": {
            "gridcolor": "white",
            "linecolor": "white",
            "ticks": ""
           },
           "baxis": {
            "gridcolor": "white",
            "linecolor": "white",
            "ticks": ""
           },
           "bgcolor": "#E5ECF6",
           "caxis": {
            "gridcolor": "white",
            "linecolor": "white",
            "ticks": ""
           }
          },
          "title": {
           "x": 0.05
          },
          "xaxis": {
           "automargin": true,
           "gridcolor": "white",
           "linecolor": "white",
           "ticks": "",
           "title": {
            "standoff": 15
           },
           "zerolinecolor": "white",
           "zerolinewidth": 2
          },
          "yaxis": {
           "automargin": true,
           "gridcolor": "white",
           "linecolor": "white",
           "ticks": "",
           "title": {
            "standoff": 15
           },
           "zerolinecolor": "white",
           "zerolinewidth": 2
          }
         }
        },
        "title": {
         "text": "Desempleo Adulto: Poblacion de 35-54 años"
        },
        "xaxis": {
         "gridcolor": "#E5E5E5",
         "gridwidth": 0.5,
         "showgrid": true,
         "tickfont": {
          "family": "Georgia, serif"
         },
         "title": {
          "text": "Año"
         }
        },
        "yaxis": {
         "gridcolor": "#E5E5E5",
         "gridwidth": 0.5,
         "showgrid": true,
         "tickfont": {
          "family": "Georgia, serif"
         },
         "tickformat": ",",
         "title": {
          "text": "Personas Desocupadas (Promedio Anual)"
         }
        }
       }
      }
     },
     "metadata": {},
     "output_type": "display_data"
    }
   ],
   "source": [
    "# GRAFICO 2: POBLACION ADULTA\n",
    "print(\"\\n[GRAFICO 2] POBLACION ADULTA\")\n",
    "\n",
    "grupos_adultos = [\"35-44 años\", \"45-54 años\"]\n",
    "fig2 = go.Figure()\n",
    "\n",
    "for i, grupo in enumerate(grupos_adultos):\n",
    "    data = df_final[df_final[\"grupo\"] == grupo]\n",
    "    \n",
    "    # Promediar por año\n",
    "    data_anual = data.groupby(data[\"periodo\"].dt.year)[\"valor\"].mean().reset_index()\n",
    "    data_anual[\"periodo\"] = pd.to_datetime(data_anual[\"periodo\"], format='%Y')\n",
    "    \n",
    "    fig2.add_trace(go.Scatter(\n",
    "        x=data_anual[\"periodo\"],\n",
    "        y=data_anual[\"valor\"],\n",
    "        mode='lines+markers',\n",
    "        line=dict(color=economist_colors[i+2], width=4),\n",
    "        marker=dict(size=8),\n",
    "        name=grupo,\n",
    "        hovertemplate=f'<b>{grupo}</b><br>Año: %{{x|%Y}}<br>Promedio: %{{y:,.0f}} personas<extra></extra>'\n",
    "    ))\n",
    "\n",
    "fig2 = apply_economist_style(fig2)\n",
    "fig2.update_layout(\n",
    "    title=\"Desempleo Adulto: Poblacion de 35-54 años\",\n",
    "    xaxis_title=\"Año\",\n",
    "    yaxis_title=\"Personas Desocupadas (Promedio Anual)\",\n",
    "    height=500,\n",
    "    showlegend=True\n",
    ")\n",
    "\n",
    "fig2.update_yaxes(tickformat=',')\n",
    "fig2.show()"
   ]
  },
  {
   "cell_type": "code",
   "execution_count": 54,
   "id": "e3a4f73b",
   "metadata": {},
   "outputs": [
    {
     "name": "stdout",
     "output_type": "stream",
     "text": [
      "\n",
      "[GRAFICO 3] POBLACION MAYOR\n"
     ]
    },
    {
     "data": {
      "application/vnd.plotly.v1+json": {
       "config": {
        "plotlyServerURL": "https://plot.ly"
       },
       "data": [
        {
         "hovertemplate": "<b>55-64 años</b><br>Año: %{x|%Y}<br>Promedio: %{y:,.0f} personas<extra></extra>",
         "line": {
          "color": "#2196F3",
          "width": 4
         },
         "marker": {
          "size": 8
         },
         "mode": "lines+markers",
         "name": "55-64 años",
         "type": "scatter",
         "x": [
          "2010-01-01T00:00:00.000000000",
          "2011-01-01T00:00:00.000000000",
          "2012-01-01T00:00:00.000000000",
          "2013-01-01T00:00:00.000000000",
          "2014-01-01T00:00:00.000000000",
          "2015-01-01T00:00:00.000000000",
          "2016-01-01T00:00:00.000000000",
          "2017-01-01T00:00:00.000000000",
          "2018-01-01T00:00:00.000000000",
          "2019-01-01T00:00:00.000000000",
          "2020-01-01T00:00:00.000000000",
          "2021-01-01T00:00:00.000000000",
          "2022-01-01T00:00:00.000000000",
          "2023-01-01T00:00:00.000000000",
          "2024-01-01T00:00:00.000000000",
          "2025-01-01T00:00:00.000000000"
         ],
         "y": {
          "bdata": "9nFr2zO2lkDFxGBukQCWQM62EadvC5VA1x/x0FiElUBnANDrXQ6ZQO3jsn3FpZlAc8CVcbmYnkD7M02/SUigQAY1qpxRG55AkYJKFRZBnkDy2qfBWIGmQC0ndTtI56JAci7DPF91o0DcAuTevvKlQN27TSM19qRA0KGWUyI/pEA=",
          "dtype": "f8"
         }
        },
        {
         "hovertemplate": "<b>65+ años</b><br>Año: %{x|%Y}<br>Promedio: %{y:,.0f} personas<extra></extra>",
         "line": {
          "color": "#9E9E9E",
          "width": 4
         },
         "marker": {
          "size": 8
         },
         "mode": "lines+markers",
         "name": "65+ años",
         "type": "scatter",
         "x": [
          "2010-01-01T00:00:00.000000000",
          "2011-01-01T00:00:00.000000000",
          "2012-01-01T00:00:00.000000000",
          "2013-01-01T00:00:00.000000000",
          "2014-01-01T00:00:00.000000000",
          "2015-01-01T00:00:00.000000000",
          "2016-01-01T00:00:00.000000000",
          "2017-01-01T00:00:00.000000000",
          "2018-01-01T00:00:00.000000000",
          "2019-01-01T00:00:00.000000000",
          "2020-01-01T00:00:00.000000000",
          "2021-01-01T00:00:00.000000000",
          "2022-01-01T00:00:00.000000000",
          "2023-01-01T00:00:00.000000000",
          "2024-01-01T00:00:00.000000000",
          "2025-01-01T00:00:00.000000000"
         ],
         "y": {
          "bdata": "nYmD1Swlh0D8xzz9QFOHQAtHOL4y3YhAfP6M940ZhUD+1dpuT4CKQAByTdCDe4hATLCH+dWsi0C41kJYV/2LQGxye78MO4xAHU/1Yt3fjkBCME6hZaGOQJfhI4aXqo5AVo+M3cdHj0CboRmj1IaLQEFfG7LpZJBAHLTvxdsMj0A=",
          "dtype": "f8"
         }
        }
       ],
       "layout": {
        "font": {
         "color": "#1e293b",
         "family": "Georgia, serif"
        },
        "height": 500,
        "legend": {
         "font": {
          "family": "Georgia, serif"
         },
         "orientation": "h",
         "x": 1,
         "xanchor": "right",
         "y": 1.02,
         "yanchor": "bottom"
        },
        "margin": {
         "b": 60,
         "l": 60,
         "r": 40,
         "t": 80
        },
        "paper_bgcolor": "white",
        "plot_bgcolor": "white",
        "showlegend": true,
        "template": {
         "data": {
          "bar": [
           {
            "error_x": {
             "color": "#2a3f5f"
            },
            "error_y": {
             "color": "#2a3f5f"
            },
            "marker": {
             "line": {
              "color": "#E5ECF6",
              "width": 0.5
             },
             "pattern": {
              "fillmode": "overlay",
              "size": 10,
              "solidity": 0.2
             }
            },
            "type": "bar"
           }
          ],
          "barpolar": [
           {
            "marker": {
             "line": {
              "color": "#E5ECF6",
              "width": 0.5
             },
             "pattern": {
              "fillmode": "overlay",
              "size": 10,
              "solidity": 0.2
             }
            },
            "type": "barpolar"
           }
          ],
          "carpet": [
           {
            "aaxis": {
             "endlinecolor": "#2a3f5f",
             "gridcolor": "white",
             "linecolor": "white",
             "minorgridcolor": "white",
             "startlinecolor": "#2a3f5f"
            },
            "baxis": {
             "endlinecolor": "#2a3f5f",
             "gridcolor": "white",
             "linecolor": "white",
             "minorgridcolor": "white",
             "startlinecolor": "#2a3f5f"
            },
            "type": "carpet"
           }
          ],
          "choropleth": [
           {
            "colorbar": {
             "outlinewidth": 0,
             "ticks": ""
            },
            "type": "choropleth"
           }
          ],
          "contour": [
           {
            "colorbar": {
             "outlinewidth": 0,
             "ticks": ""
            },
            "colorscale": [
             [
              0,
              "#0d0887"
             ],
             [
              0.1111111111111111,
              "#46039f"
             ],
             [
              0.2222222222222222,
              "#7201a8"
             ],
             [
              0.3333333333333333,
              "#9c179e"
             ],
             [
              0.4444444444444444,
              "#bd3786"
             ],
             [
              0.5555555555555556,
              "#d8576b"
             ],
             [
              0.6666666666666666,
              "#ed7953"
             ],
             [
              0.7777777777777778,
              "#fb9f3a"
             ],
             [
              0.8888888888888888,
              "#fdca26"
             ],
             [
              1,
              "#f0f921"
             ]
            ],
            "type": "contour"
           }
          ],
          "contourcarpet": [
           {
            "colorbar": {
             "outlinewidth": 0,
             "ticks": ""
            },
            "type": "contourcarpet"
           }
          ],
          "heatmap": [
           {
            "colorbar": {
             "outlinewidth": 0,
             "ticks": ""
            },
            "colorscale": [
             [
              0,
              "#0d0887"
             ],
             [
              0.1111111111111111,
              "#46039f"
             ],
             [
              0.2222222222222222,
              "#7201a8"
             ],
             [
              0.3333333333333333,
              "#9c179e"
             ],
             [
              0.4444444444444444,
              "#bd3786"
             ],
             [
              0.5555555555555556,
              "#d8576b"
             ],
             [
              0.6666666666666666,
              "#ed7953"
             ],
             [
              0.7777777777777778,
              "#fb9f3a"
             ],
             [
              0.8888888888888888,
              "#fdca26"
             ],
             [
              1,
              "#f0f921"
             ]
            ],
            "type": "heatmap"
           }
          ],
          "histogram": [
           {
            "marker": {
             "pattern": {
              "fillmode": "overlay",
              "size": 10,
              "solidity": 0.2
             }
            },
            "type": "histogram"
           }
          ],
          "histogram2d": [
           {
            "colorbar": {
             "outlinewidth": 0,
             "ticks": ""
            },
            "colorscale": [
             [
              0,
              "#0d0887"
             ],
             [
              0.1111111111111111,
              "#46039f"
             ],
             [
              0.2222222222222222,
              "#7201a8"
             ],
             [
              0.3333333333333333,
              "#9c179e"
             ],
             [
              0.4444444444444444,
              "#bd3786"
             ],
             [
              0.5555555555555556,
              "#d8576b"
             ],
             [
              0.6666666666666666,
              "#ed7953"
             ],
             [
              0.7777777777777778,
              "#fb9f3a"
             ],
             [
              0.8888888888888888,
              "#fdca26"
             ],
             [
              1,
              "#f0f921"
             ]
            ],
            "type": "histogram2d"
           }
          ],
          "histogram2dcontour": [
           {
            "colorbar": {
             "outlinewidth": 0,
             "ticks": ""
            },
            "colorscale": [
             [
              0,
              "#0d0887"
             ],
             [
              0.1111111111111111,
              "#46039f"
             ],
             [
              0.2222222222222222,
              "#7201a8"
             ],
             [
              0.3333333333333333,
              "#9c179e"
             ],
             [
              0.4444444444444444,
              "#bd3786"
             ],
             [
              0.5555555555555556,
              "#d8576b"
             ],
             [
              0.6666666666666666,
              "#ed7953"
             ],
             [
              0.7777777777777778,
              "#fb9f3a"
             ],
             [
              0.8888888888888888,
              "#fdca26"
             ],
             [
              1,
              "#f0f921"
             ]
            ],
            "type": "histogram2dcontour"
           }
          ],
          "mesh3d": [
           {
            "colorbar": {
             "outlinewidth": 0,
             "ticks": ""
            },
            "type": "mesh3d"
           }
          ],
          "parcoords": [
           {
            "line": {
             "colorbar": {
              "outlinewidth": 0,
              "ticks": ""
             }
            },
            "type": "parcoords"
           }
          ],
          "pie": [
           {
            "automargin": true,
            "type": "pie"
           }
          ],
          "scatter": [
           {
            "fillpattern": {
             "fillmode": "overlay",
             "size": 10,
             "solidity": 0.2
            },
            "type": "scatter"
           }
          ],
          "scatter3d": [
           {
            "line": {
             "colorbar": {
              "outlinewidth": 0,
              "ticks": ""
             }
            },
            "marker": {
             "colorbar": {
              "outlinewidth": 0,
              "ticks": ""
             }
            },
            "type": "scatter3d"
           }
          ],
          "scattercarpet": [
           {
            "marker": {
             "colorbar": {
              "outlinewidth": 0,
              "ticks": ""
             }
            },
            "type": "scattercarpet"
           }
          ],
          "scattergeo": [
           {
            "marker": {
             "colorbar": {
              "outlinewidth": 0,
              "ticks": ""
             }
            },
            "type": "scattergeo"
           }
          ],
          "scattergl": [
           {
            "marker": {
             "colorbar": {
              "outlinewidth": 0,
              "ticks": ""
             }
            },
            "type": "scattergl"
           }
          ],
          "scattermap": [
           {
            "marker": {
             "colorbar": {
              "outlinewidth": 0,
              "ticks": ""
             }
            },
            "type": "scattermap"
           }
          ],
          "scattermapbox": [
           {
            "marker": {
             "colorbar": {
              "outlinewidth": 0,
              "ticks": ""
             }
            },
            "type": "scattermapbox"
           }
          ],
          "scatterpolar": [
           {
            "marker": {
             "colorbar": {
              "outlinewidth": 0,
              "ticks": ""
             }
            },
            "type": "scatterpolar"
           }
          ],
          "scatterpolargl": [
           {
            "marker": {
             "colorbar": {
              "outlinewidth": 0,
              "ticks": ""
             }
            },
            "type": "scatterpolargl"
           }
          ],
          "scatterternary": [
           {
            "marker": {
             "colorbar": {
              "outlinewidth": 0,
              "ticks": ""
             }
            },
            "type": "scatterternary"
           }
          ],
          "surface": [
           {
            "colorbar": {
             "outlinewidth": 0,
             "ticks": ""
            },
            "colorscale": [
             [
              0,
              "#0d0887"
             ],
             [
              0.1111111111111111,
              "#46039f"
             ],
             [
              0.2222222222222222,
              "#7201a8"
             ],
             [
              0.3333333333333333,
              "#9c179e"
             ],
             [
              0.4444444444444444,
              "#bd3786"
             ],
             [
              0.5555555555555556,
              "#d8576b"
             ],
             [
              0.6666666666666666,
              "#ed7953"
             ],
             [
              0.7777777777777778,
              "#fb9f3a"
             ],
             [
              0.8888888888888888,
              "#fdca26"
             ],
             [
              1,
              "#f0f921"
             ]
            ],
            "type": "surface"
           }
          ],
          "table": [
           {
            "cells": {
             "fill": {
              "color": "#EBF0F8"
             },
             "line": {
              "color": "white"
             }
            },
            "header": {
             "fill": {
              "color": "#C8D4E3"
             },
             "line": {
              "color": "white"
             }
            },
            "type": "table"
           }
          ]
         },
         "layout": {
          "annotationdefaults": {
           "arrowcolor": "#2a3f5f",
           "arrowhead": 0,
           "arrowwidth": 1
          },
          "autotypenumbers": "strict",
          "coloraxis": {
           "colorbar": {
            "outlinewidth": 0,
            "ticks": ""
           }
          },
          "colorscale": {
           "diverging": [
            [
             0,
             "#8e0152"
            ],
            [
             0.1,
             "#c51b7d"
            ],
            [
             0.2,
             "#de77ae"
            ],
            [
             0.3,
             "#f1b6da"
            ],
            [
             0.4,
             "#fde0ef"
            ],
            [
             0.5,
             "#f7f7f7"
            ],
            [
             0.6,
             "#e6f5d0"
            ],
            [
             0.7,
             "#b8e186"
            ],
            [
             0.8,
             "#7fbc41"
            ],
            [
             0.9,
             "#4d9221"
            ],
            [
             1,
             "#276419"
            ]
           ],
           "sequential": [
            [
             0,
             "#0d0887"
            ],
            [
             0.1111111111111111,
             "#46039f"
            ],
            [
             0.2222222222222222,
             "#7201a8"
            ],
            [
             0.3333333333333333,
             "#9c179e"
            ],
            [
             0.4444444444444444,
             "#bd3786"
            ],
            [
             0.5555555555555556,
             "#d8576b"
            ],
            [
             0.6666666666666666,
             "#ed7953"
            ],
            [
             0.7777777777777778,
             "#fb9f3a"
            ],
            [
             0.8888888888888888,
             "#fdca26"
            ],
            [
             1,
             "#f0f921"
            ]
           ],
           "sequentialminus": [
            [
             0,
             "#0d0887"
            ],
            [
             0.1111111111111111,
             "#46039f"
            ],
            [
             0.2222222222222222,
             "#7201a8"
            ],
            [
             0.3333333333333333,
             "#9c179e"
            ],
            [
             0.4444444444444444,
             "#bd3786"
            ],
            [
             0.5555555555555556,
             "#d8576b"
            ],
            [
             0.6666666666666666,
             "#ed7953"
            ],
            [
             0.7777777777777778,
             "#fb9f3a"
            ],
            [
             0.8888888888888888,
             "#fdca26"
            ],
            [
             1,
             "#f0f921"
            ]
           ]
          },
          "colorway": [
           "#636efa",
           "#EF553B",
           "#00cc96",
           "#ab63fa",
           "#FFA15A",
           "#19d3f3",
           "#FF6692",
           "#B6E880",
           "#FF97FF",
           "#FECB52"
          ],
          "font": {
           "color": "#2a3f5f"
          },
          "geo": {
           "bgcolor": "white",
           "lakecolor": "white",
           "landcolor": "#E5ECF6",
           "showlakes": true,
           "showland": true,
           "subunitcolor": "white"
          },
          "hoverlabel": {
           "align": "left"
          },
          "hovermode": "closest",
          "mapbox": {
           "style": "light"
          },
          "paper_bgcolor": "white",
          "plot_bgcolor": "#E5ECF6",
          "polar": {
           "angularaxis": {
            "gridcolor": "white",
            "linecolor": "white",
            "ticks": ""
           },
           "bgcolor": "#E5ECF6",
           "radialaxis": {
            "gridcolor": "white",
            "linecolor": "white",
            "ticks": ""
           }
          },
          "scene": {
           "xaxis": {
            "backgroundcolor": "#E5ECF6",
            "gridcolor": "white",
            "gridwidth": 2,
            "linecolor": "white",
            "showbackground": true,
            "ticks": "",
            "zerolinecolor": "white"
           },
           "yaxis": {
            "backgroundcolor": "#E5ECF6",
            "gridcolor": "white",
            "gridwidth": 2,
            "linecolor": "white",
            "showbackground": true,
            "ticks": "",
            "zerolinecolor": "white"
           },
           "zaxis": {
            "backgroundcolor": "#E5ECF6",
            "gridcolor": "white",
            "gridwidth": 2,
            "linecolor": "white",
            "showbackground": true,
            "ticks": "",
            "zerolinecolor": "white"
           }
          },
          "shapedefaults": {
           "line": {
            "color": "#2a3f5f"
           }
          },
          "ternary": {
           "aaxis": {
            "gridcolor": "white",
            "linecolor": "white",
            "ticks": ""
           },
           "baxis": {
            "gridcolor": "white",
            "linecolor": "white",
            "ticks": ""
           },
           "bgcolor": "#E5ECF6",
           "caxis": {
            "gridcolor": "white",
            "linecolor": "white",
            "ticks": ""
           }
          },
          "title": {
           "x": 0.05
          },
          "xaxis": {
           "automargin": true,
           "gridcolor": "white",
           "linecolor": "white",
           "ticks": "",
           "title": {
            "standoff": 15
           },
           "zerolinecolor": "white",
           "zerolinewidth": 2
          },
          "yaxis": {
           "automargin": true,
           "gridcolor": "white",
           "linecolor": "white",
           "ticks": "",
           "title": {
            "standoff": 15
           },
           "zerolinecolor": "white",
           "zerolinewidth": 2
          }
         }
        },
        "title": {
         "text": "Desempleo Mayor: Poblacion de 55+ años"
        },
        "xaxis": {
         "gridcolor": "#E5E5E5",
         "gridwidth": 0.5,
         "showgrid": true,
         "tickfont": {
          "family": "Georgia, serif"
         },
         "title": {
          "text": "Año"
         }
        },
        "yaxis": {
         "gridcolor": "#E5E5E5",
         "gridwidth": 0.5,
         "showgrid": true,
         "tickfont": {
          "family": "Georgia, serif"
         },
         "tickformat": ",",
         "title": {
          "text": "Personas Desocupadas (Promedio Anual)"
         }
        }
       }
      }
     },
     "metadata": {},
     "output_type": "display_data"
    },
    {
     "name": "stdout",
     "output_type": "stream",
     "text": [
      "\n",
      "[RESUMEN] POR GRUPOS:\n",
      "----------------------------------------\n",
      "• 15-24 años  :   4,140 personas promedio\n",
      "• 25-34 años  :   4,535 personas promedio\n",
      "• 35-44 años  :   3,591 personas promedio\n",
      "• 45-54 años  :   2,768 personas promedio\n",
      "• 55-64 años  :   1,997 personas promedio\n",
      "• 65+ años    :     882 personas promedio\n",
      "\n",
      "✅ Analisis por edades completado\n",
      "📌 Datos suavizados por promedios anuales para mayor claridad\n"
     ]
    }
   ],
   "source": [
    "# GRAFICO 3: POBLACION MAYOR\n",
    "print(\"\\n[GRAFICO 3] POBLACION MAYOR\")\n",
    "\n",
    "grupos_mayores = [\"55-64 años\", \"65+ años\"]\n",
    "fig3 = go.Figure()\n",
    "\n",
    "for i, grupo in enumerate(grupos_mayores):\n",
    "    data = df_final[df_final[\"grupo\"] == grupo]\n",
    "    \n",
    "    # Promediar por año\n",
    "    data_anual = data.groupby(data[\"periodo\"].dt.year)[\"valor\"].mean().reset_index()\n",
    "    data_anual[\"periodo\"] = pd.to_datetime(data_anual[\"periodo\"], format='%Y')\n",
    "    \n",
    "    fig3.add_trace(go.Scatter(\n",
    "        x=data_anual[\"periodo\"],\n",
    "        y=data_anual[\"valor\"],\n",
    "        mode='lines+markers',\n",
    "        line=dict(color=economist_colors[i+4], width=4),\n",
    "        marker=dict(size=8),\n",
    "        name=grupo,\n",
    "        hovertemplate=f'<b>{grupo}</b><br>Año: %{{x|%Y}}<br>Promedio: %{{y:,.0f}} personas<extra></extra>'\n",
    "    ))\n",
    "\n",
    "fig3 = apply_economist_style(fig3)\n",
    "fig3.update_layout(\n",
    "    title=\"Desempleo Mayor: Poblacion de 55+ años\",\n",
    "    xaxis_title=\"Año\",\n",
    "    yaxis_title=\"Personas Desocupadas (Promedio Anual)\",\n",
    "    height=500,\n",
    "    showlegend=True\n",
    ")\n",
    "\n",
    "fig3.update_yaxes(tickformat=',')\n",
    "fig3.show()\n",
    "\n",
    "# RESUMEN SIMPLE\n",
    "print(f\"\\n[RESUMEN] POR GRUPOS:\")\n",
    "print(\"-\" * 40)\n",
    "\n",
    "for grupo in sorted(df_final[\"grupo\"].unique()):\n",
    "    promedio = df_final[df_final[\"grupo\"] == grupo][\"valor\"].mean()\n",
    "    print(f\"• {grupo:12}: {promedio:7,.0f} personas promedio\")\n",
    "\n",
    "print(\"\\n✅ Analisis por edades completado\")\n",
    "print(\"📌 Datos suavizados por promedios anuales para mayor claridad\")"
   ]
  },
  {
   "cell_type": "code",
   "execution_count": null,
   "id": "26850ec5",
   "metadata": {},
   "outputs": [
    {
     "name": "stdout",
     "output_type": "stream",
     "text": [
      "\n",
      "[GRAFICO GENERAL] COMPARACION DE TODOS LOS GRUPOS\n"
     ]
    },
    {
     "data": {
      "application/vnd.plotly.v1+json": {
       "config": {
        "plotlyServerURL": "https://plot.ly"
       },
       "data": [
        {
         "hovertemplate": "<b>15-24 años</b><br>Año: %{x|%Y}<br>Promedio: %{y:,.0f} personas<extra></extra>",
         "line": {
          "color": "#FFD700",
          "width": 3
         },
         "mode": "lines",
         "name": "15-24 años",
         "type": "scatter",
         "x": [
          "2010-01-01T00:00:00.000000000",
          "2011-01-01T00:00:00.000000000",
          "2012-01-01T00:00:00.000000000",
          "2013-01-01T00:00:00.000000000",
          "2014-01-01T00:00:00.000000000",
          "2015-01-01T00:00:00.000000000",
          "2016-01-01T00:00:00.000000000",
          "2017-01-01T00:00:00.000000000",
          "2018-01-01T00:00:00.000000000",
          "2019-01-01T00:00:00.000000000",
          "2020-01-01T00:00:00.000000000",
          "2021-01-01T00:00:00.000000000",
          "2022-01-01T00:00:00.000000000",
          "2023-01-01T00:00:00.000000000",
          "2024-01-01T00:00:00.000000000",
          "2025-01-01T00:00:00.000000000"
         ],
         "y": {
          "bdata": "hPqXJyKirkC3dWOYcGOuQGhduM3Acq5ABsKkPO60r0CgMmshJuSsQAvHq/R2zK5Aoz8wRQuQsEByqXKjO4awQLA6MeNbJLFA7q5evGf8sEDN9FtKBwWzQLpQMI0TBa1A54OUWLsVsED2aZymExOwQFlzgFGULbFAenpBuj8csUA=",
          "dtype": "f8"
         }
        },
        {
         "hovertemplate": "<b>25-34 años</b><br>Año: %{x|%Y}<br>Promedio: %{y:,.0f} personas<extra></extra>",
         "line": {
          "color": "#1E88E5",
          "width": 3
         },
         "mode": "lines",
         "name": "25-34 años",
         "type": "scatter",
         "x": [
          "2010-01-01T00:00:00.000000000",
          "2011-01-01T00:00:00.000000000",
          "2012-01-01T00:00:00.000000000",
          "2013-01-01T00:00:00.000000000",
          "2014-01-01T00:00:00.000000000",
          "2015-01-01T00:00:00.000000000",
          "2016-01-01T00:00:00.000000000",
          "2017-01-01T00:00:00.000000000",
          "2018-01-01T00:00:00.000000000",
          "2019-01-01T00:00:00.000000000",
          "2020-01-01T00:00:00.000000000",
          "2021-01-01T00:00:00.000000000",
          "2022-01-01T00:00:00.000000000",
          "2023-01-01T00:00:00.000000000",
          "2024-01-01T00:00:00.000000000",
          "2025-01-01T00:00:00.000000000"
         ],
         "y": {
          "bdata": "wL6EcmCqsUDkL6PPA1CxQCQLi0rKoq9A2tORJ+iwr0BeUB9BiFawQLGR8/Yz1bBAIx0sqE0HsUAv9rJRvfqxQDvpe/AZi7JA4Uma3vxDskATnWuxgrSxQBc5wNgNJ7NAggdvnk3es0DwizoKiG+yQE1csbUHwLNAfNOfc5NUtkA=",
          "dtype": "f8"
         }
        },
        {
         "hovertemplate": "<b>35-44 años</b><br>Año: %{x|%Y}<br>Promedio: %{y:,.0f} personas<extra></extra>",
         "line": {
          "color": "#757575",
          "width": 3
         },
         "mode": "lines",
         "name": "35-44 años",
         "type": "scatter",
         "x": [
          "2010-01-01T00:00:00.000000000",
          "2011-01-01T00:00:00.000000000",
          "2012-01-01T00:00:00.000000000",
          "2013-01-01T00:00:00.000000000",
          "2014-01-01T00:00:00.000000000",
          "2015-01-01T00:00:00.000000000",
          "2016-01-01T00:00:00.000000000",
          "2017-01-01T00:00:00.000000000",
          "2018-01-01T00:00:00.000000000",
          "2019-01-01T00:00:00.000000000",
          "2020-01-01T00:00:00.000000000",
          "2021-01-01T00:00:00.000000000",
          "2022-01-01T00:00:00.000000000",
          "2023-01-01T00:00:00.000000000",
          "2024-01-01T00:00:00.000000000",
          "2025-01-01T00:00:00.000000000"
         ],
         "y": {
          "bdata": "olM6/0rKq0C5Pf1QnyqoQJCVoiIJ86VACwH+A1KtpEDoz9O/U56nQO0m1hPYa6hAgrd2hUYmqkBPZNgUCKKsQABKEpgyzqtAnsNO3T/6rUDIFpYkejGwQOPWXfSnq65A2EFQFlCUr0AJmkO9ZnOwQAq0zYtpk7JAgJfVLwhLs0A=",
          "dtype": "f8"
         }
        },
        {
         "hovertemplate": "<b>45-54 años</b><br>Año: %{x|%Y}<br>Promedio: %{y:,.0f} personas<extra></extra>",
         "line": {
          "color": "#FFC107",
          "width": 3
         },
         "mode": "lines",
         "name": "45-54 años",
         "type": "scatter",
         "x": [
          "2010-01-01T00:00:00.000000000",
          "2011-01-01T00:00:00.000000000",
          "2012-01-01T00:00:00.000000000",
          "2013-01-01T00:00:00.000000000",
          "2014-01-01T00:00:00.000000000",
          "2015-01-01T00:00:00.000000000",
          "2016-01-01T00:00:00.000000000",
          "2017-01-01T00:00:00.000000000",
          "2018-01-01T00:00:00.000000000",
          "2019-01-01T00:00:00.000000000",
          "2020-01-01T00:00:00.000000000",
          "2021-01-01T00:00:00.000000000",
          "2022-01-01T00:00:00.000000000",
          "2023-01-01T00:00:00.000000000",
          "2024-01-01T00:00:00.000000000",
          "2025-01-01T00:00:00.000000000"
         ],
         "y": {
          "bdata": "EN8RH04po0CgRJqeoAegQDlsBsEm8JpAUrOZ76fxnEDUcBA/YFOgQBrQkIhL1qBAV++5JpS1oUBEG0Cu4rSkQBu9rHhmzaRA3Bn2G6DfpkANpLesUPavQHGanQy8F6lAZ+X0DgZ9rECjzOimgditQPOuhzz3a6xAwuxy5Q47rEA=",
          "dtype": "f8"
         }
        },
        {
         "hovertemplate": "<b>55-64 años</b><br>Año: %{x|%Y}<br>Promedio: %{y:,.0f} personas<extra></extra>",
         "line": {
          "color": "#2196F3",
          "width": 3
         },
         "mode": "lines",
         "name": "55-64 años",
         "type": "scatter",
         "x": [
          "2010-01-01T00:00:00.000000000",
          "2011-01-01T00:00:00.000000000",
          "2012-01-01T00:00:00.000000000",
          "2013-01-01T00:00:00.000000000",
          "2014-01-01T00:00:00.000000000",
          "2015-01-01T00:00:00.000000000",
          "2016-01-01T00:00:00.000000000",
          "2017-01-01T00:00:00.000000000",
          "2018-01-01T00:00:00.000000000",
          "2019-01-01T00:00:00.000000000",
          "2020-01-01T00:00:00.000000000",
          "2021-01-01T00:00:00.000000000",
          "2022-01-01T00:00:00.000000000",
          "2023-01-01T00:00:00.000000000",
          "2024-01-01T00:00:00.000000000",
          "2025-01-01T00:00:00.000000000"
         ],
         "y": {
          "bdata": "9nFr2zO2lkDFxGBukQCWQM62EadvC5VA1x/x0FiElUBnANDrXQ6ZQO3jsn3FpZlAc8CVcbmYnkD7M02/SUigQAY1qpxRG55AkYJKFRZBnkDy2qfBWIGmQC0ndTtI56JAci7DPF91o0DcAuTevvKlQN27TSM19qRA0KGWUyI/pEA=",
          "dtype": "f8"
         }
        },
        {
         "hovertemplate": "<b>65+ años</b><br>Año: %{x|%Y}<br>Promedio: %{y:,.0f} personas<extra></extra>",
         "line": {
          "color": "#9E9E9E",
          "width": 3
         },
         "mode": "lines",
         "name": "65+ años",
         "type": "scatter",
         "x": [
          "2010-01-01T00:00:00.000000000",
          "2011-01-01T00:00:00.000000000",
          "2012-01-01T00:00:00.000000000",
          "2013-01-01T00:00:00.000000000",
          "2014-01-01T00:00:00.000000000",
          "2015-01-01T00:00:00.000000000",
          "2016-01-01T00:00:00.000000000",
          "2017-01-01T00:00:00.000000000",
          "2018-01-01T00:00:00.000000000",
          "2019-01-01T00:00:00.000000000",
          "2020-01-01T00:00:00.000000000",
          "2021-01-01T00:00:00.000000000",
          "2022-01-01T00:00:00.000000000",
          "2023-01-01T00:00:00.000000000",
          "2024-01-01T00:00:00.000000000",
          "2025-01-01T00:00:00.000000000"
         ],
         "y": {
          "bdata": "nYmD1Swlh0D8xzz9QFOHQAtHOL4y3YhAfP6M940ZhUD+1dpuT4CKQAByTdCDe4hATLCH+dWsi0C41kJYV/2LQGxye78MO4xAHU/1Yt3fjkBCME6hZaGOQJfhI4aXqo5AVo+M3cdHj0CboRmj1IaLQEFfG7LpZJBAHLTvxdsMj0A=",
          "dtype": "f8"
         }
        }
       ],
       "layout": {
        "font": {
         "color": "#1e293b",
         "family": "Georgia, serif"
        },
        "height": 600,
        "legend": {
         "font": {
          "family": "Georgia, serif"
         },
         "orientation": "v",
         "x": 1.02,
         "xanchor": "left",
         "y": 1,
         "yanchor": "top"
        },
        "margin": {
         "b": 60,
         "l": 60,
         "r": 40,
         "t": 80
        },
        "paper_bgcolor": "white",
        "plot_bgcolor": "white",
        "template": {
         "data": {
          "bar": [
           {
            "error_x": {
             "color": "#2a3f5f"
            },
            "error_y": {
             "color": "#2a3f5f"
            },
            "marker": {
             "line": {
              "color": "#E5ECF6",
              "width": 0.5
             },
             "pattern": {
              "fillmode": "overlay",
              "size": 10,
              "solidity": 0.2
             }
            },
            "type": "bar"
           }
          ],
          "barpolar": [
           {
            "marker": {
             "line": {
              "color": "#E5ECF6",
              "width": 0.5
             },
             "pattern": {
              "fillmode": "overlay",
              "size": 10,
              "solidity": 0.2
             }
            },
            "type": "barpolar"
           }
          ],
          "carpet": [
           {
            "aaxis": {
             "endlinecolor": "#2a3f5f",
             "gridcolor": "white",
             "linecolor": "white",
             "minorgridcolor": "white",
             "startlinecolor": "#2a3f5f"
            },
            "baxis": {
             "endlinecolor": "#2a3f5f",
             "gridcolor": "white",
             "linecolor": "white",
             "minorgridcolor": "white",
             "startlinecolor": "#2a3f5f"
            },
            "type": "carpet"
           }
          ],
          "choropleth": [
           {
            "colorbar": {
             "outlinewidth": 0,
             "ticks": ""
            },
            "type": "choropleth"
           }
          ],
          "contour": [
           {
            "colorbar": {
             "outlinewidth": 0,
             "ticks": ""
            },
            "colorscale": [
             [
              0,
              "#0d0887"
             ],
             [
              0.1111111111111111,
              "#46039f"
             ],
             [
              0.2222222222222222,
              "#7201a8"
             ],
             [
              0.3333333333333333,
              "#9c179e"
             ],
             [
              0.4444444444444444,
              "#bd3786"
             ],
             [
              0.5555555555555556,
              "#d8576b"
             ],
             [
              0.6666666666666666,
              "#ed7953"
             ],
             [
              0.7777777777777778,
              "#fb9f3a"
             ],
             [
              0.8888888888888888,
              "#fdca26"
             ],
             [
              1,
              "#f0f921"
             ]
            ],
            "type": "contour"
           }
          ],
          "contourcarpet": [
           {
            "colorbar": {
             "outlinewidth": 0,
             "ticks": ""
            },
            "type": "contourcarpet"
           }
          ],
          "heatmap": [
           {
            "colorbar": {
             "outlinewidth": 0,
             "ticks": ""
            },
            "colorscale": [
             [
              0,
              "#0d0887"
             ],
             [
              0.1111111111111111,
              "#46039f"
             ],
             [
              0.2222222222222222,
              "#7201a8"
             ],
             [
              0.3333333333333333,
              "#9c179e"
             ],
             [
              0.4444444444444444,
              "#bd3786"
             ],
             [
              0.5555555555555556,
              "#d8576b"
             ],
             [
              0.6666666666666666,
              "#ed7953"
             ],
             [
              0.7777777777777778,
              "#fb9f3a"
             ],
             [
              0.8888888888888888,
              "#fdca26"
             ],
             [
              1,
              "#f0f921"
             ]
            ],
            "type": "heatmap"
           }
          ],
          "histogram": [
           {
            "marker": {
             "pattern": {
              "fillmode": "overlay",
              "size": 10,
              "solidity": 0.2
             }
            },
            "type": "histogram"
           }
          ],
          "histogram2d": [
           {
            "colorbar": {
             "outlinewidth": 0,
             "ticks": ""
            },
            "colorscale": [
             [
              0,
              "#0d0887"
             ],
             [
              0.1111111111111111,
              "#46039f"
             ],
             [
              0.2222222222222222,
              "#7201a8"
             ],
             [
              0.3333333333333333,
              "#9c179e"
             ],
             [
              0.4444444444444444,
              "#bd3786"
             ],
             [
              0.5555555555555556,
              "#d8576b"
             ],
             [
              0.6666666666666666,
              "#ed7953"
             ],
             [
              0.7777777777777778,
              "#fb9f3a"
             ],
             [
              0.8888888888888888,
              "#fdca26"
             ],
             [
              1,
              "#f0f921"
             ]
            ],
            "type": "histogram2d"
           }
          ],
          "histogram2dcontour": [
           {
            "colorbar": {
             "outlinewidth": 0,
             "ticks": ""
            },
            "colorscale": [
             [
              0,
              "#0d0887"
             ],
             [
              0.1111111111111111,
              "#46039f"
             ],
             [
              0.2222222222222222,
              "#7201a8"
             ],
             [
              0.3333333333333333,
              "#9c179e"
             ],
             [
              0.4444444444444444,
              "#bd3786"
             ],
             [
              0.5555555555555556,
              "#d8576b"
             ],
             [
              0.6666666666666666,
              "#ed7953"
             ],
             [
              0.7777777777777778,
              "#fb9f3a"
             ],
             [
              0.8888888888888888,
              "#fdca26"
             ],
             [
              1,
              "#f0f921"
             ]
            ],
            "type": "histogram2dcontour"
           }
          ],
          "mesh3d": [
           {
            "colorbar": {
             "outlinewidth": 0,
             "ticks": ""
            },
            "type": "mesh3d"
           }
          ],
          "parcoords": [
           {
            "line": {
             "colorbar": {
              "outlinewidth": 0,
              "ticks": ""
             }
            },
            "type": "parcoords"
           }
          ],
          "pie": [
           {
            "automargin": true,
            "type": "pie"
           }
          ],
          "scatter": [
           {
            "fillpattern": {
             "fillmode": "overlay",
             "size": 10,
             "solidity": 0.2
            },
            "type": "scatter"
           }
          ],
          "scatter3d": [
           {
            "line": {
             "colorbar": {
              "outlinewidth": 0,
              "ticks": ""
             }
            },
            "marker": {
             "colorbar": {
              "outlinewidth": 0,
              "ticks": ""
             }
            },
            "type": "scatter3d"
           }
          ],
          "scattercarpet": [
           {
            "marker": {
             "colorbar": {
              "outlinewidth": 0,
              "ticks": ""
             }
            },
            "type": "scattercarpet"
           }
          ],
          "scattergeo": [
           {
            "marker": {
             "colorbar": {
              "outlinewidth": 0,
              "ticks": ""
             }
            },
            "type": "scattergeo"
           }
          ],
          "scattergl": [
           {
            "marker": {
             "colorbar": {
              "outlinewidth": 0,
              "ticks": ""
             }
            },
            "type": "scattergl"
           }
          ],
          "scattermap": [
           {
            "marker": {
             "colorbar": {
              "outlinewidth": 0,
              "ticks": ""
             }
            },
            "type": "scattermap"
           }
          ],
          "scattermapbox": [
           {
            "marker": {
             "colorbar": {
              "outlinewidth": 0,
              "ticks": ""
             }
            },
            "type": "scattermapbox"
           }
          ],
          "scatterpolar": [
           {
            "marker": {
             "colorbar": {
              "outlinewidth": 0,
              "ticks": ""
             }
            },
            "type": "scatterpolar"
           }
          ],
          "scatterpolargl": [
           {
            "marker": {
             "colorbar": {
              "outlinewidth": 0,
              "ticks": ""
             }
            },
            "type": "scatterpolargl"
           }
          ],
          "scatterternary": [
           {
            "marker": {
             "colorbar": {
              "outlinewidth": 0,
              "ticks": ""
             }
            },
            "type": "scatterternary"
           }
          ],
          "surface": [
           {
            "colorbar": {
             "outlinewidth": 0,
             "ticks": ""
            },
            "colorscale": [
             [
              0,
              "#0d0887"
             ],
             [
              0.1111111111111111,
              "#46039f"
             ],
             [
              0.2222222222222222,
              "#7201a8"
             ],
             [
              0.3333333333333333,
              "#9c179e"
             ],
             [
              0.4444444444444444,
              "#bd3786"
             ],
             [
              0.5555555555555556,
              "#d8576b"
             ],
             [
              0.6666666666666666,
              "#ed7953"
             ],
             [
              0.7777777777777778,
              "#fb9f3a"
             ],
             [
              0.8888888888888888,
              "#fdca26"
             ],
             [
              1,
              "#f0f921"
             ]
            ],
            "type": "surface"
           }
          ],
          "table": [
           {
            "cells": {
             "fill": {
              "color": "#EBF0F8"
             },
             "line": {
              "color": "white"
             }
            },
            "header": {
             "fill": {
              "color": "#C8D4E3"
             },
             "line": {
              "color": "white"
             }
            },
            "type": "table"
           }
          ]
         },
         "layout": {
          "annotationdefaults": {
           "arrowcolor": "#2a3f5f",
           "arrowhead": 0,
           "arrowwidth": 1
          },
          "autotypenumbers": "strict",
          "coloraxis": {
           "colorbar": {
            "outlinewidth": 0,
            "ticks": ""
           }
          },
          "colorscale": {
           "diverging": [
            [
             0,
             "#8e0152"
            ],
            [
             0.1,
             "#c51b7d"
            ],
            [
             0.2,
             "#de77ae"
            ],
            [
             0.3,
             "#f1b6da"
            ],
            [
             0.4,
             "#fde0ef"
            ],
            [
             0.5,
             "#f7f7f7"
            ],
            [
             0.6,
             "#e6f5d0"
            ],
            [
             0.7,
             "#b8e186"
            ],
            [
             0.8,
             "#7fbc41"
            ],
            [
             0.9,
             "#4d9221"
            ],
            [
             1,
             "#276419"
            ]
           ],
           "sequential": [
            [
             0,
             "#0d0887"
            ],
            [
             0.1111111111111111,
             "#46039f"
            ],
            [
             0.2222222222222222,
             "#7201a8"
            ],
            [
             0.3333333333333333,
             "#9c179e"
            ],
            [
             0.4444444444444444,
             "#bd3786"
            ],
            [
             0.5555555555555556,
             "#d8576b"
            ],
            [
             0.6666666666666666,
             "#ed7953"
            ],
            [
             0.7777777777777778,
             "#fb9f3a"
            ],
            [
             0.8888888888888888,
             "#fdca26"
            ],
            [
             1,
             "#f0f921"
            ]
           ],
           "sequentialminus": [
            [
             0,
             "#0d0887"
            ],
            [
             0.1111111111111111,
             "#46039f"
            ],
            [
             0.2222222222222222,
             "#7201a8"
            ],
            [
             0.3333333333333333,
             "#9c179e"
            ],
            [
             0.4444444444444444,
             "#bd3786"
            ],
            [
             0.5555555555555556,
             "#d8576b"
            ],
            [
             0.6666666666666666,
             "#ed7953"
            ],
            [
             0.7777777777777778,
             "#fb9f3a"
            ],
            [
             0.8888888888888888,
             "#fdca26"
            ],
            [
             1,
             "#f0f921"
            ]
           ]
          },
          "colorway": [
           "#636efa",
           "#EF553B",
           "#00cc96",
           "#ab63fa",
           "#FFA15A",
           "#19d3f3",
           "#FF6692",
           "#B6E880",
           "#FF97FF",
           "#FECB52"
          ],
          "font": {
           "color": "#2a3f5f"
          },
          "geo": {
           "bgcolor": "white",
           "lakecolor": "white",
           "landcolor": "#E5ECF6",
           "showlakes": true,
           "showland": true,
           "subunitcolor": "white"
          },
          "hoverlabel": {
           "align": "left"
          },
          "hovermode": "closest",
          "mapbox": {
           "style": "light"
          },
          "paper_bgcolor": "white",
          "plot_bgcolor": "#E5ECF6",
          "polar": {
           "angularaxis": {
            "gridcolor": "white",
            "linecolor": "white",
            "ticks": ""
           },
           "bgcolor": "#E5ECF6",
           "radialaxis": {
            "gridcolor": "white",
            "linecolor": "white",
            "ticks": ""
           }
          },
          "scene": {
           "xaxis": {
            "backgroundcolor": "#E5ECF6",
            "gridcolor": "white",
            "gridwidth": 2,
            "linecolor": "white",
            "showbackground": true,
            "ticks": "",
            "zerolinecolor": "white"
           },
           "yaxis": {
            "backgroundcolor": "#E5ECF6",
            "gridcolor": "white",
            "gridwidth": 2,
            "linecolor": "white",
            "showbackground": true,
            "ticks": "",
            "zerolinecolor": "white"
           },
           "zaxis": {
            "backgroundcolor": "#E5ECF6",
            "gridcolor": "white",
            "gridwidth": 2,
            "linecolor": "white",
            "showbackground": true,
            "ticks": "",
            "zerolinecolor": "white"
           }
          },
          "shapedefaults": {
           "line": {
            "color": "#2a3f5f"
           }
          },
          "ternary": {
           "aaxis": {
            "gridcolor": "white",
            "linecolor": "white",
            "ticks": ""
           },
           "baxis": {
            "gridcolor": "white",
            "linecolor": "white",
            "ticks": ""
           },
           "bgcolor": "#E5ECF6",
           "caxis": {
            "gridcolor": "white",
            "linecolor": "white",
            "ticks": ""
           }
          },
          "title": {
           "x": 0.05
          },
          "xaxis": {
           "automargin": true,
           "gridcolor": "white",
           "linecolor": "white",
           "ticks": "",
           "title": {
            "standoff": 15
           },
           "zerolinecolor": "white",
           "zerolinewidth": 2
          },
          "yaxis": {
           "automargin": true,
           "gridcolor": "white",
           "linecolor": "white",
           "ticks": "",
           "title": {
            "standoff": 15
           },
           "zerolinecolor": "white",
           "zerolinewidth": 2
          }
         }
        },
        "title": {
         "text": "Comparacion General: Desempleo por Grupos Etarios"
        },
        "xaxis": {
         "gridcolor": "#E5E5E5",
         "gridwidth": 0.5,
         "showgrid": true,
         "tickfont": {
          "family": "Georgia, serif"
         },
         "title": {
          "text": "Año"
         }
        },
        "yaxis": {
         "gridcolor": "#E5E5E5",
         "gridwidth": 0.5,
         "showgrid": true,
         "tickfont": {
          "family": "Georgia, serif"
         },
         "tickformat": ",",
         "title": {
          "text": "Personas Desocupadas (Promedio Anual)"
         }
        }
       }
      }
     },
     "metadata": {},
     "output_type": "display_data"
    }
   ],
   "source": [
    "# COMPARACIÓN GENERAL: TODOS LOS GRUPOS (ESTILO THE ECONOMIST, MÁS CLARO)\n",
    "print(\"\\n[GRAFICO GENERAL] COMPARACION DE TODOS LOS GRUPOS - ESTILO MEJORADO\")\n",
    "\n",
    "fig_general = go.Figure()\n",
    "\n",
    "# Orden y estilos accesibles (mismo color por familia, distinguiendo con línea y marcador)\n",
    "orden_grupos = [\n",
    "    \"15-24 años\", \"25-34 años\", \"35-44 años\",\n",
    "    \"45-54 años\", \"55-64 años\", \"65+ años\"\n",
    "]\n",
    "\n",
    "estilos = {\n",
    "    \"15-24 años\": {\"color\": economist_colors[0], \"dash\": \"solid\", \"marker\": \"circle\"},\n",
    "    \"25-34 años\": {\"color\": economist_colors[1], \"dash\": \"solid\", \"marker\": \"square\"},\n",
    "    \"35-44 años\": {\"color\": economist_colors[2], \"dash\": \"solid\", \"marker\": \"diamond\"},\n",
    "    \"45-54 años\": {\"color\": economist_colors[0], \"dash\": \"dash\",  \"marker\": \"triangle-up\"},\n",
    "    \"55-64 años\": {\"color\": economist_colors[1], \"dash\": \"dash\",  \"marker\": \"cross\"},\n",
    "    \"65+ años\":   {\"color\": economist_colors[2], \"dash\": \"dash\",  \"marker\": \"x\"},\n",
    "}\n",
    "\n",
    "# Si el dataset no tuviera alguno, usamos los presentes\n",
    "presentes = sorted(df_final[\"grupo\"].unique())\n",
    "grupos = [g for g in orden_grupos if g in presentes]\n",
    "\n",
    "for grupo in grupos:\n",
    "    data = df_final[df_final[\"grupo\"] == grupo]\n",
    "    # Promedio anual para claridad\n",
    "    data_anual = data.groupby(data[\"periodo\"].dt.year)[\"valor\"].mean().reset_index()\n",
    "    data_anual[\"periodo\"] = pd.to_datetime(data_anual[\"periodo\"], format='%Y')\n",
    "\n",
    "    estilo = estilos.get(grupo, {\"color\": economist_colors[2], \"dash\": \"solid\", \"marker\": \"circle\"})\n",
    "\n",
    "    fig_general.add_trace(\n",
    "        go.Scatter(\n",
    "            x=data_anual[\"periodo\"],\n",
    "            y=data_anual[\"valor\"],\n",
    "            mode=\"lines+markers\",\n",
    "            line=dict(color=estilo[\"color\"], width=3.5, dash=estilo[\"dash\"]),\n",
    "            marker=dict(size=7, symbol=estilo[\"marker\"], line=dict(color=\"white\", width=1.5)),\n",
    "            name=grupo,\n",
    "            hovertemplate=f\"<b>{grupo}</b><br>Año: %{{x|%Y}}<br>Promedio: %{{y:,.0f}} personas<extra></extra>\",\n",
    "        )\n",
    "    )\n",
    "\n",
    "fig_general = apply_economist_style(fig_general)\n",
    "fig_general.update_layout(\n",
    "    title=\"Comparación general: Desempleo por grupos etarios (promedio anual)\",\n",
    "    xaxis_title=\"Año\",\n",
    "    yaxis_title=\"Personas desocupadas (promedio anual)\",\n",
    "    height=600,\n",
    "    legend=dict(\n",
    "        orientation=\"v\",\n",
    "        yanchor=\"top\",\n",
    "        y=1,\n",
    "        xanchor=\"left\",\n",
    "        x=1.02,\n",
    "        title=\"Grupos etarios\",\n",
    "    ),\n",
    ")\n",
    "\n",
    "fig_general.update_yaxes(tickformat=',')\n",
    "fig_general.show()"
   ]
  },
  {
   "cell_type": "code",
   "execution_count": 55,
   "id": "2707b140",
   "metadata": {},
   "outputs": [
    {
     "data": {
      "application/vnd.plotly.v1+json": {
       "config": {
        "plotlyServerURL": "https://plot.ly"
       },
       "data": [
        {
         "fill": "tozeroy",
         "fillcolor": "rgba(232, 68, 58, 0.15)",
         "hovertemplate": "<b>Fecha:</b> %{x}<br><b>Total Personas:</b> %{y:,.0f}<extra></extra>",
         "line": {
          "color": "#FFD700",
          "width": 4
         },
         "mode": "lines",
         "name": "Desempleo Total",
         "type": "scatter",
         "x": [
          "2010-01-01T00:00:00.000000000",
          "2010-02-01T00:00:00.000000000",
          "2010-03-01T00:00:00.000000000",
          "2010-04-01T00:00:00.000000000",
          "2010-05-01T00:00:00.000000000",
          "2010-06-01T00:00:00.000000000",
          "2010-07-01T00:00:00.000000000",
          "2010-08-01T00:00:00.000000000",
          "2010-09-01T00:00:00.000000000",
          "2010-10-01T00:00:00.000000000",
          "2010-11-01T00:00:00.000000000",
          "2010-12-01T00:00:00.000000000",
          "2011-01-01T00:00:00.000000000",
          "2011-02-01T00:00:00.000000000",
          "2011-03-01T00:00:00.000000000",
          "2011-04-01T00:00:00.000000000",
          "2011-05-01T00:00:00.000000000",
          "2011-06-01T00:00:00.000000000",
          "2011-07-01T00:00:00.000000000",
          "2011-08-01T00:00:00.000000000",
          "2011-09-01T00:00:00.000000000",
          "2011-10-01T00:00:00.000000000",
          "2011-11-01T00:00:00.000000000",
          "2011-12-01T00:00:00.000000000",
          "2012-01-01T00:00:00.000000000",
          "2012-02-01T00:00:00.000000000",
          "2012-03-01T00:00:00.000000000",
          "2012-04-01T00:00:00.000000000",
          "2012-05-01T00:00:00.000000000",
          "2012-06-01T00:00:00.000000000",
          "2012-07-01T00:00:00.000000000",
          "2012-08-01T00:00:00.000000000",
          "2012-09-01T00:00:00.000000000",
          "2012-10-01T00:00:00.000000000",
          "2012-11-01T00:00:00.000000000",
          "2012-12-01T00:00:00.000000000",
          "2013-01-01T00:00:00.000000000",
          "2013-02-01T00:00:00.000000000",
          "2013-03-01T00:00:00.000000000",
          "2013-04-01T00:00:00.000000000",
          "2013-05-01T00:00:00.000000000",
          "2013-06-01T00:00:00.000000000",
          "2013-07-01T00:00:00.000000000",
          "2013-08-01T00:00:00.000000000",
          "2013-09-01T00:00:00.000000000",
          "2013-10-01T00:00:00.000000000",
          "2013-11-01T00:00:00.000000000",
          "2013-12-01T00:00:00.000000000",
          "2014-01-01T00:00:00.000000000",
          "2014-02-01T00:00:00.000000000",
          "2014-03-01T00:00:00.000000000",
          "2014-04-01T00:00:00.000000000",
          "2014-05-01T00:00:00.000000000",
          "2014-06-01T00:00:00.000000000",
          "2014-07-01T00:00:00.000000000",
          "2014-08-01T00:00:00.000000000",
          "2014-09-01T00:00:00.000000000",
          "2014-10-01T00:00:00.000000000",
          "2014-11-01T00:00:00.000000000",
          "2014-12-01T00:00:00.000000000",
          "2015-01-01T00:00:00.000000000",
          "2015-02-01T00:00:00.000000000",
          "2015-03-01T00:00:00.000000000",
          "2015-04-01T00:00:00.000000000",
          "2015-05-01T00:00:00.000000000",
          "2015-06-01T00:00:00.000000000",
          "2015-07-01T00:00:00.000000000",
          "2015-08-01T00:00:00.000000000",
          "2015-09-01T00:00:00.000000000",
          "2015-10-01T00:00:00.000000000",
          "2015-11-01T00:00:00.000000000",
          "2015-12-01T00:00:00.000000000",
          "2016-01-01T00:00:00.000000000",
          "2016-02-01T00:00:00.000000000",
          "2016-03-01T00:00:00.000000000",
          "2016-04-01T00:00:00.000000000",
          "2016-05-01T00:00:00.000000000",
          "2016-06-01T00:00:00.000000000",
          "2016-07-01T00:00:00.000000000",
          "2016-08-01T00:00:00.000000000",
          "2016-09-01T00:00:00.000000000",
          "2016-10-01T00:00:00.000000000",
          "2016-11-01T00:00:00.000000000",
          "2016-12-01T00:00:00.000000000",
          "2017-01-01T00:00:00.000000000",
          "2017-02-01T00:00:00.000000000",
          "2017-03-01T00:00:00.000000000",
          "2017-04-01T00:00:00.000000000",
          "2017-05-01T00:00:00.000000000",
          "2017-06-01T00:00:00.000000000",
          "2017-07-01T00:00:00.000000000",
          "2017-08-01T00:00:00.000000000",
          "2017-09-01T00:00:00.000000000",
          "2017-10-01T00:00:00.000000000",
          "2017-11-01T00:00:00.000000000",
          "2017-12-01T00:00:00.000000000",
          "2018-01-01T00:00:00.000000000",
          "2018-02-01T00:00:00.000000000",
          "2018-03-01T00:00:00.000000000",
          "2018-04-01T00:00:00.000000000",
          "2018-05-01T00:00:00.000000000",
          "2018-06-01T00:00:00.000000000",
          "2018-07-01T00:00:00.000000000",
          "2018-08-01T00:00:00.000000000",
          "2018-09-01T00:00:00.000000000",
          "2018-10-01T00:00:00.000000000",
          "2018-11-01T00:00:00.000000000",
          "2018-12-01T00:00:00.000000000",
          "2019-01-01T00:00:00.000000000",
          "2019-02-01T00:00:00.000000000",
          "2019-03-01T00:00:00.000000000",
          "2019-04-01T00:00:00.000000000",
          "2019-05-01T00:00:00.000000000",
          "2019-06-01T00:00:00.000000000",
          "2019-07-01T00:00:00.000000000",
          "2019-08-01T00:00:00.000000000",
          "2019-09-01T00:00:00.000000000",
          "2019-10-01T00:00:00.000000000",
          "2019-11-01T00:00:00.000000000",
          "2019-12-01T00:00:00.000000000",
          "2020-01-01T00:00:00.000000000",
          "2020-02-01T00:00:00.000000000",
          "2020-03-01T00:00:00.000000000",
          "2020-04-01T00:00:00.000000000",
          "2020-05-01T00:00:00.000000000",
          "2020-06-01T00:00:00.000000000",
          "2020-07-01T00:00:00.000000000",
          "2020-08-01T00:00:00.000000000",
          "2020-09-01T00:00:00.000000000",
          "2020-10-01T00:00:00.000000000",
          "2020-11-01T00:00:00.000000000",
          "2020-12-01T00:00:00.000000000",
          "2021-01-01T00:00:00.000000000",
          "2021-02-01T00:00:00.000000000",
          "2021-03-01T00:00:00.000000000",
          "2021-04-01T00:00:00.000000000",
          "2021-05-01T00:00:00.000000000",
          "2021-06-01T00:00:00.000000000",
          "2021-07-01T00:00:00.000000000",
          "2021-08-01T00:00:00.000000000",
          "2021-09-01T00:00:00.000000000",
          "2021-10-01T00:00:00.000000000",
          "2021-11-01T00:00:00.000000000",
          "2021-12-01T00:00:00.000000000",
          "2022-01-01T00:00:00.000000000",
          "2022-02-01T00:00:00.000000000",
          "2022-03-01T00:00:00.000000000",
          "2022-04-01T00:00:00.000000000",
          "2022-05-01T00:00:00.000000000",
          "2022-06-01T00:00:00.000000000",
          "2022-07-01T00:00:00.000000000",
          "2022-08-01T00:00:00.000000000",
          "2022-09-01T00:00:00.000000000",
          "2022-10-01T00:00:00.000000000",
          "2022-11-01T00:00:00.000000000",
          "2022-12-01T00:00:00.000000000",
          "2023-01-01T00:00:00.000000000",
          "2023-02-01T00:00:00.000000000",
          "2023-03-01T00:00:00.000000000",
          "2023-04-01T00:00:00.000000000",
          "2023-05-01T00:00:00.000000000",
          "2023-06-01T00:00:00.000000000",
          "2023-07-01T00:00:00.000000000",
          "2023-08-01T00:00:00.000000000",
          "2023-09-01T00:00:00.000000000",
          "2023-10-01T00:00:00.000000000",
          "2023-11-01T00:00:00.000000000",
          "2023-12-01T00:00:00.000000000",
          "2024-01-01T00:00:00.000000000",
          "2024-02-01T00:00:00.000000000",
          "2024-03-01T00:00:00.000000000",
          "2024-04-01T00:00:00.000000000",
          "2024-05-01T00:00:00.000000000",
          "2024-06-01T00:00:00.000000000",
          "2024-07-01T00:00:00.000000000",
          "2024-08-01T00:00:00.000000000",
          "2024-09-01T00:00:00.000000000",
          "2024-10-01T00:00:00.000000000",
          "2024-11-01T00:00:00.000000000",
          "2024-12-01T00:00:00.000000000",
          "2025-01-01T00:00:00.000000000",
          "2025-02-01T00:00:00.000000000"
         ],
         "y": {
          "bdata": "iIZBDljjBUHMbCINan0GQQ8lr5s6agtBGoJe2bd4B0GN8W4ZzEQHQVixgBrRpwdBVLhzB+dVCEHzqvBrVTwKQVzLgc+ezAhBPuodDIccB0EsROBA82cGQfwzmP73lghBs3OFNJqUB0H1MiCLsqQHQd/jwf6y7AdBJDplcceYB0E70LcpguQIQer2fGkbDwlBg2/RbrkRCEEZb0LoXvcGQXYhZ163PQdBsrwXK9JEBkEytQCttB4EQcGDONqYHAZBKYedwZOhB0FWD/mVkvkHQdxQ0Ev2kgZB0XJDDWBrBUGmLOPoIc4FQYFNjklKQQVBnsPi0vYUB0HPgnbcJUAIQRpDLkgJ0AdB52EN9WVKBUHWTBf27w8EQblj8sfqXQRBEemrtmDBA0F9irsk1vYFQYEWtwUfxwZBMvwROzZtB0EsH/DYQpIFQURu30EbtgVBrTKpM8rtBUHFy9YW0CoHQU0gumTghwdB7SL6RFtMCEES3zrrYyAGQYkOdhOdkQhBavP5juptB0Gh1704DcEIQR1DNrafkwdB14XdAp+ECEEN3eCjN2cIQe85ikamZAdB14/tgwoVCEGhRa6j/VUHQduKdv3pDAdBGutMA+nmBUHUfM6njAUHQcxjcSwbrAVBLwzmaDJ4CEGiTUx3qr0JQSNXV36+DwlBN2MOm6VkCUFsCJofTRAHQSBBsUZc4ghBjXK16A6nCUHXmWq/K6YKQUdGKTWYTQhB1URblE9FBUGYX4uC5FAGQYFnWT1FYwhB9v1WORatCEG3AiJCRGIKQWNAuKHQjgtBgun7YWgyDEFoBzivqywNQQb1gRdqmwxBj1IBIfhEC0G5uYpmye8KQVytN15SnwpBDBb2V8bgCEG1it3IG+UJQf3eMOvTNgpBWreM9PfTCUGH5RycjRkKQTwz959fAApB58UzRgzJCkGjkBd/5/sKQZYobbHlDw9BFtcFuRnyC0GBRJUk5Y8OQUXTHaM7xgtBvwd1Nl9iDkFy79bdpd8LQZvlB/1/JwxBQBIWP7P1C0GMlPIfUxwJQcENLdr1lQhBXe88z6n6CEGqkdvofOIIQWTgGmKljQtBGqZSv46NDUEjFjWbkPoKQblnVkKvdAxB8zosrza6DEFQZPyO6nEOQby9egw4XQ5B1Py4N2LjCkFWex9AQ3AMQXuJOwbL9gpB9D83jyI+DkGu+NixAoYPQdma3O+eLgxBpVu/g5CYDUE7tuD7F4MNQR8ABvewRw1BJeRAqK0BDEH035cdOnYNQWMeHHgtjg5BLhKTaRN+DUGxIAGFw68MQbMqIs1vxA1BVTrbSQwyDkFrFO9OBMAQQfqz/U9aERJBNz6MgOT9EEF8PN1U6YgMQRmxmMs49w1BRz9/hFn1DkFOzXJd+nUPQVwUB2QP0hBBygK/y5wuEUH1Hj9phRsQQbe9t7+VeQ1BDOR3ptk9DkF9viz9UdMNQVSGwtYxHAxB02D7UZZ0DEGhHBSugaEMQTVKT6QVJw5BaLB+xKvFDEE87xngs70MQfagccpwqw5Bm2yuIyJDEEH9EEGNrk8QQTy53FZ2KBBBaposErlvEEGpjqjyKb0QQVX8OClTfBBBByjGGQNdEEFSRUqBB0QQQddpOBQBqQ1Bw6dGK0AaEEErJVPHC3wQQVHMMr4UTRBBppuclcveEEGTzWJD65wMQSSdLASjTg9BXC9fh36SDkH6NmYLReIOQSWncQD99gxBspksMP/+DEEOXhsfMEcOQSuwV8NgkA9BQgC7LR/IEEF1QqeuXxAPQT/dJK8tcw1Bf+39NPf0DkF6eNq6UcgOQSK0egiuiRBB48HmDBh+D0Hql0IJLDEQQdc6ds+ASQ5BfuhXNM5xEEEb2p6d3WMOQQ+kL7jMRRBBAA6YgZF2EEFjJb3c7iUOQdPNnhvdPBFB+xbRd+z0EEHGFZhIvgwPQQ==",
          "dtype": "f8"
         }
        },
        {
         "hovertemplate": "<b>Línea de Tendencia</b><br>Fecha: %{x}<br>Valor: %{y:,.0f}<extra></extra>",
         "line": {
          "color": "#616161",
          "dash": "dash",
          "width": 3
         },
         "mode": "lines",
         "name": "Tendencia (R²=0.749)",
         "type": "scatter",
         "x": [
          "2010-01-01T00:00:00.000000000",
          "2010-02-01T00:00:00.000000000",
          "2010-03-01T00:00:00.000000000",
          "2010-04-01T00:00:00.000000000",
          "2010-05-01T00:00:00.000000000",
          "2010-06-01T00:00:00.000000000",
          "2010-07-01T00:00:00.000000000",
          "2010-08-01T00:00:00.000000000",
          "2010-09-01T00:00:00.000000000",
          "2010-10-01T00:00:00.000000000",
          "2010-11-01T00:00:00.000000000",
          "2010-12-01T00:00:00.000000000",
          "2011-01-01T00:00:00.000000000",
          "2011-02-01T00:00:00.000000000",
          "2011-03-01T00:00:00.000000000",
          "2011-04-01T00:00:00.000000000",
          "2011-05-01T00:00:00.000000000",
          "2011-06-01T00:00:00.000000000",
          "2011-07-01T00:00:00.000000000",
          "2011-08-01T00:00:00.000000000",
          "2011-09-01T00:00:00.000000000",
          "2011-10-01T00:00:00.000000000",
          "2011-11-01T00:00:00.000000000",
          "2011-12-01T00:00:00.000000000",
          "2012-01-01T00:00:00.000000000",
          "2012-02-01T00:00:00.000000000",
          "2012-03-01T00:00:00.000000000",
          "2012-04-01T00:00:00.000000000",
          "2012-05-01T00:00:00.000000000",
          "2012-06-01T00:00:00.000000000",
          "2012-07-01T00:00:00.000000000",
          "2012-08-01T00:00:00.000000000",
          "2012-09-01T00:00:00.000000000",
          "2012-10-01T00:00:00.000000000",
          "2012-11-01T00:00:00.000000000",
          "2012-12-01T00:00:00.000000000",
          "2013-01-01T00:00:00.000000000",
          "2013-02-01T00:00:00.000000000",
          "2013-03-01T00:00:00.000000000",
          "2013-04-01T00:00:00.000000000",
          "2013-05-01T00:00:00.000000000",
          "2013-06-01T00:00:00.000000000",
          "2013-07-01T00:00:00.000000000",
          "2013-08-01T00:00:00.000000000",
          "2013-09-01T00:00:00.000000000",
          "2013-10-01T00:00:00.000000000",
          "2013-11-01T00:00:00.000000000",
          "2013-12-01T00:00:00.000000000",
          "2014-01-01T00:00:00.000000000",
          "2014-02-01T00:00:00.000000000",
          "2014-03-01T00:00:00.000000000",
          "2014-04-01T00:00:00.000000000",
          "2014-05-01T00:00:00.000000000",
          "2014-06-01T00:00:00.000000000",
          "2014-07-01T00:00:00.000000000",
          "2014-08-01T00:00:00.000000000",
          "2014-09-01T00:00:00.000000000",
          "2014-10-01T00:00:00.000000000",
          "2014-11-01T00:00:00.000000000",
          "2014-12-01T00:00:00.000000000",
          "2015-01-01T00:00:00.000000000",
          "2015-02-01T00:00:00.000000000",
          "2015-03-01T00:00:00.000000000",
          "2015-04-01T00:00:00.000000000",
          "2015-05-01T00:00:00.000000000",
          "2015-06-01T00:00:00.000000000",
          "2015-07-01T00:00:00.000000000",
          "2015-08-01T00:00:00.000000000",
          "2015-09-01T00:00:00.000000000",
          "2015-10-01T00:00:00.000000000",
          "2015-11-01T00:00:00.000000000",
          "2015-12-01T00:00:00.000000000",
          "2016-01-01T00:00:00.000000000",
          "2016-02-01T00:00:00.000000000",
          "2016-03-01T00:00:00.000000000",
          "2016-04-01T00:00:00.000000000",
          "2016-05-01T00:00:00.000000000",
          "2016-06-01T00:00:00.000000000",
          "2016-07-01T00:00:00.000000000",
          "2016-08-01T00:00:00.000000000",
          "2016-09-01T00:00:00.000000000",
          "2016-10-01T00:00:00.000000000",
          "2016-11-01T00:00:00.000000000",
          "2016-12-01T00:00:00.000000000",
          "2017-01-01T00:00:00.000000000",
          "2017-02-01T00:00:00.000000000",
          "2017-03-01T00:00:00.000000000",
          "2017-04-01T00:00:00.000000000",
          "2017-05-01T00:00:00.000000000",
          "2017-06-01T00:00:00.000000000",
          "2017-07-01T00:00:00.000000000",
          "2017-08-01T00:00:00.000000000",
          "2017-09-01T00:00:00.000000000",
          "2017-10-01T00:00:00.000000000",
          "2017-11-01T00:00:00.000000000",
          "2017-12-01T00:00:00.000000000",
          "2018-01-01T00:00:00.000000000",
          "2018-02-01T00:00:00.000000000",
          "2018-03-01T00:00:00.000000000",
          "2018-04-01T00:00:00.000000000",
          "2018-05-01T00:00:00.000000000",
          "2018-06-01T00:00:00.000000000",
          "2018-07-01T00:00:00.000000000",
          "2018-08-01T00:00:00.000000000",
          "2018-09-01T00:00:00.000000000",
          "2018-10-01T00:00:00.000000000",
          "2018-11-01T00:00:00.000000000",
          "2018-12-01T00:00:00.000000000",
          "2019-01-01T00:00:00.000000000",
          "2019-02-01T00:00:00.000000000",
          "2019-03-01T00:00:00.000000000",
          "2019-04-01T00:00:00.000000000",
          "2019-05-01T00:00:00.000000000",
          "2019-06-01T00:00:00.000000000",
          "2019-07-01T00:00:00.000000000",
          "2019-08-01T00:00:00.000000000",
          "2019-09-01T00:00:00.000000000",
          "2019-10-01T00:00:00.000000000",
          "2019-11-01T00:00:00.000000000",
          "2019-12-01T00:00:00.000000000",
          "2020-01-01T00:00:00.000000000",
          "2020-02-01T00:00:00.000000000",
          "2020-03-01T00:00:00.000000000",
          "2020-04-01T00:00:00.000000000",
          "2020-05-01T00:00:00.000000000",
          "2020-06-01T00:00:00.000000000",
          "2020-07-01T00:00:00.000000000",
          "2020-08-01T00:00:00.000000000",
          "2020-09-01T00:00:00.000000000",
          "2020-10-01T00:00:00.000000000",
          "2020-11-01T00:00:00.000000000",
          "2020-12-01T00:00:00.000000000",
          "2021-01-01T00:00:00.000000000",
          "2021-02-01T00:00:00.000000000",
          "2021-03-01T00:00:00.000000000",
          "2021-04-01T00:00:00.000000000",
          "2021-05-01T00:00:00.000000000",
          "2021-06-01T00:00:00.000000000",
          "2021-07-01T00:00:00.000000000",
          "2021-08-01T00:00:00.000000000",
          "2021-09-01T00:00:00.000000000",
          "2021-10-01T00:00:00.000000000",
          "2021-11-01T00:00:00.000000000",
          "2021-12-01T00:00:00.000000000",
          "2022-01-01T00:00:00.000000000",
          "2022-02-01T00:00:00.000000000",
          "2022-03-01T00:00:00.000000000",
          "2022-04-01T00:00:00.000000000",
          "2022-05-01T00:00:00.000000000",
          "2022-06-01T00:00:00.000000000",
          "2022-07-01T00:00:00.000000000",
          "2022-08-01T00:00:00.000000000",
          "2022-09-01T00:00:00.000000000",
          "2022-10-01T00:00:00.000000000",
          "2022-11-01T00:00:00.000000000",
          "2022-12-01T00:00:00.000000000",
          "2023-01-01T00:00:00.000000000",
          "2023-02-01T00:00:00.000000000",
          "2023-03-01T00:00:00.000000000",
          "2023-04-01T00:00:00.000000000",
          "2023-05-01T00:00:00.000000000",
          "2023-06-01T00:00:00.000000000",
          "2023-07-01T00:00:00.000000000",
          "2023-08-01T00:00:00.000000000",
          "2023-09-01T00:00:00.000000000",
          "2023-10-01T00:00:00.000000000",
          "2023-11-01T00:00:00.000000000",
          "2023-12-01T00:00:00.000000000",
          "2024-01-01T00:00:00.000000000",
          "2024-02-01T00:00:00.000000000",
          "2024-03-01T00:00:00.000000000",
          "2024-04-01T00:00:00.000000000",
          "2024-05-01T00:00:00.000000000",
          "2024-06-01T00:00:00.000000000",
          "2024-07-01T00:00:00.000000000",
          "2024-08-01T00:00:00.000000000",
          "2024-09-01T00:00:00.000000000",
          "2024-10-01T00:00:00.000000000",
          "2024-11-01T00:00:00.000000000",
          "2024-12-01T00:00:00.000000000",
          "2025-01-01T00:00:00.000000000",
          "2025-02-01T00:00:00.000000000"
         ],
         "y": {
          "bdata": "nMtzkCOCBUHSnmFFWpIFQQlyT/qQogVBP0U9r8eyBUF2GCtk/sIFQazrGBk10wVB4r4GzmvjBUEZkvSCovMFQU9l4jfZAwZBhjjQ7A8UBkG8C76hRiQGQfPeq1Z9NAZBKbKZC7REBkFfhYfA6lQGQZZYdXUhZQZBzCtjKlh1BkED/1DfjoUGQTnSPpTFlQZBcKUsSfylBkGmeBr+MrYGQdxLCLNpxgZBEx/2Z6DWBkFJ8uMc1+YGQYDF0dEN9wZBtpi/hkQHB0Hsa607excHQSM/m/CxJwdBWRKJpeg3B0GQ5XZaH0gHQca4ZA9WWAdB/YtSxIxoB0EzX0B5w3gHQWkyLi76iAdBoAUc4zCZB0HW2AmYZ6kHQQ2s90yeuQdBQ3/lAdXJB0F6UtO2C9oHQbAlwWtC6gdB5viuIHn6B0EdzJzVrwoIQVOfiormGghBinJ4Px0rCEHARWb0UzsIQfYYVKmKSwhBLexBXsFbCEFjvy8T+GsIQZqSHcgufAhB0GULfWWMCEEGOfkxnJwIQT0M5+bSrAhBc9/Umwm9CEGqssJQQM0IQeCFsAV33QhBF1meuq3tCEFNLIxv5P0IQYP/eSQbDglButJn2VEeCUHwpVWOiC4JQSd5Q0O/PglBXUwx+PVOCUGUHx+tLF8JQcryDGJjbwlBAMb6Fpp/CUE3mejL0I8JQW1s1oAHoAlBpD/ENT6wCUHaErLqdMAJQRDmn5+r0AlBR7mNVOLgCUF9jHsJGfEJQbRfab5PAQpB6jJXc4YRCkEgBkUovSEKQVfZMt3zMQpBjawgkipCCkHEfw5HYVIKQfpS/PuXYgpBMCbqsM5yCkFn+ddlBYMKQZ7MxRo8kwpB1J+zz3KjCkEKc6GEqbMKQUFGjzngwwpBdxl97hbUCkGu7GqjTeQKQeS/WFiE9ApBGpNGDbsEC0FRZjTC8RQLQYc5IncoJQtBvgwQLF81C0H03/3glUULQSqz65XMVQtBYYbZSgNmC0GXWcf/OXYLQc4stbRwhgtBBACjaaeWC0E605Ae3qYLQXGmftMUtwtBqHlsiEvHC0HeTFo9gtcLQRQgSPK45wtBS/M1p+/3C0GBxiNcJggMQbiZERFdGAxB7mz/xZMoDEEkQO16yjgMQVsT2y8BSQxBkebI5DdZDEHIubaZbmkMQf6MpE6leQxBNGCSA9yJDEFrM4C4EpoMQaEGbm1JqgxB2NlbIoC6DEEOrUnXtsoMQUSAN4zt2gxBe1MlQSTrDEGxJhP2WvsMQej5AKuRCw1BHs3uX8gbDUFUoNwU/ysNQYtzysk1PA1Bwka4fmxMDUH4GaYzo1wNQS7tk+jZbA1BZcCBnRB9DUGbk29SR40NQdJmXQd+nQ1BCDpLvLStDUE+DTlx670NQXXgJiYizg1Bq7MU21jeDUHihgKQj+4NQRha8ETG/g1BTi3e+fwODkGFAMyuMx8OQbzTuWNqLw5B8qanGKE/DkEoepXN108OQV5Ng4IOYA5BlSBxN0VwDkHM817se4AOQQLHTKGykA5BOJo6VumgDkFubSgLILEOQaVAFsBWwQ5B3BMEdY3RDkES5/EpxOEOQUi639768Q5Bfo3NkzECD0G1YLtIaBIPQewzqf2eIg9BIgeXstUyD0FY2oRnDEMPQY+tchxDUw9BxYBg0XljD0H8U06GsHMPQTInPDvngw9BaPop8B2UD0GfzRelVKQPQdagBVqLtA9BDHTzDsLED0FCR+HD+NQPQXgaz3gv5Q9Br+28LWb1D0FzYFVxzgIQQQ5KzMvpChBBqTNDJgUTEEFEHbqAIBsQQeAGMds7IxBBe/CnNVcrEEEW2h6QcjMQQbHDleqNOxBBTK0MRalDEEHoloOfxEsQQYOA+vnfUxBBHmpxVPtbEEG5U+iuFmQQQVQ9XwkybBBB8CbWY010EEGLEE2+aHwQQQ==",
          "dtype": "f8"
         }
        }
       ],
       "layout": {
        "font": {
         "color": "#1e293b",
         "family": "Georgia, serif"
        },
        "height": 500,
        "legend": {
         "font": {
          "family": "Georgia, serif"
         },
         "orientation": "h",
         "x": 0.5,
         "xanchor": "center",
         "y": 1.02,
         "yanchor": "bottom"
        },
        "margin": {
         "b": 60,
         "l": 60,
         "r": 40,
         "t": 80
        },
        "paper_bgcolor": "white",
        "plot_bgcolor": "white",
        "template": {
         "data": {
          "bar": [
           {
            "error_x": {
             "color": "#2a3f5f"
            },
            "error_y": {
             "color": "#2a3f5f"
            },
            "marker": {
             "line": {
              "color": "#E5ECF6",
              "width": 0.5
             },
             "pattern": {
              "fillmode": "overlay",
              "size": 10,
              "solidity": 0.2
             }
            },
            "type": "bar"
           }
          ],
          "barpolar": [
           {
            "marker": {
             "line": {
              "color": "#E5ECF6",
              "width": 0.5
             },
             "pattern": {
              "fillmode": "overlay",
              "size": 10,
              "solidity": 0.2
             }
            },
            "type": "barpolar"
           }
          ],
          "carpet": [
           {
            "aaxis": {
             "endlinecolor": "#2a3f5f",
             "gridcolor": "white",
             "linecolor": "white",
             "minorgridcolor": "white",
             "startlinecolor": "#2a3f5f"
            },
            "baxis": {
             "endlinecolor": "#2a3f5f",
             "gridcolor": "white",
             "linecolor": "white",
             "minorgridcolor": "white",
             "startlinecolor": "#2a3f5f"
            },
            "type": "carpet"
           }
          ],
          "choropleth": [
           {
            "colorbar": {
             "outlinewidth": 0,
             "ticks": ""
            },
            "type": "choropleth"
           }
          ],
          "contour": [
           {
            "colorbar": {
             "outlinewidth": 0,
             "ticks": ""
            },
            "colorscale": [
             [
              0,
              "#0d0887"
             ],
             [
              0.1111111111111111,
              "#46039f"
             ],
             [
              0.2222222222222222,
              "#7201a8"
             ],
             [
              0.3333333333333333,
              "#9c179e"
             ],
             [
              0.4444444444444444,
              "#bd3786"
             ],
             [
              0.5555555555555556,
              "#d8576b"
             ],
             [
              0.6666666666666666,
              "#ed7953"
             ],
             [
              0.7777777777777778,
              "#fb9f3a"
             ],
             [
              0.8888888888888888,
              "#fdca26"
             ],
             [
              1,
              "#f0f921"
             ]
            ],
            "type": "contour"
           }
          ],
          "contourcarpet": [
           {
            "colorbar": {
             "outlinewidth": 0,
             "ticks": ""
            },
            "type": "contourcarpet"
           }
          ],
          "heatmap": [
           {
            "colorbar": {
             "outlinewidth": 0,
             "ticks": ""
            },
            "colorscale": [
             [
              0,
              "#0d0887"
             ],
             [
              0.1111111111111111,
              "#46039f"
             ],
             [
              0.2222222222222222,
              "#7201a8"
             ],
             [
              0.3333333333333333,
              "#9c179e"
             ],
             [
              0.4444444444444444,
              "#bd3786"
             ],
             [
              0.5555555555555556,
              "#d8576b"
             ],
             [
              0.6666666666666666,
              "#ed7953"
             ],
             [
              0.7777777777777778,
              "#fb9f3a"
             ],
             [
              0.8888888888888888,
              "#fdca26"
             ],
             [
              1,
              "#f0f921"
             ]
            ],
            "type": "heatmap"
           }
          ],
          "histogram": [
           {
            "marker": {
             "pattern": {
              "fillmode": "overlay",
              "size": 10,
              "solidity": 0.2
             }
            },
            "type": "histogram"
           }
          ],
          "histogram2d": [
           {
            "colorbar": {
             "outlinewidth": 0,
             "ticks": ""
            },
            "colorscale": [
             [
              0,
              "#0d0887"
             ],
             [
              0.1111111111111111,
              "#46039f"
             ],
             [
              0.2222222222222222,
              "#7201a8"
             ],
             [
              0.3333333333333333,
              "#9c179e"
             ],
             [
              0.4444444444444444,
              "#bd3786"
             ],
             [
              0.5555555555555556,
              "#d8576b"
             ],
             [
              0.6666666666666666,
              "#ed7953"
             ],
             [
              0.7777777777777778,
              "#fb9f3a"
             ],
             [
              0.8888888888888888,
              "#fdca26"
             ],
             [
              1,
              "#f0f921"
             ]
            ],
            "type": "histogram2d"
           }
          ],
          "histogram2dcontour": [
           {
            "colorbar": {
             "outlinewidth": 0,
             "ticks": ""
            },
            "colorscale": [
             [
              0,
              "#0d0887"
             ],
             [
              0.1111111111111111,
              "#46039f"
             ],
             [
              0.2222222222222222,
              "#7201a8"
             ],
             [
              0.3333333333333333,
              "#9c179e"
             ],
             [
              0.4444444444444444,
              "#bd3786"
             ],
             [
              0.5555555555555556,
              "#d8576b"
             ],
             [
              0.6666666666666666,
              "#ed7953"
             ],
             [
              0.7777777777777778,
              "#fb9f3a"
             ],
             [
              0.8888888888888888,
              "#fdca26"
             ],
             [
              1,
              "#f0f921"
             ]
            ],
            "type": "histogram2dcontour"
           }
          ],
          "mesh3d": [
           {
            "colorbar": {
             "outlinewidth": 0,
             "ticks": ""
            },
            "type": "mesh3d"
           }
          ],
          "parcoords": [
           {
            "line": {
             "colorbar": {
              "outlinewidth": 0,
              "ticks": ""
             }
            },
            "type": "parcoords"
           }
          ],
          "pie": [
           {
            "automargin": true,
            "type": "pie"
           }
          ],
          "scatter": [
           {
            "fillpattern": {
             "fillmode": "overlay",
             "size": 10,
             "solidity": 0.2
            },
            "type": "scatter"
           }
          ],
          "scatter3d": [
           {
            "line": {
             "colorbar": {
              "outlinewidth": 0,
              "ticks": ""
             }
            },
            "marker": {
             "colorbar": {
              "outlinewidth": 0,
              "ticks": ""
             }
            },
            "type": "scatter3d"
           }
          ],
          "scattercarpet": [
           {
            "marker": {
             "colorbar": {
              "outlinewidth": 0,
              "ticks": ""
             }
            },
            "type": "scattercarpet"
           }
          ],
          "scattergeo": [
           {
            "marker": {
             "colorbar": {
              "outlinewidth": 0,
              "ticks": ""
             }
            },
            "type": "scattergeo"
           }
          ],
          "scattergl": [
           {
            "marker": {
             "colorbar": {
              "outlinewidth": 0,
              "ticks": ""
             }
            },
            "type": "scattergl"
           }
          ],
          "scattermap": [
           {
            "marker": {
             "colorbar": {
              "outlinewidth": 0,
              "ticks": ""
             }
            },
            "type": "scattermap"
           }
          ],
          "scattermapbox": [
           {
            "marker": {
             "colorbar": {
              "outlinewidth": 0,
              "ticks": ""
             }
            },
            "type": "scattermapbox"
           }
          ],
          "scatterpolar": [
           {
            "marker": {
             "colorbar": {
              "outlinewidth": 0,
              "ticks": ""
             }
            },
            "type": "scatterpolar"
           }
          ],
          "scatterpolargl": [
           {
            "marker": {
             "colorbar": {
              "outlinewidth": 0,
              "ticks": ""
             }
            },
            "type": "scatterpolargl"
           }
          ],
          "scatterternary": [
           {
            "marker": {
             "colorbar": {
              "outlinewidth": 0,
              "ticks": ""
             }
            },
            "type": "scatterternary"
           }
          ],
          "surface": [
           {
            "colorbar": {
             "outlinewidth": 0,
             "ticks": ""
            },
            "colorscale": [
             [
              0,
              "#0d0887"
             ],
             [
              0.1111111111111111,
              "#46039f"
             ],
             [
              0.2222222222222222,
              "#7201a8"
             ],
             [
              0.3333333333333333,
              "#9c179e"
             ],
             [
              0.4444444444444444,
              "#bd3786"
             ],
             [
              0.5555555555555556,
              "#d8576b"
             ],
             [
              0.6666666666666666,
              "#ed7953"
             ],
             [
              0.7777777777777778,
              "#fb9f3a"
             ],
             [
              0.8888888888888888,
              "#fdca26"
             ],
             [
              1,
              "#f0f921"
             ]
            ],
            "type": "surface"
           }
          ],
          "table": [
           {
            "cells": {
             "fill": {
              "color": "#EBF0F8"
             },
             "line": {
              "color": "white"
             }
            },
            "header": {
             "fill": {
              "color": "#C8D4E3"
             },
             "line": {
              "color": "white"
             }
            },
            "type": "table"
           }
          ]
         },
         "layout": {
          "annotationdefaults": {
           "arrowcolor": "#2a3f5f",
           "arrowhead": 0,
           "arrowwidth": 1
          },
          "autotypenumbers": "strict",
          "coloraxis": {
           "colorbar": {
            "outlinewidth": 0,
            "ticks": ""
           }
          },
          "colorscale": {
           "diverging": [
            [
             0,
             "#8e0152"
            ],
            [
             0.1,
             "#c51b7d"
            ],
            [
             0.2,
             "#de77ae"
            ],
            [
             0.3,
             "#f1b6da"
            ],
            [
             0.4,
             "#fde0ef"
            ],
            [
             0.5,
             "#f7f7f7"
            ],
            [
             0.6,
             "#e6f5d0"
            ],
            [
             0.7,
             "#b8e186"
            ],
            [
             0.8,
             "#7fbc41"
            ],
            [
             0.9,
             "#4d9221"
            ],
            [
             1,
             "#276419"
            ]
           ],
           "sequential": [
            [
             0,
             "#0d0887"
            ],
            [
             0.1111111111111111,
             "#46039f"
            ],
            [
             0.2222222222222222,
             "#7201a8"
            ],
            [
             0.3333333333333333,
             "#9c179e"
            ],
            [
             0.4444444444444444,
             "#bd3786"
            ],
            [
             0.5555555555555556,
             "#d8576b"
            ],
            [
             0.6666666666666666,
             "#ed7953"
            ],
            [
             0.7777777777777778,
             "#fb9f3a"
            ],
            [
             0.8888888888888888,
             "#fdca26"
            ],
            [
             1,
             "#f0f921"
            ]
           ],
           "sequentialminus": [
            [
             0,
             "#0d0887"
            ],
            [
             0.1111111111111111,
             "#46039f"
            ],
            [
             0.2222222222222222,
             "#7201a8"
            ],
            [
             0.3333333333333333,
             "#9c179e"
            ],
            [
             0.4444444444444444,
             "#bd3786"
            ],
            [
             0.5555555555555556,
             "#d8576b"
            ],
            [
             0.6666666666666666,
             "#ed7953"
            ],
            [
             0.7777777777777778,
             "#fb9f3a"
            ],
            [
             0.8888888888888888,
             "#fdca26"
            ],
            [
             1,
             "#f0f921"
            ]
           ]
          },
          "colorway": [
           "#636efa",
           "#EF553B",
           "#00cc96",
           "#ab63fa",
           "#FFA15A",
           "#19d3f3",
           "#FF6692",
           "#B6E880",
           "#FF97FF",
           "#FECB52"
          ],
          "font": {
           "color": "#2a3f5f"
          },
          "geo": {
           "bgcolor": "white",
           "lakecolor": "white",
           "landcolor": "#E5ECF6",
           "showlakes": true,
           "showland": true,
           "subunitcolor": "white"
          },
          "hoverlabel": {
           "align": "left"
          },
          "hovermode": "closest",
          "mapbox": {
           "style": "light"
          },
          "paper_bgcolor": "white",
          "plot_bgcolor": "#E5ECF6",
          "polar": {
           "angularaxis": {
            "gridcolor": "white",
            "linecolor": "white",
            "ticks": ""
           },
           "bgcolor": "#E5ECF6",
           "radialaxis": {
            "gridcolor": "white",
            "linecolor": "white",
            "ticks": ""
           }
          },
          "scene": {
           "xaxis": {
            "backgroundcolor": "#E5ECF6",
            "gridcolor": "white",
            "gridwidth": 2,
            "linecolor": "white",
            "showbackground": true,
            "ticks": "",
            "zerolinecolor": "white"
           },
           "yaxis": {
            "backgroundcolor": "#E5ECF6",
            "gridcolor": "white",
            "gridwidth": 2,
            "linecolor": "white",
            "showbackground": true,
            "ticks": "",
            "zerolinecolor": "white"
           },
           "zaxis": {
            "backgroundcolor": "#E5ECF6",
            "gridcolor": "white",
            "gridwidth": 2,
            "linecolor": "white",
            "showbackground": true,
            "ticks": "",
            "zerolinecolor": "white"
           }
          },
          "shapedefaults": {
           "line": {
            "color": "#2a3f5f"
           }
          },
          "ternary": {
           "aaxis": {
            "gridcolor": "white",
            "linecolor": "white",
            "ticks": ""
           },
           "baxis": {
            "gridcolor": "white",
            "linecolor": "white",
            "ticks": ""
           },
           "bgcolor": "#E5ECF6",
           "caxis": {
            "gridcolor": "white",
            "linecolor": "white",
            "ticks": ""
           }
          },
          "title": {
           "x": 0.05
          },
          "xaxis": {
           "automargin": true,
           "gridcolor": "white",
           "linecolor": "white",
           "ticks": "",
           "title": {
            "standoff": 15
           },
           "zerolinecolor": "white",
           "zerolinewidth": 2
          },
          "yaxis": {
           "automargin": true,
           "gridcolor": "white",
           "linecolor": "white",
           "ticks": "",
           "title": {
            "standoff": 15
           },
           "zerolinecolor": "white",
           "zerolinewidth": 2
          }
         }
        },
        "title": {
         "text": "Resumen: Desempleo Total por Tramos Etarios con Tendencia"
        },
        "xaxis": {
         "gridcolor": "#E5E5E5",
         "gridwidth": 0.5,
         "showgrid": true,
         "tickfont": {
          "family": "Georgia, serif"
         },
         "title": {
          "text": "Período"
         }
        },
        "yaxis": {
         "gridcolor": "#E5E5E5",
         "gridwidth": 0.5,
         "showgrid": true,
         "tickfont": {
          "family": "Georgia, serif"
         },
         "tickformat": ",",
         "title": {
          "text": "Número Total de Personas Desocupadas"
         }
        }
       }
      }
     },
     "metadata": {},
     "output_type": "display_data"
    }
   ],
   "source": [
    "# Usar datos limpios de la sección anterior\n",
    "df_resumen_limpio = df_final.groupby(\"periodo\")[\"valor\"].sum().reset_index()\n",
    "\n",
    "# Crear gráfico con área rellena y colores daltónicos\n",
    "fig = go.Figure()\n",
    "\n",
    "# Añadir área principal con color daltónico\n",
    "fig.add_trace(go.Scatter(\n",
    "    x=df_resumen_limpio[\"periodo\"],\n",
    "    y=df_resumen_limpio[\"valor\"],\n",
    "    mode='lines',\n",
    "    line=dict(color=economist_colors[0], width=4),  # Rojo daltónico\n",
    "    fill='tozeroy',\n",
    "    fillcolor=f'rgba(232, 68, 58, 0.15)',  # Relleno translúcido\n",
    "    name='Desempleo Total',\n",
    "    hovertemplate='<b>Fecha:</b> %{x}<br><b>Total Personas:</b> %{y:,.0f}<extra></extra>'\n",
    "))\n",
    "\n",
    "# Añadir línea de tendencia con color daltónico\n",
    "import numpy as np\n",
    "from scipy import stats\n",
    "\n",
    "x_numeric = np.arange(len(df_resumen_limpio))\n",
    "slope, intercept, r_value, p_value, std_err = stats.linregress(x_numeric, df_resumen_limpio[\"valor\"])\n",
    "trend_line = slope * x_numeric + intercept\n",
    "\n",
    "fig.add_trace(go.Scatter(\n",
    "    x=df_resumen_limpio[\"periodo\"],\n",
    "    y=trend_line,\n",
    "    mode='lines',\n",
    "    line=dict(color=economist_colors[8], width=3, dash='dash'),  # Gris daltónico\n",
    "    name=f'Tendencia (R²={r_value**2:.3f})',\n",
    "    hovertemplate='<b>Línea de Tendencia</b><br>Fecha: %{x}<br>Valor: %{y:,.0f}<extra></extra>'\n",
    "))\n",
    "\n",
    "# Aplicar estilo The Economist\n",
    "fig = apply_economist_style(fig)\n",
    "\n",
    "fig.update_layout(\n",
    "    title=\"Resumen: Desempleo Total por Tramos Etarios con Tendencia\",\n",
    "    xaxis_title=\"Período\",\n",
    "    yaxis_title=\"Número Total de Personas Desocupadas\",\n",
    "    height=500,\n",
    "    legend=dict(\n",
    "        orientation=\"h\",\n",
    "        yanchor=\"bottom\",\n",
    "        y=1.02,\n",
    "        xanchor=\"center\",\n",
    "        x=0.5\n",
    "    )\n",
    ")\n",
    "\n",
    "fig.update_yaxes(tickformat=',')\n",
    "fig.show()"
   ]
  },
  {
   "cell_type": "markdown",
   "id": "063afcc4",
   "metadata": {},
   "source": [
    "## 👥 Análisis por Sexo\n",
    "\n",
    "Comparación del desempleo entre hombres y mujeres en la región."
   ]
  },
  {
   "cell_type": "code",
   "execution_count": null,
   "id": "f2ed5ced",
   "metadata": {},
   "outputs": [
    {
     "data": {
      "application/vnd.plotly.v1+json": {
       "config": {
        "plotlyServerURL": "https://plot.ly"
       },
       "data": [
        {
         "hovertemplate": "<b>Hombres</b><br>Fecha: %{x}<br>Personas: %{y:,.0f}<extra></extra>",
         "line": {
          "color": "#1E88E5",
          "width": 4
         },
         "marker": {
          "color": "#1E88E5",
          "size": 6
         },
         "mode": "lines+markers",
         "name": "Hombres",
         "type": "scatter",
         "x": [
          "2010-01-01T00:00:00.000000000",
          "2010-02-01T00:00:00.000000000",
          "2010-03-01T00:00:00.000000000",
          "2010-04-01T00:00:00.000000000",
          "2010-05-01T00:00:00.000000000",
          "2010-06-01T00:00:00.000000000",
          "2010-07-01T00:00:00.000000000",
          "2010-08-01T00:00:00.000000000",
          "2010-09-01T00:00:00.000000000",
          "2010-10-01T00:00:00.000000000",
          "2010-11-01T00:00:00.000000000",
          "2010-12-01T00:00:00.000000000",
          "2011-01-01T00:00:00.000000000",
          "2011-02-01T00:00:00.000000000",
          "2011-03-01T00:00:00.000000000",
          "2011-04-01T00:00:00.000000000",
          "2011-05-01T00:00:00.000000000",
          "2011-06-01T00:00:00.000000000",
          "2011-07-01T00:00:00.000000000",
          "2011-08-01T00:00:00.000000000",
          "2011-09-01T00:00:00.000000000",
          "2011-10-01T00:00:00.000000000",
          "2011-11-01T00:00:00.000000000",
          "2011-12-01T00:00:00.000000000",
          "2012-01-01T00:00:00.000000000",
          "2012-02-01T00:00:00.000000000",
          "2012-03-01T00:00:00.000000000",
          "2012-04-01T00:00:00.000000000",
          "2012-05-01T00:00:00.000000000",
          "2012-06-01T00:00:00.000000000",
          "2012-07-01T00:00:00.000000000",
          "2012-08-01T00:00:00.000000000",
          "2012-09-01T00:00:00.000000000",
          "2012-10-01T00:00:00.000000000",
          "2012-11-01T00:00:00.000000000",
          "2012-12-01T00:00:00.000000000",
          "2013-01-01T00:00:00.000000000",
          "2013-02-01T00:00:00.000000000",
          "2013-03-01T00:00:00.000000000",
          "2013-04-01T00:00:00.000000000",
          "2013-05-01T00:00:00.000000000",
          "2013-06-01T00:00:00.000000000",
          "2013-07-01T00:00:00.000000000",
          "2013-08-01T00:00:00.000000000",
          "2013-09-01T00:00:00.000000000",
          "2013-10-01T00:00:00.000000000",
          "2013-11-01T00:00:00.000000000",
          "2013-12-01T00:00:00.000000000",
          "2014-01-01T00:00:00.000000000",
          "2014-02-01T00:00:00.000000000",
          "2014-03-01T00:00:00.000000000",
          "2014-04-01T00:00:00.000000000",
          "2014-05-01T00:00:00.000000000",
          "2014-06-01T00:00:00.000000000",
          "2014-07-01T00:00:00.000000000",
          "2014-08-01T00:00:00.000000000",
          "2014-09-01T00:00:00.000000000",
          "2014-10-01T00:00:00.000000000",
          "2014-11-01T00:00:00.000000000",
          "2014-12-01T00:00:00.000000000",
          "2015-01-01T00:00:00.000000000",
          "2015-02-01T00:00:00.000000000",
          "2015-03-01T00:00:00.000000000",
          "2015-04-01T00:00:00.000000000",
          "2015-05-01T00:00:00.000000000",
          "2015-06-01T00:00:00.000000000",
          "2015-07-01T00:00:00.000000000",
          "2015-08-01T00:00:00.000000000",
          "2015-09-01T00:00:00.000000000",
          "2015-10-01T00:00:00.000000000",
          "2015-11-01T00:00:00.000000000",
          "2015-12-01T00:00:00.000000000",
          "2016-01-01T00:00:00.000000000",
          "2016-02-01T00:00:00.000000000",
          "2016-03-01T00:00:00.000000000",
          "2016-04-01T00:00:00.000000000",
          "2016-05-01T00:00:00.000000000",
          "2016-06-01T00:00:00.000000000",
          "2016-07-01T00:00:00.000000000",
          "2016-08-01T00:00:00.000000000",
          "2016-09-01T00:00:00.000000000",
          "2016-10-01T00:00:00.000000000",
          "2016-11-01T00:00:00.000000000",
          "2016-12-01T00:00:00.000000000",
          "2017-01-01T00:00:00.000000000",
          "2017-02-01T00:00:00.000000000",
          "2017-03-01T00:00:00.000000000",
          "2017-04-01T00:00:00.000000000",
          "2017-05-01T00:00:00.000000000",
          "2017-06-01T00:00:00.000000000",
          "2017-07-01T00:00:00.000000000",
          "2017-08-01T00:00:00.000000000",
          "2017-09-01T00:00:00.000000000",
          "2017-10-01T00:00:00.000000000",
          "2017-11-01T00:00:00.000000000",
          "2017-12-01T00:00:00.000000000",
          "2018-01-01T00:00:00.000000000",
          "2018-02-01T00:00:00.000000000",
          "2018-03-01T00:00:00.000000000",
          "2018-04-01T00:00:00.000000000",
          "2018-05-01T00:00:00.000000000",
          "2018-06-01T00:00:00.000000000",
          "2018-07-01T00:00:00.000000000",
          "2018-08-01T00:00:00.000000000",
          "2018-09-01T00:00:00.000000000",
          "2018-10-01T00:00:00.000000000",
          "2018-11-01T00:00:00.000000000",
          "2018-12-01T00:00:00.000000000",
          "2019-01-01T00:00:00.000000000",
          "2019-02-01T00:00:00.000000000",
          "2019-03-01T00:00:00.000000000",
          "2019-04-01T00:00:00.000000000",
          "2019-05-01T00:00:00.000000000",
          "2019-06-01T00:00:00.000000000",
          "2019-07-01T00:00:00.000000000",
          "2019-08-01T00:00:00.000000000",
          "2019-09-01T00:00:00.000000000",
          "2019-10-01T00:00:00.000000000",
          "2019-11-01T00:00:00.000000000",
          "2019-12-01T00:00:00.000000000",
          "2020-01-01T00:00:00.000000000",
          "2020-02-01T00:00:00.000000000",
          "2020-03-01T00:00:00.000000000",
          "2020-04-01T00:00:00.000000000",
          "2020-05-01T00:00:00.000000000",
          "2020-06-01T00:00:00.000000000",
          "2020-07-01T00:00:00.000000000",
          "2020-08-01T00:00:00.000000000",
          "2020-09-01T00:00:00.000000000",
          "2020-10-01T00:00:00.000000000",
          "2020-11-01T00:00:00.000000000",
          "2020-12-01T00:00:00.000000000",
          "2021-01-01T00:00:00.000000000",
          "2021-02-01T00:00:00.000000000",
          "2021-03-01T00:00:00.000000000",
          "2021-04-01T00:00:00.000000000",
          "2021-05-01T00:00:00.000000000",
          "2021-06-01T00:00:00.000000000",
          "2021-07-01T00:00:00.000000000",
          "2021-08-01T00:00:00.000000000",
          "2021-09-01T00:00:00.000000000",
          "2021-10-01T00:00:00.000000000",
          "2021-11-01T00:00:00.000000000",
          "2021-12-01T00:00:00.000000000",
          "2022-01-01T00:00:00.000000000",
          "2022-02-01T00:00:00.000000000",
          "2022-03-01T00:00:00.000000000",
          "2022-04-01T00:00:00.000000000",
          "2022-05-01T00:00:00.000000000",
          "2022-06-01T00:00:00.000000000",
          "2022-07-01T00:00:00.000000000",
          "2022-08-01T00:00:00.000000000",
          "2022-09-01T00:00:00.000000000",
          "2022-10-01T00:00:00.000000000",
          "2022-11-01T00:00:00.000000000",
          "2022-12-01T00:00:00.000000000",
          "2023-01-01T00:00:00.000000000",
          "2023-02-01T00:00:00.000000000",
          "2023-03-01T00:00:00.000000000",
          "2023-04-01T00:00:00.000000000",
          "2023-05-01T00:00:00.000000000",
          "2023-06-01T00:00:00.000000000",
          "2023-07-01T00:00:00.000000000",
          "2023-08-01T00:00:00.000000000",
          "2023-09-01T00:00:00.000000000",
          "2023-10-01T00:00:00.000000000",
          "2023-11-01T00:00:00.000000000",
          "2023-12-01T00:00:00.000000000",
          "2024-01-01T00:00:00.000000000",
          "2024-02-01T00:00:00.000000000",
          "2024-03-01T00:00:00.000000000",
          "2024-04-01T00:00:00.000000000",
          "2024-05-01T00:00:00.000000000",
          "2024-06-01T00:00:00.000000000",
          "2024-07-01T00:00:00.000000000",
          "2024-08-01T00:00:00.000000000",
          "2024-09-01T00:00:00.000000000",
          "2024-10-01T00:00:00.000000000",
          "2024-11-01T00:00:00.000000000",
          "2024-12-01T00:00:00.000000000",
          "2025-01-01T00:00:00.000000000",
          "2025-02-01T00:00:00.000000000"
         ],
         "y": {
          "bdata": "M85T8GNIwEDWnPek51i2QEVvRHJkTblA2zye4u+tuUC8i0Tk4w7AQENfvgsElb9AfA4LMrbwvkBK9RJ1vAa8QL3qYXRdzLpA7ky0LmDeuUD3aNF4Qfm7QDCuUlY57blABE2ekuUsvEDDXse5gqa1QBTkiYltdr5A2fr8v3wjvEDhUwONKKrAQOUpQrp7McBAC8dCTeUfv0DVuCOX9CC6QLd56dC+17dANGq3Q5qRt0ACvHimfw24QDQ8DUE3w7FAq/QrQFH3sECILNccZR+xQFn3dNGjnrJAPLUvlzb2skBL5XfiDZG1QF/+Qa4807hAkSTV3bgHvkAWuWVvpau5QMk9VshJx7JAr8TyVn+wtEDLWX2ZK0KzQFGcLYbsQ7ZAhI1Fexaaq0BM3fTvzk22QML4Y3BCpLRA/D8ugbm2tkD4TWUWdHW2QHyyxK7Lx7hAGBhP3Lx+tUDUtM/W1qCxQHjf0S2auaxAmm1nisA/sUCG5dNBTTOwQHKPxOLCw65A2i/eW6QNsUBkFMSYlhKuQB71qbVyn7FAebhoD8A7rUAwS0QX4lWwQIA8eMa2ma9A54WOuqFssEAaEFYemOyvQDXm9ewvKrNAqkytJ1qRskCHk2gjMqyxQNt7mbVeE65A8Zlg0BNHrUCn0WCZlXKvQAsXX1BxmqxA1W9LeoApqEAEjBRmscGrQGZBPFuLw61AoDjo+d1Rr0B9xrzwhgutQLJQW214WalAbHTMSVB5p0DmKM4/TR2jQEWveM/0DaFAvyWIOyy+pUCQoGUev2qpQA0ni5cbTq9AaMyvw+GDrkBgY4XnY3qyQK6bNMV9Y7JAuTDvRgDbskDAUtaYPXOuQPIWrQDuHLJA1BdPLDv6sUCtLUkixuqyQP5PR+o+mK9AapVHcRRCskBrYI3TaByyQM0UP4CUL7VAiBpiHaHvtUBeVvBV+vOzQPOq9Uoi9K5A1X6hJLOkrUCYfR0DuYevQGKF3sAhpbRAJCfVcLmGtEBo72tymT+xQBNx1LzUQqlAsbb8VNHWqEAP7Tz8d8mxQDoTw8yCwLFAVIfygzd6rUBGDXVO5wuyQL68gFvXDLdA73w6qoC3ukCGgf7Rts63QOerloNmxbNAd6oUoIzUskAsSxv4Si6xQEx6HnsDYLBATDtV7pHvrkD1wU6HeM2uQEwzOm/zvrFAcZ1qCirfskCdCxzL/t2yQNxxLSUkj7JAgaMHzc5OskASFr18HvW0QBcM6WJdJ7NA3sHS+eAOsUCOOLHbWtSxQCFvuhP09bNAPfMyopHut0A53yNwMNG9QM4znBFJBsRAxMics839x0Co6L6rWcHLQGCWC6KMENBAzzkjAhh5y0DhHFX3AHzJQKjjpapE5MJAYG0WwIlrwkDMC0+pSO3BQLWvQnLn7cNAdBEL8kNQx0CUJd3IU9LFQE8rEem2fMRAioxuWnhGwEC8KYw5z/7AQJp6tRApfMBAHGTBCpTFvkBBYnopaA68QOTiRp2wjLlAl5uDgTOntkDucPxuSP+2QBa/SjbH3rNAqRP27RvctUDhG1DnUKu0QA4DMz7V2rJAScMeMtHksUCe1fVVJFOyQGvp33MmQbpA/qdJW09yvUDMnqhpIwS9QAORcfJc9bdAPg23eBkQtkCQCJq0bAm+QJWhxnLcTb5AZIT36zz3vUDC+d15hQK2QNxkbc+EcrNA20AcQAU/tUDQ0qWUhNS7QBTBTibJP8FAgbnLlTssw0BSDywuFZbEQOg0O2mUacRAY2wyN97/wUBJ1O13NaO8QPOGatQOi7pAkE3eEEQavUD+IYKVngq9QDw0hbXc575A2/Hlk95nwEDQXwdChufAQF5oc0OiRMNAt5OiCiSswUBluBP5BSbBQL5ow3drrrpAkOX7GkpoukCM+jst6Ze4QGd0tUgUwLpAXd1eXzplvUDxFvlWBJS/QA==",
          "dtype": "f8"
         }
        },
        {
         "hovertemplate": "<b>Mujeres</b><br>Fecha: %{x}<br>Personas: %{y:,.0f}<extra></extra>",
         "line": {
          "color": "#FFD700",
          "width": 4
         },
         "marker": {
          "color": "#FFD700",
          "size": 6
         },
         "mode": "lines+markers",
         "name": "Mujeres",
         "type": "scatter",
         "x": [
          "2010-01-01T00:00:00.000000000",
          "2010-02-01T00:00:00.000000000",
          "2010-03-01T00:00:00.000000000",
          "2010-04-01T00:00:00.000000000",
          "2010-05-01T00:00:00.000000000",
          "2010-06-01T00:00:00.000000000",
          "2010-07-01T00:00:00.000000000",
          "2010-08-01T00:00:00.000000000",
          "2010-09-01T00:00:00.000000000",
          "2010-10-01T00:00:00.000000000",
          "2010-11-01T00:00:00.000000000",
          "2010-12-01T00:00:00.000000000",
          "2011-01-01T00:00:00.000000000",
          "2011-02-01T00:00:00.000000000",
          "2011-03-01T00:00:00.000000000",
          "2011-04-01T00:00:00.000000000",
          "2011-05-01T00:00:00.000000000",
          "2011-06-01T00:00:00.000000000",
          "2011-07-01T00:00:00.000000000",
          "2011-08-01T00:00:00.000000000",
          "2011-09-01T00:00:00.000000000",
          "2011-10-01T00:00:00.000000000",
          "2011-11-01T00:00:00.000000000",
          "2011-12-01T00:00:00.000000000",
          "2012-01-01T00:00:00.000000000",
          "2012-02-01T00:00:00.000000000",
          "2012-03-01T00:00:00.000000000",
          "2012-04-01T00:00:00.000000000",
          "2012-05-01T00:00:00.000000000",
          "2012-06-01T00:00:00.000000000",
          "2012-07-01T00:00:00.000000000",
          "2012-08-01T00:00:00.000000000",
          "2012-09-01T00:00:00.000000000",
          "2012-10-01T00:00:00.000000000",
          "2012-11-01T00:00:00.000000000",
          "2012-12-01T00:00:00.000000000",
          "2013-01-01T00:00:00.000000000",
          "2013-02-01T00:00:00.000000000",
          "2013-03-01T00:00:00.000000000",
          "2013-04-01T00:00:00.000000000",
          "2013-05-01T00:00:00.000000000",
          "2013-06-01T00:00:00.000000000",
          "2013-07-01T00:00:00.000000000",
          "2013-08-01T00:00:00.000000000",
          "2013-09-01T00:00:00.000000000",
          "2013-10-01T00:00:00.000000000",
          "2013-11-01T00:00:00.000000000",
          "2013-12-01T00:00:00.000000000",
          "2014-01-01T00:00:00.000000000",
          "2014-02-01T00:00:00.000000000",
          "2014-03-01T00:00:00.000000000",
          "2014-04-01T00:00:00.000000000",
          "2014-05-01T00:00:00.000000000",
          "2014-06-01T00:00:00.000000000",
          "2014-07-01T00:00:00.000000000",
          "2014-08-01T00:00:00.000000000",
          "2014-09-01T00:00:00.000000000",
          "2014-10-01T00:00:00.000000000",
          "2014-11-01T00:00:00.000000000",
          "2014-12-01T00:00:00.000000000",
          "2015-01-01T00:00:00.000000000",
          "2015-02-01T00:00:00.000000000",
          "2015-03-01T00:00:00.000000000",
          "2015-04-01T00:00:00.000000000",
          "2015-05-01T00:00:00.000000000",
          "2015-06-01T00:00:00.000000000",
          "2015-07-01T00:00:00.000000000",
          "2015-08-01T00:00:00.000000000",
          "2015-09-01T00:00:00.000000000",
          "2015-10-01T00:00:00.000000000",
          "2015-11-01T00:00:00.000000000",
          "2015-12-01T00:00:00.000000000",
          "2016-01-01T00:00:00.000000000",
          "2016-02-01T00:00:00.000000000",
          "2016-03-01T00:00:00.000000000",
          "2016-04-01T00:00:00.000000000",
          "2016-05-01T00:00:00.000000000",
          "2016-06-01T00:00:00.000000000",
          "2016-07-01T00:00:00.000000000",
          "2016-08-01T00:00:00.000000000",
          "2016-09-01T00:00:00.000000000",
          "2016-10-01T00:00:00.000000000",
          "2016-11-01T00:00:00.000000000",
          "2016-12-01T00:00:00.000000000",
          "2017-01-01T00:00:00.000000000",
          "2017-02-01T00:00:00.000000000",
          "2017-03-01T00:00:00.000000000",
          "2017-04-01T00:00:00.000000000",
          "2017-05-01T00:00:00.000000000",
          "2017-06-01T00:00:00.000000000",
          "2017-07-01T00:00:00.000000000",
          "2017-08-01T00:00:00.000000000",
          "2017-09-01T00:00:00.000000000",
          "2017-10-01T00:00:00.000000000",
          "2017-11-01T00:00:00.000000000",
          "2017-12-01T00:00:00.000000000",
          "2018-01-01T00:00:00.000000000",
          "2018-02-01T00:00:00.000000000",
          "2018-03-01T00:00:00.000000000",
          "2018-04-01T00:00:00.000000000",
          "2018-05-01T00:00:00.000000000",
          "2018-06-01T00:00:00.000000000",
          "2018-07-01T00:00:00.000000000",
          "2018-08-01T00:00:00.000000000",
          "2018-09-01T00:00:00.000000000",
          "2018-10-01T00:00:00.000000000",
          "2018-11-01T00:00:00.000000000",
          "2018-12-01T00:00:00.000000000",
          "2019-01-01T00:00:00.000000000",
          "2019-02-01T00:00:00.000000000",
          "2019-03-01T00:00:00.000000000",
          "2019-04-01T00:00:00.000000000",
          "2019-05-01T00:00:00.000000000",
          "2019-06-01T00:00:00.000000000",
          "2019-07-01T00:00:00.000000000",
          "2019-08-01T00:00:00.000000000",
          "2019-09-01T00:00:00.000000000",
          "2019-10-01T00:00:00.000000000",
          "2019-11-01T00:00:00.000000000",
          "2019-12-01T00:00:00.000000000",
          "2020-01-01T00:00:00.000000000",
          "2020-02-01T00:00:00.000000000",
          "2020-03-01T00:00:00.000000000",
          "2020-04-01T00:00:00.000000000",
          "2020-05-01T00:00:00.000000000",
          "2020-06-01T00:00:00.000000000",
          "2020-07-01T00:00:00.000000000",
          "2020-08-01T00:00:00.000000000",
          "2020-09-01T00:00:00.000000000",
          "2020-10-01T00:00:00.000000000",
          "2020-11-01T00:00:00.000000000",
          "2020-12-01T00:00:00.000000000",
          "2021-01-01T00:00:00.000000000",
          "2021-02-01T00:00:00.000000000",
          "2021-03-01T00:00:00.000000000",
          "2021-04-01T00:00:00.000000000",
          "2021-05-01T00:00:00.000000000",
          "2021-06-01T00:00:00.000000000",
          "2021-07-01T00:00:00.000000000",
          "2021-08-01T00:00:00.000000000",
          "2021-09-01T00:00:00.000000000",
          "2021-10-01T00:00:00.000000000",
          "2021-11-01T00:00:00.000000000",
          "2021-12-01T00:00:00.000000000",
          "2022-01-01T00:00:00.000000000",
          "2022-02-01T00:00:00.000000000",
          "2022-03-01T00:00:00.000000000",
          "2022-04-01T00:00:00.000000000",
          "2022-05-01T00:00:00.000000000",
          "2022-06-01T00:00:00.000000000",
          "2022-07-01T00:00:00.000000000",
          "2022-08-01T00:00:00.000000000",
          "2022-09-01T00:00:00.000000000",
          "2022-10-01T00:00:00.000000000",
          "2022-11-01T00:00:00.000000000",
          "2022-12-01T00:00:00.000000000",
          "2023-01-01T00:00:00.000000000",
          "2023-02-01T00:00:00.000000000",
          "2023-03-01T00:00:00.000000000",
          "2023-04-01T00:00:00.000000000",
          "2023-05-01T00:00:00.000000000",
          "2023-06-01T00:00:00.000000000",
          "2023-07-01T00:00:00.000000000",
          "2023-08-01T00:00:00.000000000",
          "2023-09-01T00:00:00.000000000",
          "2023-10-01T00:00:00.000000000",
          "2023-11-01T00:00:00.000000000",
          "2023-12-01T00:00:00.000000000",
          "2024-01-01T00:00:00.000000000",
          "2024-02-01T00:00:00.000000000",
          "2024-03-01T00:00:00.000000000",
          "2024-04-01T00:00:00.000000000",
          "2024-05-01T00:00:00.000000000",
          "2024-06-01T00:00:00.000000000",
          "2024-07-01T00:00:00.000000000",
          "2024-08-01T00:00:00.000000000",
          "2024-09-01T00:00:00.000000000",
          "2024-10-01T00:00:00.000000000",
          "2024-11-01T00:00:00.000000000",
          "2024-12-01T00:00:00.000000000",
          "2025-01-01T00:00:00.000000000",
          "2025-02-01T00:00:00.000000000"
         ],
         "y": {
          "bdata": "GMSoxaOsw0D1ZK0oPITAQEPp0IObbb5A2lrFk4smvUCvcSFlZs25QNKoJ93ARbhAY0I4P3QruUCxZr97zWG/QMh4aBsUXL9AParqsMe7vUBzV0oYGEa8QDmfQTY3xLlAS0ssjPAxt0CIyOnqf6S0QIGvoj18nrxAhEFXQFnevEDqLZKEjq+9QLqXJ+vGRrdAERLeYp4Ot0BSy9z7GIO1QFlU2FPN2LdA/aqCagrWuEBoG/vTYeK+QPTKOFK4fMBAGlbRTYhVwEAX9+YdHOW1QGYjbA1OCrNAfc9TTSxSs0BtzYShYoO3QFsBnX4tPLZACCF4OxnitkCu+wuyOJy1QDCBGunZWL5AoEK64P5xvUCoWoiQJNrAQPPpqnIIA7lA0XOgxWG5tkBGHyf298yyQDl/1pWWG7JA6etmq9TYs0BQeQ8YHDa3QLfQaYGISrpAyTrgorcJukDCXJjKQLy2QCITc4MmHbdABMuRPKrCtkCAoZCTcrO3QAaZMKIiQbVAtCAWUoHYs0CVZk4wqYKwQGcn0nGKI69A7nFCcIUSrUCpfEFsBC6wQDSkOacOIbJATngHMXA8tEB51OtFgR62QD7Ee6cDcbdAFhs8EYDvtUChMcumrRe1QOisEVaR6bBAec0tUG4hs0D2ygQhBqGxQOeEDkmVubRAPg8ZQDsdtUCA+l99oGqyQCB08bGAQbVAHnz0/CXgs0BBiTcz4qi3QMSaNUJ5mrBAXaWDErAttkAc+tpn7SmzQAaJVGNWFrVAKQYOK4Uxs0DNDmLqqzSxQO+b/hiOIbRA1yLcFl5hskC1noTbprW1QKZ4gQ2kubRAYjS49wOBs0BiybPLHgyzQJk7IFgFLrRAkvb+w6pPtEDJlj5uL/azQC+s/N0GlrFAbFgA4vhts0DZVlHI4kC0QK2oAY9mQLNAEBzvdQucskD+ISXNjx6xQMqUYIVrGK9AYvX/WdjWrkCcDf2Rm0+zQPsCvv6Z4bJAYEQQbgi3s0CsQGbmL4m2QBnvYLXaz7ZALnSysIact0CySSphi2u3QAIPahgnWLpA1iMojKwvuUAzz5RMcLq1QO+jfxiodbVAmGCpG6TGs0AaVR9xLju1QGO9xs7tYLZAuRlI91IOtUDKt4IjTiqxQN0H5ZsDRrJA61qHoarvtUDddBAEEme1QFQaEEuv37pAVwhUAqEvuUC9mtrnYym4QGkmkAVwmLNAYB3n6SAjs0DoDJ1ks6m1QPwooRPgR7ZAaTiIZoC/uUAydJb/gIu7QKu9TFO1jrlA3msFiofQukDTG0rjNm20QHt/v7RTP7pAIp5yD2H7vUAE/Y7htxLBQPf6bBV25cNA/7yinMypwkBdMTvq18vBQABGaZiqOLpA6PsPu2rctkB+tktHbii7QPkQCI+fF8BA1zy3U7Z+vkBiTCnylgi+QJ4rnPXgf7hAfyzHXk0ZtkBtc3vzMG+3QM8Ujzi3orpAsczMPlV4ukA1l5WX++K1QJvZhBgurLJA1yFHamyztED21TJ3j2i6QORDQcpQfbdATCU81mRruUD0VZyOLJO3QC2tBT/dybtAzMkB41Tat0BQuF8FpM+1QA/griZ8srVAh5DzR9iItEA0ukgR5Fa1QORlok+xO7RAQ13V24BetUBukHAJu9K4QELckFAeebtAq4GntEAuvECmQs5ytIK9QGNWM15XQb1AmHc0ozwNv0AxaK9r9+u7QNd/Y+bBiL1AePtBRq5ou0BonYz1r32/QGVotOZkdMBAwKE+S3IZw0BEHuutm1nBQE2KY/1KVcFAPNb9ix8Nv0AkVm1lNH7CQNl3QA6oHMJAhuRYep6IwECXrMyqY6O7QABus1moxb5A3SYDBvz9v0DrkrvRzzm/QP56aIC6XblAUGu4eyDKvEBNK1FU/QG+QDPg0RO9u79Ajfd2ij3EwUAI/cLe0QzDQA==",
          "dtype": "f8"
         }
        }
       ],
       "layout": {
        "font": {
         "color": "#1e293b",
         "family": "Georgia, serif"
        },
        "height": 500,
        "legend": {
         "font": {
          "family": "Georgia, serif",
          "size": 12
         },
         "orientation": "h",
         "x": 0.5,
         "xanchor": "center",
         "y": 1.02,
         "yanchor": "bottom"
        },
        "margin": {
         "b": 60,
         "l": 60,
         "r": 40,
         "t": 80
        },
        "paper_bgcolor": "white",
        "plot_bgcolor": "white",
        "template": {
         "data": {
          "bar": [
           {
            "error_x": {
             "color": "#2a3f5f"
            },
            "error_y": {
             "color": "#2a3f5f"
            },
            "marker": {
             "line": {
              "color": "#E5ECF6",
              "width": 0.5
             },
             "pattern": {
              "fillmode": "overlay",
              "size": 10,
              "solidity": 0.2
             }
            },
            "type": "bar"
           }
          ],
          "barpolar": [
           {
            "marker": {
             "line": {
              "color": "#E5ECF6",
              "width": 0.5
             },
             "pattern": {
              "fillmode": "overlay",
              "size": 10,
              "solidity": 0.2
             }
            },
            "type": "barpolar"
           }
          ],
          "carpet": [
           {
            "aaxis": {
             "endlinecolor": "#2a3f5f",
             "gridcolor": "white",
             "linecolor": "white",
             "minorgridcolor": "white",
             "startlinecolor": "#2a3f5f"
            },
            "baxis": {
             "endlinecolor": "#2a3f5f",
             "gridcolor": "white",
             "linecolor": "white",
             "minorgridcolor": "white",
             "startlinecolor": "#2a3f5f"
            },
            "type": "carpet"
           }
          ],
          "choropleth": [
           {
            "colorbar": {
             "outlinewidth": 0,
             "ticks": ""
            },
            "type": "choropleth"
           }
          ],
          "contour": [
           {
            "colorbar": {
             "outlinewidth": 0,
             "ticks": ""
            },
            "colorscale": [
             [
              0,
              "#0d0887"
             ],
             [
              0.1111111111111111,
              "#46039f"
             ],
             [
              0.2222222222222222,
              "#7201a8"
             ],
             [
              0.3333333333333333,
              "#9c179e"
             ],
             [
              0.4444444444444444,
              "#bd3786"
             ],
             [
              0.5555555555555556,
              "#d8576b"
             ],
             [
              0.6666666666666666,
              "#ed7953"
             ],
             [
              0.7777777777777778,
              "#fb9f3a"
             ],
             [
              0.8888888888888888,
              "#fdca26"
             ],
             [
              1,
              "#f0f921"
             ]
            ],
            "type": "contour"
           }
          ],
          "contourcarpet": [
           {
            "colorbar": {
             "outlinewidth": 0,
             "ticks": ""
            },
            "type": "contourcarpet"
           }
          ],
          "heatmap": [
           {
            "colorbar": {
             "outlinewidth": 0,
             "ticks": ""
            },
            "colorscale": [
             [
              0,
              "#0d0887"
             ],
             [
              0.1111111111111111,
              "#46039f"
             ],
             [
              0.2222222222222222,
              "#7201a8"
             ],
             [
              0.3333333333333333,
              "#9c179e"
             ],
             [
              0.4444444444444444,
              "#bd3786"
             ],
             [
              0.5555555555555556,
              "#d8576b"
             ],
             [
              0.6666666666666666,
              "#ed7953"
             ],
             [
              0.7777777777777778,
              "#fb9f3a"
             ],
             [
              0.8888888888888888,
              "#fdca26"
             ],
             [
              1,
              "#f0f921"
             ]
            ],
            "type": "heatmap"
           }
          ],
          "histogram": [
           {
            "marker": {
             "pattern": {
              "fillmode": "overlay",
              "size": 10,
              "solidity": 0.2
             }
            },
            "type": "histogram"
           }
          ],
          "histogram2d": [
           {
            "colorbar": {
             "outlinewidth": 0,
             "ticks": ""
            },
            "colorscale": [
             [
              0,
              "#0d0887"
             ],
             [
              0.1111111111111111,
              "#46039f"
             ],
             [
              0.2222222222222222,
              "#7201a8"
             ],
             [
              0.3333333333333333,
              "#9c179e"
             ],
             [
              0.4444444444444444,
              "#bd3786"
             ],
             [
              0.5555555555555556,
              "#d8576b"
             ],
             [
              0.6666666666666666,
              "#ed7953"
             ],
             [
              0.7777777777777778,
              "#fb9f3a"
             ],
             [
              0.8888888888888888,
              "#fdca26"
             ],
             [
              1,
              "#f0f921"
             ]
            ],
            "type": "histogram2d"
           }
          ],
          "histogram2dcontour": [
           {
            "colorbar": {
             "outlinewidth": 0,
             "ticks": ""
            },
            "colorscale": [
             [
              0,
              "#0d0887"
             ],
             [
              0.1111111111111111,
              "#46039f"
             ],
             [
              0.2222222222222222,
              "#7201a8"
             ],
             [
              0.3333333333333333,
              "#9c179e"
             ],
             [
              0.4444444444444444,
              "#bd3786"
             ],
             [
              0.5555555555555556,
              "#d8576b"
             ],
             [
              0.6666666666666666,
              "#ed7953"
             ],
             [
              0.7777777777777778,
              "#fb9f3a"
             ],
             [
              0.8888888888888888,
              "#fdca26"
             ],
             [
              1,
              "#f0f921"
             ]
            ],
            "type": "histogram2dcontour"
           }
          ],
          "mesh3d": [
           {
            "colorbar": {
             "outlinewidth": 0,
             "ticks": ""
            },
            "type": "mesh3d"
           }
          ],
          "parcoords": [
           {
            "line": {
             "colorbar": {
              "outlinewidth": 0,
              "ticks": ""
             }
            },
            "type": "parcoords"
           }
          ],
          "pie": [
           {
            "automargin": true,
            "type": "pie"
           }
          ],
          "scatter": [
           {
            "fillpattern": {
             "fillmode": "overlay",
             "size": 10,
             "solidity": 0.2
            },
            "type": "scatter"
           }
          ],
          "scatter3d": [
           {
            "line": {
             "colorbar": {
              "outlinewidth": 0,
              "ticks": ""
             }
            },
            "marker": {
             "colorbar": {
              "outlinewidth": 0,
              "ticks": ""
             }
            },
            "type": "scatter3d"
           }
          ],
          "scattercarpet": [
           {
            "marker": {
             "colorbar": {
              "outlinewidth": 0,
              "ticks": ""
             }
            },
            "type": "scattercarpet"
           }
          ],
          "scattergeo": [
           {
            "marker": {
             "colorbar": {
              "outlinewidth": 0,
              "ticks": ""
             }
            },
            "type": "scattergeo"
           }
          ],
          "scattergl": [
           {
            "marker": {
             "colorbar": {
              "outlinewidth": 0,
              "ticks": ""
             }
            },
            "type": "scattergl"
           }
          ],
          "scattermap": [
           {
            "marker": {
             "colorbar": {
              "outlinewidth": 0,
              "ticks": ""
             }
            },
            "type": "scattermap"
           }
          ],
          "scattermapbox": [
           {
            "marker": {
             "colorbar": {
              "outlinewidth": 0,
              "ticks": ""
             }
            },
            "type": "scattermapbox"
           }
          ],
          "scatterpolar": [
           {
            "marker": {
             "colorbar": {
              "outlinewidth": 0,
              "ticks": ""
             }
            },
            "type": "scatterpolar"
           }
          ],
          "scatterpolargl": [
           {
            "marker": {
             "colorbar": {
              "outlinewidth": 0,
              "ticks": ""
             }
            },
            "type": "scatterpolargl"
           }
          ],
          "scatterternary": [
           {
            "marker": {
             "colorbar": {
              "outlinewidth": 0,
              "ticks": ""
             }
            },
            "type": "scatterternary"
           }
          ],
          "surface": [
           {
            "colorbar": {
             "outlinewidth": 0,
             "ticks": ""
            },
            "colorscale": [
             [
              0,
              "#0d0887"
             ],
             [
              0.1111111111111111,
              "#46039f"
             ],
             [
              0.2222222222222222,
              "#7201a8"
             ],
             [
              0.3333333333333333,
              "#9c179e"
             ],
             [
              0.4444444444444444,
              "#bd3786"
             ],
             [
              0.5555555555555556,
              "#d8576b"
             ],
             [
              0.6666666666666666,
              "#ed7953"
             ],
             [
              0.7777777777777778,
              "#fb9f3a"
             ],
             [
              0.8888888888888888,
              "#fdca26"
             ],
             [
              1,
              "#f0f921"
             ]
            ],
            "type": "surface"
           }
          ],
          "table": [
           {
            "cells": {
             "fill": {
              "color": "#EBF0F8"
             },
             "line": {
              "color": "white"
             }
            },
            "header": {
             "fill": {
              "color": "#C8D4E3"
             },
             "line": {
              "color": "white"
             }
            },
            "type": "table"
           }
          ]
         },
         "layout": {
          "annotationdefaults": {
           "arrowcolor": "#2a3f5f",
           "arrowhead": 0,
           "arrowwidth": 1
          },
          "autotypenumbers": "strict",
          "coloraxis": {
           "colorbar": {
            "outlinewidth": 0,
            "ticks": ""
           }
          },
          "colorscale": {
           "diverging": [
            [
             0,
             "#8e0152"
            ],
            [
             0.1,
             "#c51b7d"
            ],
            [
             0.2,
             "#de77ae"
            ],
            [
             0.3,
             "#f1b6da"
            ],
            [
             0.4,
             "#fde0ef"
            ],
            [
             0.5,
             "#f7f7f7"
            ],
            [
             0.6,
             "#e6f5d0"
            ],
            [
             0.7,
             "#b8e186"
            ],
            [
             0.8,
             "#7fbc41"
            ],
            [
             0.9,
             "#4d9221"
            ],
            [
             1,
             "#276419"
            ]
           ],
           "sequential": [
            [
             0,
             "#0d0887"
            ],
            [
             0.1111111111111111,
             "#46039f"
            ],
            [
             0.2222222222222222,
             "#7201a8"
            ],
            [
             0.3333333333333333,
             "#9c179e"
            ],
            [
             0.4444444444444444,
             "#bd3786"
            ],
            [
             0.5555555555555556,
             "#d8576b"
            ],
            [
             0.6666666666666666,
             "#ed7953"
            ],
            [
             0.7777777777777778,
             "#fb9f3a"
            ],
            [
             0.8888888888888888,
             "#fdca26"
            ],
            [
             1,
             "#f0f921"
            ]
           ],
           "sequentialminus": [
            [
             0,
             "#0d0887"
            ],
            [
             0.1111111111111111,
             "#46039f"
            ],
            [
             0.2222222222222222,
             "#7201a8"
            ],
            [
             0.3333333333333333,
             "#9c179e"
            ],
            [
             0.4444444444444444,
             "#bd3786"
            ],
            [
             0.5555555555555556,
             "#d8576b"
            ],
            [
             0.6666666666666666,
             "#ed7953"
            ],
            [
             0.7777777777777778,
             "#fb9f3a"
            ],
            [
             0.8888888888888888,
             "#fdca26"
            ],
            [
             1,
             "#f0f921"
            ]
           ]
          },
          "colorway": [
           "#636efa",
           "#EF553B",
           "#00cc96",
           "#ab63fa",
           "#FFA15A",
           "#19d3f3",
           "#FF6692",
           "#B6E880",
           "#FF97FF",
           "#FECB52"
          ],
          "font": {
           "color": "#2a3f5f"
          },
          "geo": {
           "bgcolor": "white",
           "lakecolor": "white",
           "landcolor": "#E5ECF6",
           "showlakes": true,
           "showland": true,
           "subunitcolor": "white"
          },
          "hoverlabel": {
           "align": "left"
          },
          "hovermode": "closest",
          "mapbox": {
           "style": "light"
          },
          "paper_bgcolor": "white",
          "plot_bgcolor": "#E5ECF6",
          "polar": {
           "angularaxis": {
            "gridcolor": "white",
            "linecolor": "white",
            "ticks": ""
           },
           "bgcolor": "#E5ECF6",
           "radialaxis": {
            "gridcolor": "white",
            "linecolor": "white",
            "ticks": ""
           }
          },
          "scene": {
           "xaxis": {
            "backgroundcolor": "#E5ECF6",
            "gridcolor": "white",
            "gridwidth": 2,
            "linecolor": "white",
            "showbackground": true,
            "ticks": "",
            "zerolinecolor": "white"
           },
           "yaxis": {
            "backgroundcolor": "#E5ECF6",
            "gridcolor": "white",
            "gridwidth": 2,
            "linecolor": "white",
            "showbackground": true,
            "ticks": "",
            "zerolinecolor": "white"
           },
           "zaxis": {
            "backgroundcolor": "#E5ECF6",
            "gridcolor": "white",
            "gridwidth": 2,
            "linecolor": "white",
            "showbackground": true,
            "ticks": "",
            "zerolinecolor": "white"
           }
          },
          "shapedefaults": {
           "line": {
            "color": "#2a3f5f"
           }
          },
          "ternary": {
           "aaxis": {
            "gridcolor": "white",
            "linecolor": "white",
            "ticks": ""
           },
           "baxis": {
            "gridcolor": "white",
            "linecolor": "white",
            "ticks": ""
           },
           "bgcolor": "#E5ECF6",
           "caxis": {
            "gridcolor": "white",
            "linecolor": "white",
            "ticks": ""
           }
          },
          "title": {
           "x": 0.05
          },
          "xaxis": {
           "automargin": true,
           "gridcolor": "white",
           "linecolor": "white",
           "ticks": "",
           "title": {
            "standoff": 15
           },
           "zerolinecolor": "white",
           "zerolinewidth": 2
          },
          "yaxis": {
           "automargin": true,
           "gridcolor": "white",
           "linecolor": "white",
           "ticks": "",
           "title": {
            "standoff": 15
           },
           "zerolinecolor": "white",
           "zerolinewidth": 2
          }
         }
        },
        "title": {
         "text": "Comparación del Desempleo por Sexo - Región de Los Ríos"
        },
        "xaxis": {
         "gridcolor": "#E5E5E5",
         "gridwidth": 0.5,
         "showgrid": true,
         "tickfont": {
          "family": "Georgia, serif"
         },
         "title": {
          "text": "Período"
         }
        },
        "yaxis": {
         "gridcolor": "#E5E5E5",
         "gridwidth": 0.5,
         "showgrid": true,
         "tickfont": {
          "family": "Georgia, serif"
         },
         "tickformat": ",",
         "title": {
          "text": "Número de Personas Desocupadas"
         }
        }
       }
      }
     },
     "metadata": {},
     "output_type": "display_data"
    }
   ],
   "source": [
    "# Preparar datos por sexo (incluye Total)\n",
    "df_sexo = df[df[\"dimension\"] == \"sexo\"].copy()\n",
    "df_sexo[\"periodo\"] = pd.to_datetime(df_sexo[\"periodo\"].astype(str).str[:10])\n",
    "\n",
    "# Mapear códigos de sexo\n",
    "etiquetas_sexo = {\n",
    "    \"F\": \"Mujeres\",\n",
    "    \"M\": \"Hombres\",\n",
    "    \"_T\": \"Total\"\n",
    "}\n",
    "\n",
    "df_sexo[\"sexo_label\"] = df_sexo[\"categoria\"].map(etiquetas_sexo)\n",
    "# Incluir Hombres, Mujeres y Total\n",
    "orden_series = [\"Hombres\", \"Mujeres\", \"Total\"]\n",
    "df_sexo_filtrado = df_sexo[df_sexo[\"sexo_label\"].isin(orden_series)]\n",
    "\n",
    "# Crear gráfico comparativo con estilo más claro (líneas más delgadas)\n",
    "fig = go.Figure()\n",
    "\n",
    "colores_sexo_daltonico = {\n",
    "    \"Hombres\": economist_colors[1],   # Azul\n",
    "    \"Mujeres\": economist_colors[0],   # Amarillo\n",
    "    \"Total\":   economist_colors[2]    # Gris\n",
    "}\n",
    "\n",
    "for sexo in orden_series:\n",
    "    data_sexo = df_sexo_filtrado[df_sexo_filtrado[\"sexo_label\"] == sexo]\n",
    "    if data_sexo.empty:\n",
    "        continue\n",
    "\n",
    "    if sexo == \"Total\":\n",
    "        # Total: línea discontinua, sin marcadores, un poco tenue\n",
    "        fig.add_trace(go.Scatter(\n",
    "            x=data_sexo[\"periodo\"],\n",
    "            y=data_sexo[\"valor\"],\n",
    "            mode='lines',\n",
    "            line=dict(color=colores_sexo_daltonico[sexo], width=2.2, dash='dash'),\n",
    "            opacity=0.9,\n",
    "            name=sexo,\n",
    "            hovertemplate=f'<b>{sexo}</b><br>Fecha: %{{x}}<br>Personas: %{{y:,.0f}}<extra></extra>'\n",
    "        ))\n",
    "    else:\n",
    "        # Hombres/Mujeres: líneas + marcadores, más delgadas y marcadores pequeños\n",
    "        fig.add_trace(go.Scatter(\n",
    "            x=data_sexo[\"periodo\"],\n",
    "            y=data_sexo[\"valor\"],\n",
    "            mode='lines+markers',\n",
    "            line=dict(color=colores_sexo_daltonico[sexo], width=2.4),\n",
    "            marker=dict(size=5, color=colores_sexo_daltonico[sexo], line=dict(color='white', width=1)),\n",
    "            name=sexo,\n",
    "            hovertemplate=f'<b>{sexo}</b><br>Fecha: %{{x}}<br>Personas: %{{y:,.0f}}<extra></extra>'\n",
    "        ))\n",
    "\n",
    "# Aplicar estilo The Economist\n",
    "fig = apply_economist_style(fig)\n",
    "\n",
    "fig.update_layout(\n",
    "    title=\"Comparación del Desempleo por Sexo - Región de Los Ríos\",\n",
    "    xaxis_title=\"Período\",\n",
    "    yaxis_title=\"Número de Personas Desocupadas\",\n",
    "    height=500,\n",
    "    legend=dict(\n",
    "        orientation=\"h\",\n",
    "        yanchor=\"bottom\",\n",
    "        y=1.02,\n",
    "        xanchor=\"center\",\n",
    "        x=0.5,\n",
    "        font=dict(size=12)\n",
    "    )\n",
    ")\n",
    "\n",
    "fig.update_yaxes(tickformat=',')\n",
    "fig.show()"
   ]
  },
  {
   "cell_type": "markdown",
   "id": "5e76d423",
   "metadata": {},
   "source": [
    "## 📈 Resumen Estadístico y Tendencias Clave\n",
    "\n",
    "Principales hallazgos del análisis exploratorio."
   ]
  },
  {
   "cell_type": "markdown",
   "id": "b348567f",
   "metadata": {},
   "source": [
    "## 🎨 Verificación de Paleta de Colores Accesible\n",
    "\n",
    "Demostración de la paleta de colores utilizada, diseñada para facilitar la visualización y comprensión de los datos."
   ]
  },
  {
   "cell_type": "code",
   "execution_count": 11,
   "id": "a80323c0",
   "metadata": {},
   "outputs": [
    {
     "name": "stdout",
     "output_type": "stream",
     "text": [
      "📊 RESUMEN ESTADÍSTICO - DESEMPLEO REGIÓN DE LOS RÍOS\n",
      "============================================================\n",
      "\n",
      "🔍 DATOS GENERALES:\n",
      "• Período analizado: 2010-01 a 2025-02\n",
      "• Promedio de desocupados: 279,049 personas\n",
      "• Máximo histórico: 520,387 personas\n",
      "• Mínimo histórico: 200,728 personas\n",
      "\n",
      "👥 ANÁLISIS POR SEXO:\n",
      "• Hombres: 6,101 personas promedio\n",
      "• Mujeres: 6,281 personas promedio\n",
      "\n",
      "📊 GRUPOS ETARIOS MÁS AFECTADOS:\n",
      "1. 25-34 años: 5,253 personas promedio\n",
      "2. 15-24 años: 4,220 personas promedio\n",
      "3. 35-44 años: 3,779 personas promedio\n",
      "\n",
      "🎯 TENDENCIA GENERAL:\n",
      "📈 CRECIENTE: +43.4% desde el inicio del período\n",
      "• Brecha de género: 180 personas más en Mujeres\n",
      "\n",
      "============================================================\n",
      "✅ Análisis completado exitosamente\n"
     ]
    }
   ],
   "source": [
    "# Calcular estadísticas resumen\n",
    "print(\"📊 RESUMEN ESTADÍSTICO - DESEMPLEO REGIÓN DE LOS RÍOS\")\n",
    "print(\"=\" * 60)\n",
    "\n",
    "# Usar datos ya procesados de las celdas anteriores\n",
    "# 1. Estadísticas generales del período\n",
    "print(f\"\\n🔍 DATOS GENERALES:\")\n",
    "print(f\"• Período analizado: {df_temporal['periodo'].min().strftime('%Y-%m')} a {df_temporal['periodo'].max().strftime('%Y-%m')}\")\n",
    "print(f\"• Promedio de desocupados: {df_temporal['valor'].mean():,.0f} personas\")\n",
    "print(f\"• Máximo histórico: {df_temporal['valor'].max():,.0f} personas\")\n",
    "print(f\"• Mínimo histórico: {df_temporal['valor'].min():,.0f} personas\")\n",
    "\n",
    "# 2. Análisis por sexo (usando datos procesados)\n",
    "print(f\"\\n👥 ANÁLISIS POR SEXO:\")\n",
    "sexo_resumen = df_sexo_filtrado.groupby(\"sexo_label\")[\"valor\"].mean()\n",
    "for sexo, promedio in sexo_resumen.items():\n",
    "    print(f\"• {sexo}: {promedio:,.0f} personas promedio\")\n",
    "\n",
    "# 3. Análisis por tramo etario\n",
    "print(f\"\\n📊 GRUPOS ETARIOS MÁS AFECTADOS:\")\n",
    "promedio_por_edad = df_edad_filtrado.groupby(\"categoria_label\")[\"valor\"].mean().sort_values(ascending=False)\n",
    "for i, (grupo, promedio) in enumerate(promedio_por_edad.head(3).items()):\n",
    "    print(f\"{i+1}. {grupo}: {promedio:,.0f} personas promedio\")\n",
    "\n",
    "# 4. Tendencia general usando datos ya procesados\n",
    "print(f\"\\n🎯 TENDENCIA GENERAL:\")\n",
    "primer_valor = df_temporal['valor'].iloc[0]\n",
    "ultimo_valor = df_temporal['valor'].iloc[-1]\n",
    "cambio_porcentual = ((ultimo_valor - primer_valor) / primer_valor) * 100\n",
    "\n",
    "if cambio_porcentual > 0:\n",
    "    print(f\"📈 CRECIENTE: +{cambio_porcentual:.1f}% desde el inicio del período\")\n",
    "else:\n",
    "    print(f\"📉 DECRECIENTE: {cambio_porcentual:.1f}% desde el inicio del período\")\n",
    "\n",
    "# 5. Comparación por sexo\n",
    "diff_sexo = abs(sexo_resumen[\"Mujeres\"] - sexo_resumen[\"Hombres\"])\n",
    "sexo_mayor = \"Mujeres\" if sexo_resumen[\"Mujeres\"] > sexo_resumen[\"Hombres\"] else \"Hombres\"\n",
    "print(f\"• Brecha de género: {diff_sexo:,.0f} personas más en {sexo_mayor}\")\n",
    "\n",
    "print(\"\\n\" + \"=\" * 60)\n",
    "print(\"✅ Análisis completado exitosamente\")"
   ]
  },
  {
   "cell_type": "markdown",
   "id": "280aadbb",
   "metadata": {},
   "source": [
    "## 👥 Comparación del Desempleo por Sexo\n",
    "\n",
    "Este gráfico muestra la evolución del desempleo en la Región de Los Ríos diferenciando entre hombres y mujeres. Se utilizan colores amarillo y azul para distinguir ambos grupos, siguiendo la paleta accesible definida para todo el análisis.\n",
    "\n",
    "- **Hombres:** Línea azul\n",
    "- **Mujeres:** Línea amarilla\n",
    "\n",
    "La visualización permite identificar tendencias y posibles brechas de género en el desempleo a lo largo del tiempo. El estilo The Economist asegura claridad y profesionalismo en la presentación."
   ]
  }
 ],
 "metadata": {
  "kernelspec": {
   "display_name": ".venv",
   "language": "python",
   "name": "python3"
  },
  "language_info": {
   "codemirror_mode": {
    "name": "ipython",
    "version": 3
   },
   "file_extension": ".py",
   "mimetype": "text/x-python",
   "name": "python",
   "nbconvert_exporter": "python",
   "pygments_lexer": "ipython3",
   "version": "3.13.3"
  }
 },
 "nbformat": 4,
 "nbformat_minor": 5
}
